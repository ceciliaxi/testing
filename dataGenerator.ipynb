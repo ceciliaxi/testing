{
 "cells": [
  {
   "cell_type": "code",
   "execution_count": 3,
   "id": "acfa0f35",
   "metadata": {},
   "outputs": [],
   "source": [
    "import numpy as np\n",
    "import pandas as pd\n",
    "import h5py\n",
    "import os\n",
    "\n",
    "import matplotlib.pyplot as plt"
   ]
  },
  {
   "cell_type": "markdown",
   "id": "63e9b8ab",
   "metadata": {},
   "source": [
    "#### Sample usage"
   ]
  },
  {
   "cell_type": "code",
   "execution_count": 4,
   "id": "f254d0aa",
   "metadata": {},
   "outputs": [],
   "source": [
    "# # Create a dictionary storing NumPy arrays\n",
    "# data = np.random.random(size = 4)\n",
    "# label = np.random.random(size = 4)\n",
    "\n",
    "# # Open HDF5 file and write in the data\n",
    "# data_path = 'data/tmp.hdf5'\n",
    "# f = h5py.File(data_path, 'w')\n",
    "# f.create_dataset('data', data=data)\n",
    "# f.create_dataset('labels', data=label)\n",
    "# f.close()"
   ]
  },
  {
   "cell_type": "code",
   "execution_count": 5,
   "id": "1a8cb5cb",
   "metadata": {},
   "outputs": [],
   "source": [
    "# # Re-open HDF5 file and read out the data\n",
    "# f = h5py.File(data_path, \"r\")\n",
    "# data = np.array(f['data'])\n",
    "# label = np.array(f['labels'])\n",
    "# f.close()\n",
    "\n",
    "# print(np.shape(data))\n",
    "# print(np.shape(label))"
   ]
  },
  {
   "cell_type": "code",
   "execution_count": 6,
   "id": "97704d32",
   "metadata": {},
   "outputs": [],
   "source": [
    "# # Remove temporary data file\n",
    "# if os.path.isfile(data_path): os.remove(data_path)"
   ]
  },
  {
   "cell_type": "code",
   "execution_count": null,
   "id": "17876316",
   "metadata": {},
   "outputs": [],
   "source": []
  },
  {
   "cell_type": "markdown",
   "id": "29382f02",
   "metadata": {},
   "source": [
    "#### Slice the data for training, validation, and testing"
   ]
  },
  {
   "cell_type": "code",
   "execution_count": 5,
   "id": "89566e16",
   "metadata": {},
   "outputs": [],
   "source": [
    "# Dataset reference: https://arxiv.org/pdf/2201.07284.pdf\n",
    "data_root = '../../../Prior/TS_analysis/Datasets/Public/multivariate/SMD/ServerMachineDataset/'\n",
    "sel_feats = ['value-' + str(i) for i in range(38)]\n",
    "lab_col = 'is_anomaly'"
   ]
  },
  {
   "cell_type": "code",
   "execution_count": 6,
   "id": "0387517e",
   "metadata": {},
   "outputs": [
    {
     "name": "stdout",
     "output_type": "stream",
     "text": [
      "machine-1-1 (500, 38) (1000, 38)\n",
      "machine-2-1 (500, 38) (1000, 38)\n",
      "machine-3-2 (500, 38) (1000, 38)\n",
      "machine-3-7 (500, 38) (1000, 38)\n"
     ]
    }
   ],
   "source": [
    "## For training and validation data\n",
    "tr_num, val_num = 1000, 500\n",
    "datasets = ['machine-1-1', 'machine-2-1', 'machine-3-2', 'machine-3-7']\n",
    "\n",
    "for dataset in datasets: \n",
    "    # Load the data\n",
    "    tmp_path = data_root + 'train/' + dataset + '.txt'\n",
    "    tmp_df = pd.read_csv(tmp_path, header=None)\n",
    "    tmp_df.columns = sel_feats\n",
    "    tmp_df[lab_col] = 0\n",
    "    \n",
    "    # Slice the data and label\n",
    "    # val_data = np.array(tmp_df[sel_feats].iloc[-val_num:])\n",
    "    # tr_data = np.array(tmp_df[sel_feats].iloc[-(val_num + tr_num):-val_num])\n",
    "    # val_label = np.array(tmp_df[lab_col].iloc[-val_num:])\n",
    "    # tr_label = np.array(tmp_df[lab_col].iloc[-(val_num + tr_num):-val_num])\n",
    "\n",
    "    val_data = np.array(tmp_df[sel_feats].iloc[tr_num:tr_num+val_num])\n",
    "    tr_data = np.array(tmp_df[sel_feats].iloc[:tr_num])\n",
    "    val_label = np.array(tmp_df[lab_col].iloc[tr_num:tr_num+val_num])\n",
    "    tr_label = np.array(tmp_df[lab_col].iloc[:tr_num])\n",
    "\n",
    "    val_label = np.asfarray(np.eye(2)[val_label])\n",
    "    tr_label = np.asfarray(np.eye(2)[tr_label])\n",
    "    \n",
    "    # Save data and label to file\n",
    "    print(dataset, np.shape(val_data), np.shape(tr_data))\n",
    "    h5py_root = 'data/'\n",
    "    tr_path = h5py_root + dataset + '_train_features.hdf5'\n",
    "    val_path = h5py_root + dataset + '_val_features.hdf5'\n",
    "    \n",
    "    f = h5py.File(tr_path, 'w')\n",
    "    f.create_dataset('data', data=tr_data)\n",
    "    f.create_dataset('labels', data=tr_label)\n",
    "    f.close()\n",
    "\n",
    "    f = h5py.File(val_path, 'w')\n",
    "    f.create_dataset('data', data=val_data)\n",
    "    f.create_dataset('labels', data=val_label)\n",
    "    f.close()"
   ]
  },
  {
   "cell_type": "code",
   "execution_count": 7,
   "id": "78f59b87",
   "metadata": {},
   "outputs": [
    {
     "name": "stdout",
     "output_type": "stream",
     "text": [
      "(1000, 38)\n",
      "(1000, 2)\n"
     ]
    }
   ],
   "source": [
    "f = h5py.File(tr_path, \"r\")\n",
    "data = np.array(f['data'])\n",
    "label = np.array(f['labels'])\n",
    "f.close()\n",
    "\n",
    "print(np.shape(data))\n",
    "print(np.shape(label))"
   ]
  },
  {
   "cell_type": "code",
   "execution_count": 8,
   "id": "0c159c01",
   "metadata": {},
   "outputs": [
    {
     "name": "stdout",
     "output_type": "stream",
     "text": [
      "(500, 38)\n",
      "(500, 2)\n"
     ]
    }
   ],
   "source": [
    "f = h5py.File(val_path, \"r\")\n",
    "data = np.array(f['data'])\n",
    "label = np.array(f['labels'])\n",
    "f.close()\n",
    "\n",
    "print(np.shape(data))\n",
    "print(np.shape(label))"
   ]
  },
  {
   "cell_type": "code",
   "execution_count": 9,
   "id": "7f519d0e",
   "metadata": {},
   "outputs": [
    {
     "name": "stdout",
     "output_type": "stream",
     "text": [
      "machine-1-1 (28478, 38) (28478, 2)\n",
      "machine-2-1 (23693, 38) (23693, 2)\n",
      "machine-3-2 (23702, 38) (23702, 2)\n",
      "machine-3-7 (28704, 38) (28704, 2)\n"
     ]
    }
   ],
   "source": [
    "## For testing data\n",
    "for dataset in datasets: \n",
    "    # Load the data\n",
    "    tmp_path = data_root + 'test/' + dataset + '.txt'\n",
    "    tmp_df = pd.read_csv(tmp_path)\n",
    "    tmp_df.columns = sel_feats\n",
    "\n",
    "    # Load the label\n",
    "    lab_path = data_root + 'test_label/' + dataset + '.txt'\n",
    "    lab_df = pd.read_csv(lab_path)\n",
    "    tmp_df[lab_col] = list(lab_df.iloc[:,0].apply(lambda x: int(x)))\n",
    "    \n",
    "    # Slice the data and label\n",
    "    te_data = np.array(tmp_df[sel_feats])\n",
    "    te_label = np.array(tmp_df[lab_col])\n",
    "    te_label = np.asfarray(np.eye(2)[te_label])\n",
    "    \n",
    "    # Save data and label to file\n",
    "    print(dataset, np.shape(te_data), np.shape(te_label))\n",
    "    h5py_root = 'data/'\n",
    "    te_path = h5py_root + dataset + '_features.hdf5'\n",
    "    \n",
    "    f = h5py.File(te_path, 'w')\n",
    "    f.create_dataset('data', data=te_data)\n",
    "    f.create_dataset('labels', data=te_label)\n",
    "    f.close()"
   ]
  },
  {
   "cell_type": "code",
   "execution_count": 10,
   "id": "3c806b9e",
   "metadata": {},
   "outputs": [
    {
     "name": "stdout",
     "output_type": "stream",
     "text": [
      "(28704, 38)\n",
      "(28704, 2)\n"
     ]
    }
   ],
   "source": [
    "f = h5py.File(te_path, \"r\")\n",
    "data = np.array(f['data'])\n",
    "label = np.array(f['labels'])\n",
    "f.close()\n",
    "\n",
    "print(np.shape(data))\n",
    "print(np.shape(label))"
   ]
  },
  {
   "cell_type": "code",
   "execution_count": null,
   "id": "9fdfdfa3-8db4-431f-8fc2-300f8326cd42",
   "metadata": {},
   "outputs": [],
   "source": []
  },
  {
   "cell_type": "code",
   "execution_count": null,
   "id": "9260a6bf-a7de-4140-beb2-dd9c693d7b48",
   "metadata": {},
   "outputs": [],
   "source": []
  },
  {
   "cell_type": "code",
   "execution_count": null,
   "id": "b22c0b7d-8fe2-4b69-9d3c-f8c5ff8dd492",
   "metadata": {},
   "outputs": [],
   "source": []
  },
  {
   "cell_type": "code",
   "execution_count": 117,
   "id": "0ac79f28-94c0-48e9-889a-909da76dba3c",
   "metadata": {},
   "outputs": [
    {
     "name": "stdout",
     "output_type": "stream",
     "text": [
      "[1.0, 0.296494, 0.250403, 0.268679, 1.0, 0.999464, 0.871121, 0.0, 0.843658, 0.832566, 0.844969, 0.968696, 0.465753, 0.44558, 1.0, 0.567229, 1.0, 0.153846, 1.0, 1.0, 1.0, 1.0, 1.0, 0.732394, 1.0, 0.727273, 0.0, 1.0, 0.0, 1.0, 1.0, 0.74359, 1.0, 0.142132, 1.0, 1.0, 0.0, 0.0, 0.0]\n"
     ]
    },
    {
     "name": "stderr",
     "output_type": "stream",
     "text": [
      "C:\\Users\\XiYang\\anaconda3\\envs\\da\\lib\\site-packages\\numpy\\core\\fromnumeric.py:84: FutureWarning:\n",
      "\n",
      "In a future version, DataFrame.max(axis=None) will return a scalar max over the entire DataFrame. To retain the old behavior, use 'frame.max(axis=0)' or just 'frame.max()'\n",
      "\n"
     ]
    }
   ],
   "source": [
    "## For training and validation data\n",
    "tr_num, val_num = 1000, 500\n",
    "datasets = ['machine-2-1'] #['machine-1-1', 'machine-2-1', 'machine-3-2', 'machine-3-7']\n",
    "\n",
    "for dataset in datasets:\n",
    "    # Load the data\n",
    "    tmp_path = data_root + 'train/' + dataset + '.txt'\n",
    "    tmp_df = pd.read_csv(tmp_path, header=None)\n",
    "    tmp_df.columns = sel_feats\n",
    "    tmp_df[lab_col] = 0\n",
    "    # plt.plot(tmp_df.iloc[:,0])\n",
    "    print(np.max(tmp_df).tolist())\n",
    "\n",
    "# for dataset in datasets: \n",
    "#     # Load the data\n",
    "#     tmp_path = data_root + 'test/' + dataset + '.txt'\n",
    "#     tmp_df = pd.read_csv(tmp_path, header=None)\n",
    "#     tmp_df.columns = sel_feats\n",
    "#     tmp_df[lab_col] = 0\n",
    "#     plt.plot(tmp_df.iloc[:,0])"
   ]
  },
  {
   "cell_type": "code",
   "execution_count": null,
   "id": "888b3ddd-44f0-48ac-8891-b4d9d7e5d5ac",
   "metadata": {},
   "outputs": [],
   "source": []
  },
  {
   "cell_type": "code",
   "execution_count": null,
   "id": "1c28b30d-8dce-4efc-83ff-bb86d27fc5dd",
   "metadata": {},
   "outputs": [],
   "source": []
  },
  {
   "cell_type": "code",
   "execution_count": null,
   "id": "db675819-c99a-42ce-a048-91334f77b255",
   "metadata": {},
   "outputs": [],
   "source": []
  },
  {
   "cell_type": "code",
   "execution_count": null,
   "id": "55010a80-55e0-4d0a-a0cb-2b757d12b11a",
   "metadata": {},
   "outputs": [],
   "source": []
  },
  {
   "cell_type": "code",
   "execution_count": null,
   "id": "6fdd951d-c47a-4c6a-9e16-6bbc3f8d81c2",
   "metadata": {},
   "outputs": [],
   "source": []
  },
  {
   "cell_type": "code",
   "execution_count": null,
   "id": "175e2d7a-806d-4bbe-a154-fb6656107d45",
   "metadata": {},
   "outputs": [],
   "source": []
  },
  {
   "cell_type": "markdown",
   "id": "a2bca14f-d5ce-4218-8a73-9e449afa6e49",
   "metadata": {},
   "source": [
    "#### VAE-AD"
   ]
  },
  {
   "cell_type": "code",
   "execution_count": 109,
   "id": "8e5d2821-9119-4064-9202-316fa5bf03a6",
   "metadata": {},
   "outputs": [
    {
     "data": {
      "text/plain": [
       "(1000, 38)"
      ]
     },
     "execution_count": 109,
     "metadata": {},
     "output_type": "execute_result"
    }
   ],
   "source": [
    "datasets = ['machine-1-1'] #['machine-2-1', 'machine-3-2', 'machine-3-7'] # ['machine-1-1', 'machine-2-1', 'machine-3-2', 'machine-3-7']\n",
    "tr_num, val_num = 1000, 500\n",
    "\n",
    "tr_data_list = []\n",
    "for dataset in datasets: \n",
    "    # Load the data\n",
    "    tmp_path = data_root + 'train/' + dataset + '.txt'\n",
    "    tmp_df = pd.read_csv(tmp_path, header=None)\n",
    "    tmp_df.columns = sel_feats\n",
    "    tmp_df[lab_col] = 0\n",
    "    \n",
    "    # Slice the data and label\n",
    "    val_data = np.array(tmp_df[sel_feats].iloc[tr_num:tr_num+val_num])\n",
    "    tr_data = np.array(tmp_df[sel_feats].iloc[:tr_num])\n",
    "    val_label = np.array(tmp_df[lab_col].iloc[tr_num:tr_num+val_num])\n",
    "    tr_label = np.array(tmp_df[lab_col].iloc[:tr_num])\n",
    "    tr_data_list.append(tr_data)\n",
    "\n",
    "tr_data = np.concatenate(tr_data_list)\n",
    "np.shape(tr_data)"
   ]
  },
  {
   "cell_type": "code",
   "execution_count": 110,
   "id": "d1faf8c5-d692-4b22-bdfa-d415c7b8a5ba",
   "metadata": {},
   "outputs": [],
   "source": [
    "datasets = ['machine-1-1'] \n",
    "\n",
    "for dataset in datasets: \n",
    "    # Load the data\n",
    "    tmp_path = data_root + 'test/' + dataset + '.txt'\n",
    "    tmp_df = pd.read_csv(tmp_path)\n",
    "    tmp_df.columns = sel_feats\n",
    "\n",
    "    # Load the label\n",
    "    lab_path = data_root + 'test_label/' + dataset + '.txt'\n",
    "    lab_df = pd.read_csv(lab_path)\n",
    "    tmp_df[lab_col] = list(lab_df.iloc[:,0].apply(lambda x: int(x)))\n",
    "    \n",
    "    # Slice the data and label\n",
    "    te_data = np.array(tmp_df[sel_feats])\n",
    "    te_label = np.array(tmp_df[lab_col])"
   ]
  },
  {
   "cell_type": "code",
   "execution_count": null,
   "id": "60d1e846-714f-4702-b20f-6676e20c871f",
   "metadata": {},
   "outputs": [],
   "source": []
  },
  {
   "cell_type": "code",
   "execution_count": 111,
   "id": "1953eaf7-bb84-44cb-9156-8801dcc426fd",
   "metadata": {},
   "outputs": [],
   "source": [
    "from merlion.utils import TimeSeries\n",
    "\n",
    "# We initialize models using the model factory in this tutorial\n",
    "# We manually set the detection threshold to 2 (in standard deviation units) for all models\n",
    "from merlion.models.factory import ModelFactory\n",
    "from merlion.post_process.threshold import AggregateAlarms\n",
    "from metrics.eval_metrics import *"
   ]
  },
  {
   "cell_type": "code",
   "execution_count": 112,
   "id": "fca6cd30-8236-4b5d-8c00-d2921342b021",
   "metadata": {},
   "outputs": [],
   "source": [
    "# Convert dataframe to time series\n",
    "train_data = TimeSeries.from_pd(pd.DataFrame(tr_data, columns=sel_feats))\n",
    "test_data = TimeSeries.from_pd(pd.DataFrame(te_data, columns=sel_feats))\n",
    "test_labels = TimeSeries.from_pd(pd.DataFrame(te_label, columns=['is_anomaly']))"
   ]
  },
  {
   "cell_type": "code",
   "execution_count": 113,
   "id": "2db08540-f59c-4b3b-955f-0984e195a319",
   "metadata": {},
   "outputs": [
    {
     "name": "stdout",
     "output_type": "stream",
     "text": [
      " |========================================| 100.0% Complete, Loss 0.0009\n"
     ]
    }
   ],
   "source": [
    "model_name = 'VAE'\n",
    "tmp_model = ModelFactory.create(model_name, threshold=AggregateAlarms(alm_threshold=2))\n",
    "\n",
    "# Get the anomaly score\n",
    "tr_scores = tmp_model.train(train_data)\n",
    "tr_scores = tr_scores.to_pd()['anom_score']\n",
    "te_scores = tmp_model.get_anomaly_score(test_data).to_pd()['anom_score'].tolist()"
   ]
  },
  {
   "cell_type": "code",
   "execution_count": 114,
   "id": "baf5881b-eb32-4508-8bfb-2bd4794932b9",
   "metadata": {},
   "outputs": [
    {
     "name": "stdout",
     "output_type": "stream",
     "text": [
      "PA%K\n"
     ]
    }
   ],
   "source": [
    "# Get the overall evaluation results\n",
    "results = overall_evaluation(tr_scores, te_scores, te_label, cal_pak_eval=True, \n",
    "                             cal_pak_auc_eval=False, cal_range_eval=False, cal_pot_eval=False)"
   ]
  },
  {
   "cell_type": "code",
   "execution_count": 115,
   "id": "1d22eb52-20c4-46ad-a41b-2827b992ea67",
   "metadata": {},
   "outputs": [
    {
     "name": "stdout",
     "output_type": "stream",
     "text": [
      "0.698293296533983\n"
     ]
    }
   ],
   "source": [
    "print(results['pak_results']['auc_wo_pa'])"
   ]
  },
  {
   "cell_type": "code",
   "execution_count": null,
   "id": "80b0c66e-9d46-4357-8fce-ca60336d30ae",
   "metadata": {},
   "outputs": [],
   "source": []
  },
  {
   "cell_type": "code",
   "execution_count": null,
   "id": "7b21348d-b386-443e-92ec-3d60ce87fa3b",
   "metadata": {},
   "outputs": [],
   "source": []
  },
  {
   "cell_type": "code",
   "execution_count": null,
   "id": "00ca4271-9907-430d-8273-88169feb8854",
   "metadata": {},
   "outputs": [],
   "source": []
  },
  {
   "cell_type": "code",
   "execution_count": null,
   "id": "dacbe080-43cb-490d-a5c1-34303b5ec618",
   "metadata": {},
   "outputs": [],
   "source": [
    "## 1000 (beginning) for training + all for testing\n",
    "# 0.688518123610897 (D2 -> D1) 0.6990918327601287\n",
    "# 0.6545777714510659 (D3 -> D1) 0.6447848046508703\n",
    "# 0.6615950085928878 (D4 -> D1) 0.7443907393753278\n",
    "# 0.728951945245073 (D1 -> D1) 0.698293296533983\n",
    "# -----------------------------\n",
    "# 0.6652509881072405 (Mixed) 0.7044893232130514\n",
    "# 0.696709627074887 (MLDG) 0.696178517273651 0.696629151530354"
   ]
  },
  {
   "cell_type": "code",
   "execution_count": 65,
   "id": "dcbf6d95-60da-4a45-bf60-4b19cd678eef",
   "metadata": {},
   "outputs": [],
   "source": [
    "## 1000 (end) for training + all for testing\n",
    "# 0.6917520312085025 (D2 -> D1)\n",
    "# 0.5881606423163505 (D3 -> D1)\n",
    "# 0.67453883050117 (D4 -> D1)\n",
    "# 0.851033447075942 (D1 -> D1)\n",
    "# -----------------------------\n",
    "# 0.6771776077704308 (Mixed)\n",
    "# 0.6785838999157181 (MLDG)"
   ]
  },
  {
   "cell_type": "code",
   "execution_count": 66,
   "id": "2b5604c0-6057-4362-a1a4-e766480e5b1e",
   "metadata": {},
   "outputs": [],
   "source": [
    "## 5000 (beginning) for training + all for testing\n",
    "# 0.6903795416711871 (D2 -> D1)\n",
    "# 0.6575759821586726 (D3 -> D1)\n",
    "# 0.6643682476843198 (D4 -> D1)\n",
    "# 0.6881222530342302 (D1 -> D1)\n",
    "# -----------------------------\n",
    "# 0.6689364801200355 (Mixed)\n",
    "# 0.5322392229569346 (MLDG)"
   ]
  },
  {
   "cell_type": "code",
   "execution_count": null,
   "id": "07857ad1-ff46-4670-9998-85396a378165",
   "metadata": {},
   "outputs": [],
   "source": []
  },
  {
   "cell_type": "code",
   "execution_count": null,
   "id": "a795f5bc-eae8-4687-b64a-5406a5044ac1",
   "metadata": {},
   "outputs": [],
   "source": []
  },
  {
   "cell_type": "code",
   "execution_count": null,
   "id": "0511be9d-2bdd-4274-bed1-eb25232cd103",
   "metadata": {},
   "outputs": [],
   "source": []
  },
  {
   "cell_type": "code",
   "execution_count": 11,
   "id": "45e4fbbe-2932-48fd-b0e9-b52fc154b687",
   "metadata": {},
   "outputs": [],
   "source": [
    "data = pd.read_csv('logs/loss_log.txt', sep=\"\\t\", header=None)\n",
    "data.columns = ['tr', 'val']"
   ]
  },
  {
   "cell_type": "code",
   "execution_count": 12,
   "id": "21373cbf-a969-407c-b551-04de60e4ddc7",
   "metadata": {},
   "outputs": [],
   "source": [
    "inner_loops = 1000\n",
    "tr_loss = data['tr'].iloc[-inner_loops:].tolist()\n",
    "val_loss = data['val'].iloc[-inner_loops:].tolist()"
   ]
  },
  {
   "cell_type": "code",
   "execution_count": 13,
   "id": "f37aebed-fb65-4073-b962-a04a287654a5",
   "metadata": {},
   "outputs": [
    {
     "data": {
      "text/plain": [
       "<matplotlib.legend.Legend at 0x197c1094f70>"
      ]
     },
     "execution_count": 13,
     "metadata": {},
     "output_type": "execute_result"
    },
    {
     "data": {
      "image/png": "[encoded data removed]",
      "text/plain": [
       "<Figure size 640x480 with 1 Axes>"
      ]
     },
     "metadata": {},
     "output_type": "display_data"
    }
   ],
   "source": [
    "plt.plot(tr_loss, label='training')\n",
    "plt.plot(val_loss, label='validation')\n",
    "plt.legend()"
   ]
  },
  {
   "cell_type": "code",
   "execution_count": null,
   "id": "28cbaaee-d0c3-4270-b1f7-88ab1e816a8c",
   "metadata": {},
   "outputs": [],
   "source": []
  },
  {
   "cell_type": "code",
   "execution_count": null,
   "id": "492ac3e0-48c1-4270-b86f-6fb4c66b4fcd",
   "metadata": {},
   "outputs": [],
   "source": []
  },
  {
   "cell_type": "code",
   "execution_count": null,
   "id": "a3ae7f14-f144-433d-85bb-c72f3780a347",
   "metadata": {},
   "outputs": [],
   "source": []
  },
  {
   "cell_type": "code",
   "execution_count": null,
   "id": "03715d74-ac3c-4842-b5e0-f3c07645e06c",
   "metadata": {},
   "outputs": [],
   "source": []
  },
  {
   "cell_type": "code",
   "execution_count": null,
   "id": "1dd299e8-dcbe-4e51-94a9-6ea1f7aabab3",
   "metadata": {},
   "outputs": [],
   "source": []
  },
  {
   "cell_type": "code",
   "execution_count": 51,
   "id": "d6e47cc0-de39-46cb-ad5e-92b4512cdcea",
   "metadata": {},
   "outputs": [],
   "source": [
    "import nannyml as nml"
   ]
  },
  {
   "cell_type": "code",
   "execution_count": 52,
   "id": "82db93af-9551-462a-8fc5-e7628c644655",
   "metadata": {},
   "outputs": [],
   "source": [
    "import pandas as pd \n",
    "from datetime import datetime\n",
    "\n",
    "# creating a range of timestamps\n",
    "timestamp_list = pd.date_range(datetime.today(), periods=6*7*24*60, freq='min').tolist()"
   ]
  },
  {
   "cell_type": "code",
   "execution_count": null,
   "id": "d8b63684-603b-4050-b42c-4b125fcfe363",
   "metadata": {},
   "outputs": [],
   "source": []
  },
  {
   "cell_type": "code",
   "execution_count": null,
   "id": "0c3f3dde-fda8-4a96-b925-40e200b35906",
   "metadata": {},
   "outputs": [],
   "source": []
  },
  {
   "cell_type": "code",
   "execution_count": null,
   "id": "12f5670d-d5ab-4d33-bbe8-c1d57b819811",
   "metadata": {},
   "outputs": [],
   "source": []
  },
  {
   "cell_type": "code",
   "execution_count": 70,
   "id": "7f571fc4-78a6-4a62-8f6d-fd236cdc37d2",
   "metadata": {},
   "outputs": [],
   "source": [
    "ref_dataset = 'machine-1-1'\n",
    "\n",
    "tmp_path = data_root + 'train/' + ref_dataset + '.txt'\n",
    "tmp_df = pd.read_csv(tmp_path, header=None)\n",
    "tmp_df.columns = sel_feats\n",
    "\n",
    "ref_num = 5000 #len(tmp_df)\n",
    "ref_data = tmp_df[sel_feats].iloc[:ref_num]\n",
    "ref_data['timestamp'] = ref_data.index #timestamp_list[:len(ref_data)] #ref_data.index"
   ]
  },
  {
   "cell_type": "code",
   "execution_count": 71,
   "id": "a51957e0-25ae-4b57-95ce-188a8661f4e4",
   "metadata": {},
   "outputs": [],
   "source": [
    "ana_dataset = 'machine-1-1' #['machine-1-1', 'machine-2-1', 'machine-3-2', 'machine-3-7']\n",
    "\n",
    "tmp_path = data_root + 'train/' + ana_dataset + '.txt'\n",
    "tmp_df = pd.read_csv(tmp_path, header=None)\n",
    "tmp_df.columns = sel_feats\n",
    "# ana_num = len(tmp_df)\n",
    "\n",
    "# ana_data_list = []\n",
    "# idx = 0\n",
    "# while idx < len(tmp_df): \n",
    "#     sel_df = tmp_df[sel_feats].iloc[idx:idx+ana_num] #[idx:idx+ana_num]\n",
    "#     sel_df['timestamp'] = sel_df.index #timestamp_list[idx:idx+ana_num] #sel_df.index\n",
    "#     ana_data_list.append(sel_df)\n",
    "#     idx += ana_num\n",
    "\n",
    "ana_data_list = [tmp_df[sel_feats].iloc[5000:]]"
   ]
  },
  {
   "cell_type": "code",
   "execution_count": 72,
   "id": "17e86a34-a0b4-413a-b6b3-6da60a84999e",
   "metadata": {
    "scrolled": true
   },
   "outputs": [],
   "source": [
    "drdc = nml.DataReconstructionDriftCalculator(\n",
    "    column_names=sel_feats,\n",
    "    chunk_number = 30, \n",
    "    # timestamp_column_name='timestamp'\n",
    ")\n",
    "\n",
    "drdc.fit(ref_data)\n",
    "multivariate_data_drift = drdc.calculate(ana_data_list[0])"
   ]
  },
  {
   "cell_type": "code",
   "execution_count": 73,
   "id": "b540ec96-63b2-4606-b251-42c2db9a145b",
   "metadata": {},
   "outputs": [],
   "source": [
    "figure = multivariate_data_drift.plot()"
   ]
  },
  {
   "cell_type": "code",
   "execution_count": 74,
   "id": "2270cca4-1c8b-4a68-b40c-a2f6983bf11e",
   "metadata": {},
   "outputs": [
    {
     "data": {
      "application/vnd.plotly.v1+json": {
       "config": {
        "plotlyServerURL": "https://plot.ly"
       },
       "data": [
        {
         "hoverinfo": "skip",
         "legendgroup": "metric_reference",
         "line": {
          "color": "#00c8e5",
          "shape": "hv",
          "width": 2
         },
         "mode": "lines",
         "name": "Metric",
         "showlegend": true,
         "type": "scatter",
         "x": [
          0,
          1,
          2,
          3,
          4,
          5,
          6,
          7,
          8,
          9,
          10,
          11,
          12,
          13,
          14,
          15,
          16,
          17,
          18,
          19,
          20,
          21,
          22,
          23,
          24,
          25,
          26,
          27,
          28,
          29,
          30
         ],
         "y": [
          2.547613960573829,
          3.0222520841608516,
          2.8029497574521973,
          2.296936866222575,
          2.479574161127429,
          2.304312393104734,
          2.420598352644349,
          2.490754116359038,
          2.6734370527428633,
          2.579358653413899,
          2.7883008226992025,
          2.675552319156948,
          2.907736138015566,
          4.219186132375636,
          2.4767780669849757,
          2.468675749216789,
          3.3014368102617584,
          2.6482860773203623,
          2.1803138607642416,
          2.234375265250126,
          2.9284436410052432,
          2.605749386171907,
          2.4704406548619158,
          2.4079626792642728,
          2.3556545701585887,
          2.755043332260882,
          3.092186892223612,
          3.7383145245199443,
          3.3276742470911387,
          2.797933337365911,
          2.797933337365911
         ]
        },
        {
         "customdata": [
          [
           "Reconstruction Error",
           "<b style=\"color:#00c8e5;line-height:60px\">Reference</b>",
           "",
           "[0:165]",
           "Chunk index: <b>0</b>",
           2.5476,
           0.3121
          ],
          [
           "Reconstruction Error",
           "<b style=\"color:#00c8e5;line-height:60px\">Reference</b>",
           "",
           "[166:331]",
           "Chunk index: <b>1</b>",
           3.0223,
           0.3121
          ],
          [
           "Reconstruction Error",
           "<b style=\"color:#00c8e5;line-height:60px\">Reference</b>",
           "",
           "[332:497]",
           "Chunk index: <b>2</b>",
           2.8029,
           0.3121
          ],
          [
           "Reconstruction Error",
           "<b style=\"color:#00c8e5;line-height:60px\">Reference</b>",
           "",
           "[498:663]",
           "Chunk index: <b>3</b>",
           2.2969,
           0.3121
          ],
          [
           "Reconstruction Error",
           "<b style=\"color:#00c8e5;line-height:60px\">Reference</b>",
           "",
           "[664:829]",
           "Chunk index: <b>4</b>",
           2.4796,
           0.3121
          ],
          [
           "Reconstruction Error",
           "<b style=\"color:#00c8e5;line-height:60px\">Reference</b>",
           "",
           "[830:995]",
           "Chunk index: <b>5</b>",
           2.3043,
           0.3121
          ],
          [
           "Reconstruction Error",
           "<b style=\"color:#00c8e5;line-height:60px\">Reference</b>",
           "",
           "[996:1161]",
           "Chunk index: <b>6</b>",
           2.4206,
           0.3121
          ],
          [
           "Reconstruction Error",
           "<b style=\"color:#00c8e5;line-height:60px\">Reference</b>",
           "",
           "[1162:1327]",
           "Chunk index: <b>7</b>",
           2.4908,
           0.3121
          ],
          [
           "Reconstruction Error",
           "<b style=\"color:#00c8e5;line-height:60px\">Reference</b>",
           "",
           "[1328:1493]",
           "Chunk index: <b>8</b>",
           2.6734,
           0.3121
          ],
          [
           "Reconstruction Error",
           "<b style=\"color:#00c8e5;line-height:60px\">Reference</b>",
           "",
           "[1494:1659]",
           "Chunk index: <b>9</b>",
           2.5794,
           0.3121
          ],
          [
           "Reconstruction Error",
           "<b style=\"color:#00c8e5;line-height:60px\">Reference</b>",
           "",
           "[1660:1825]",
           "Chunk index: <b>10</b>",
           2.7883,
           0.3121
          ],
          [
           "Reconstruction Error",
           "<b style=\"color:#00c8e5;line-height:60px\">Reference</b>",
           "",
           "[1826:1991]",
           "Chunk index: <b>11</b>",
           2.6756,
           0.3121
          ],
          [
           "Reconstruction Error",
           "<b style=\"color:#00c8e5;line-height:60px\">Reference</b>",
           "",
           "[1992:2157]",
           "Chunk index: <b>12</b>",
           2.9077,
           0.3121
          ],
          [
           "Reconstruction Error",
           "<b style=\"color:#00c8e5;line-height:60px\">Reference</b>",
           "<span style=\"color:#AD0000\">⚠ <b>Drift detected</b></span>",
           "[2158:2323]",
           "Chunk index: <b>13</b>",
           4.2192,
           0.3121
          ],
          [
           "Reconstruction Error",
           "<b style=\"color:#00c8e5;line-height:60px\">Reference</b>",
           "",
           "[2324:2489]",
           "Chunk index: <b>14</b>",
           2.4768,
           0.3121
          ],
          [
           "Reconstruction Error",
           "<b style=\"color:#00c8e5;line-height:60px\">Reference</b>",
           "",
           "[2490:2655]",
           "Chunk index: <b>15</b>",
           2.4687,
           0.3121
          ],
          [
           "Reconstruction Error",
           "<b style=\"color:#00c8e5;line-height:60px\">Reference</b>",
           "",
           "[2656:2821]",
           "Chunk index: <b>16</b>",
           3.3014,
           0.3121
          ],
          [
           "Reconstruction Error",
           "<b style=\"color:#00c8e5;line-height:60px\">Reference</b>",
           "",
           "[2822:2987]",
           "Chunk index: <b>17</b>",
           2.6483,
           0.3121
          ],
          [
           "Reconstruction Error",
           "<b style=\"color:#00c8e5;line-height:60px\">Reference</b>",
           "",
           "[2988:3153]",
           "Chunk index: <b>18</b>",
           2.1803,
           0.3121
          ],
          [
           "Reconstruction Error",
           "<b style=\"color:#00c8e5;line-height:60px\">Reference</b>",
           "",
           "[3154:3319]",
           "Chunk index: <b>19</b>",
           2.2344,
           0.3121
          ],
          [
           "Reconstruction Error",
           "<b style=\"color:#00c8e5;line-height:60px\">Reference</b>",
           "",
           "[3320:3485]",
           "Chunk index: <b>20</b>",
           2.9284,
           0.3121
          ],
          [
           "Reconstruction Error",
           "<b style=\"color:#00c8e5;line-height:60px\">Reference</b>",
           "",
           "[3486:3651]",
           "Chunk index: <b>21</b>",
           2.6057,
           0.3121
          ],
          [
           "Reconstruction Error",
           "<b style=\"color:#00c8e5;line-height:60px\">Reference</b>",
           "",
           "[3652:3817]",
           "Chunk index: <b>22</b>",
           2.4704,
           0.3121
          ],
          [
           "Reconstruction Error",
           "<b style=\"color:#00c8e5;line-height:60px\">Reference</b>",
           "",
           "[3818:3983]",
           "Chunk index: <b>23</b>",
           2.408,
           0.3121
          ],
          [
           "Reconstruction Error",
           "<b style=\"color:#00c8e5;line-height:60px\">Reference</b>",
           "",
           "[3984:4149]",
           "Chunk index: <b>24</b>",
           2.3557,
           0.3121
          ],
          [
           "Reconstruction Error",
           "<b style=\"color:#00c8e5;line-height:60px\">Reference</b>",
           "",
           "[4150:4315]",
           "Chunk index: <b>25</b>",
           2.755,
           0.3121
          ],
          [
           "Reconstruction Error",
           "<b style=\"color:#00c8e5;line-height:60px\">Reference</b>",
           "",
           "[4316:4481]",
           "Chunk index: <b>26</b>",
           3.0922,
           0.3121
          ],
          [
           "Reconstruction Error",
           "<b style=\"color:#00c8e5;line-height:60px\">Reference</b>",
           "",
           "[4482:4647]",
           "Chunk index: <b>27</b>",
           3.7383,
           0.3121
          ],
          [
           "Reconstruction Error",
           "<b style=\"color:#00c8e5;line-height:60px\">Reference</b>",
           "",
           "[4648:4813]",
           "Chunk index: <b>28</b>",
           3.3277,
           0.3121
          ],
          [
           "Reconstruction Error",
           "<b style=\"color:#00c8e5;line-height:60px\">Reference</b>",
           "",
           "[4814:4999]",
           "Chunk index: <b>29</b>",
           2.7979,
           0.2949
          ]
         ],
         "hovertemplate": "%{customdata[1]} &nbsp; &nbsp; %{customdata[2]} <br />Chunk: <b>%{customdata[3]}</b> &nbsp; &nbsp; %{customdata[4]} <br />%{customdata[0]}: <b>%{customdata[5]}</b><br />Confidence band: +/- <b>%{customdata[6]}</b><br /><extra></extra>",
         "legendgroup": "metric_reference",
         "marker": {
          "color": "#00c8e5",
          "size": 5,
          "symbol": "circle"
         },
         "mode": "markers",
         "name": "Metric",
         "showlegend": false,
         "type": "scatter",
         "x": [
          0.5,
          1.5,
          2.5,
          3.5,
          4.5,
          5.5,
          6.5,
          7.5,
          8.5,
          9.5,
          10.5,
          11.5,
          12.5,
          13.5,
          14.5,
          15.5,
          16.5,
          17.5,
          18.5,
          19.5,
          20.5,
          21.5,
          22.5,
          23.5,
          24.5,
          25.5,
          26.5,
          27.5,
          28.5,
          29.5
         ],
         "y": [
          2.547613960573829,
          3.0222520841608516,
          2.8029497574521973,
          2.296936866222575,
          2.479574161127429,
          2.304312393104734,
          2.420598352644349,
          2.490754116359038,
          2.6734370527428633,
          2.579358653413899,
          2.7883008226992025,
          2.675552319156948,
          2.907736138015566,
          4.219186132375636,
          2.4767780669849757,
          2.468675749216789,
          3.3014368102617584,
          2.6482860773203623,
          2.1803138607642416,
          2.234375265250126,
          2.9284436410052432,
          2.605749386171907,
          2.4704406548619158,
          2.4079626792642728,
          2.3556545701585887,
          2.755043332260882,
          3.092186892223612,
          3.7383145245199443,
          3.3276742470911387,
          2.797933337365911,
          2.797933337365911
         ]
        },
        {
         "hoverinfo": "skip",
         "legendgroup": "metric_analysis",
         "line": {
          "color": "#00c8e5",
          "shape": "hv",
          "width": 2
         },
         "mode": "lines",
         "name": "Metric",
         "showlegend": false,
         "type": "scatter",
         "x": [
          30,
          31,
          32,
          33,
          34,
          35,
          36,
          37,
          38,
          39,
          40,
          41,
          42,
          43,
          44,
          45,
          46,
          47,
          48,
          49,
          50,
          51,
          52,
          53,
          54,
          55,
          56,
          57,
          58,
          59,
          60
         ],
         "y": [
          4.123761193631038,
          3.3121304729563557,
          4.582592306534862,
          4.119651921152652,
          4.295648323769854,
          4.49613623995619,
          3.811766575701563,
          3.3375295620713388,
          3.610148288652614,
          3.6267401317447634,
          3.467777320384087,
          3.238558960827418,
          4.5154896779588825,
          5.7300851272178965,
          8.600794995067407,
          5.844501164851426,
          12.627617980585983,
          5.259459771200703,
          9.362847566096649,
          6.264412987751652,
          18.442926181184173,
          7.970100937832717,
          11.116357237407373,
          14.653072014739283,
          13.303823095633604,
          12.09468973918734,
          9.65614807540889,
          13.536848838983012,
          9.100430915610268,
          12.283253971740056,
          12.283253971740056
         ]
        },
        {
         "customdata": [
          [
           "Reconstruction Error",
           "<b style=\"color:#3b0280;line-height:60px\">Analysis</b>",
           "<span style=\"color:#AD0000\">⚠ <b>Drift detected</b></span>",
           "[0:781]",
           "Chunk index: <b>0</b>",
           4.1238,
           0.1438
          ],
          [
           "Reconstruction Error",
           "<b style=\"color:#3b0280;line-height:60px\">Analysis</b>",
           "",
           "[782:1563]",
           "Chunk index: <b>1</b>",
           3.3121,
           0.1438
          ],
          [
           "Reconstruction Error",
           "<b style=\"color:#3b0280;line-height:60px\">Analysis</b>",
           "<span style=\"color:#AD0000\">⚠ <b>Drift detected</b></span>",
           "[1564:2345]",
           "Chunk index: <b>2</b>",
           4.5826,
           0.1438
          ],
          [
           "Reconstruction Error",
           "<b style=\"color:#3b0280;line-height:60px\">Analysis</b>",
           "<span style=\"color:#AD0000\">⚠ <b>Drift detected</b></span>",
           "[2346:3127]",
           "Chunk index: <b>3</b>",
           4.1197,
           0.1438
          ],
          [
           "Reconstruction Error",
           "<b style=\"color:#3b0280;line-height:60px\">Analysis</b>",
           "<span style=\"color:#AD0000\">⚠ <b>Drift detected</b></span>",
           "[3128:3909]",
           "Chunk index: <b>4</b>",
           4.2956,
           0.1438
          ],
          [
           "Reconstruction Error",
           "<b style=\"color:#3b0280;line-height:60px\">Analysis</b>",
           "<span style=\"color:#AD0000\">⚠ <b>Drift detected</b></span>",
           "[3910:4691]",
           "Chunk index: <b>5</b>",
           4.4961,
           0.1438
          ],
          [
           "Reconstruction Error",
           "<b style=\"color:#3b0280;line-height:60px\">Analysis</b>",
           "",
           "[4692:5473]",
           "Chunk index: <b>6</b>",
           3.8118,
           0.1438
          ],
          [
           "Reconstruction Error",
           "<b style=\"color:#3b0280;line-height:60px\">Analysis</b>",
           "",
           "[5474:6255]",
           "Chunk index: <b>7</b>",
           3.3375,
           0.1438
          ],
          [
           "Reconstruction Error",
           "<b style=\"color:#3b0280;line-height:60px\">Analysis</b>",
           "",
           "[6256:7037]",
           "Chunk index: <b>8</b>",
           3.6101,
           0.1438
          ],
          [
           "Reconstruction Error",
           "<b style=\"color:#3b0280;line-height:60px\">Analysis</b>",
           "",
           "[7038:7819]",
           "Chunk index: <b>9</b>",
           3.6267,
           0.1438
          ],
          [
           "Reconstruction Error",
           "<b style=\"color:#3b0280;line-height:60px\">Analysis</b>",
           "",
           "[7820:8601]",
           "Chunk index: <b>10</b>",
           3.4678,
           0.1438
          ],
          [
           "Reconstruction Error",
           "<b style=\"color:#3b0280;line-height:60px\">Analysis</b>",
           "",
           "[8602:9383]",
           "Chunk index: <b>11</b>",
           3.2386,
           0.1438
          ],
          [
           "Reconstruction Error",
           "<b style=\"color:#3b0280;line-height:60px\">Analysis</b>",
           "<span style=\"color:#AD0000\">⚠ <b>Drift detected</b></span>",
           "[9384:10165]",
           "Chunk index: <b>12</b>",
           4.5155,
           0.1438
          ],
          [
           "Reconstruction Error",
           "<b style=\"color:#3b0280;line-height:60px\">Analysis</b>",
           "<span style=\"color:#AD0000\">⚠ <b>Drift detected</b></span>",
           "[10166:10947]",
           "Chunk index: <b>13</b>",
           5.7301,
           0.1438
          ],
          [
           "Reconstruction Error",
           "<b style=\"color:#3b0280;line-height:60px\">Analysis</b>",
           "<span style=\"color:#AD0000\">⚠ <b>Drift detected</b></span>",
           "[10948:11729]",
           "Chunk index: <b>14</b>",
           8.6008,
           0.1438
          ],
          [
           "Reconstruction Error",
           "<b style=\"color:#3b0280;line-height:60px\">Analysis</b>",
           "<span style=\"color:#AD0000\">⚠ <b>Drift detected</b></span>",
           "[11730:12511]",
           "Chunk index: <b>15</b>",
           5.8445,
           0.1438
          ],
          [
           "Reconstruction Error",
           "<b style=\"color:#3b0280;line-height:60px\">Analysis</b>",
           "<span style=\"color:#AD0000\">⚠ <b>Drift detected</b></span>",
           "[12512:13293]",
           "Chunk index: <b>16</b>",
           12.6276,
           0.1438
          ],
          [
           "Reconstruction Error",
           "<b style=\"color:#3b0280;line-height:60px\">Analysis</b>",
           "<span style=\"color:#AD0000\">⚠ <b>Drift detected</b></span>",
           "[13294:14075]",
           "Chunk index: <b>17</b>",
           5.2595,
           0.1438
          ],
          [
           "Reconstruction Error",
           "<b style=\"color:#3b0280;line-height:60px\">Analysis</b>",
           "<span style=\"color:#AD0000\">⚠ <b>Drift detected</b></span>",
           "[14076:14857]",
           "Chunk index: <b>18</b>",
           9.3628,
           0.1438
          ],
          [
           "Reconstruction Error",
           "<b style=\"color:#3b0280;line-height:60px\">Analysis</b>",
           "<span style=\"color:#AD0000\">⚠ <b>Drift detected</b></span>",
           "[14858:15639]",
           "Chunk index: <b>19</b>",
           6.2644,
           0.1438
          ],
          [
           "Reconstruction Error",
           "<b style=\"color:#3b0280;line-height:60px\">Analysis</b>",
           "<span style=\"color:#AD0000\">⚠ <b>Drift detected</b></span>",
           "[15640:16421]",
           "Chunk index: <b>20</b>",
           18.4429,
           0.1438
          ],
          [
           "Reconstruction Error",
           "<b style=\"color:#3b0280;line-height:60px\">Analysis</b>",
           "<span style=\"color:#AD0000\">⚠ <b>Drift detected</b></span>",
           "[16422:17203]",
           "Chunk index: <b>21</b>",
           7.9701,
           0.1438
          ],
          [
           "Reconstruction Error",
           "<b style=\"color:#3b0280;line-height:60px\">Analysis</b>",
           "<span style=\"color:#AD0000\">⚠ <b>Drift detected</b></span>",
           "[17204:17985]",
           "Chunk index: <b>22</b>",
           11.1164,
           0.1438
          ],
          [
           "Reconstruction Error",
           "<b style=\"color:#3b0280;line-height:60px\">Analysis</b>",
           "<span style=\"color:#AD0000\">⚠ <b>Drift detected</b></span>",
           "[17986:18767]",
           "Chunk index: <b>23</b>",
           14.6531,
           0.1438
          ],
          [
           "Reconstruction Error",
           "<b style=\"color:#3b0280;line-height:60px\">Analysis</b>",
           "<span style=\"color:#AD0000\">⚠ <b>Drift detected</b></span>",
           "[18768:19549]",
           "Chunk index: <b>24</b>",
           13.3038,
           0.1438
          ],
          [
           "Reconstruction Error",
           "<b style=\"color:#3b0280;line-height:60px\">Analysis</b>",
           "<span style=\"color:#AD0000\">⚠ <b>Drift detected</b></span>",
           "[19550:20331]",
           "Chunk index: <b>25</b>",
           12.0947,
           0.1438
          ],
          [
           "Reconstruction Error",
           "<b style=\"color:#3b0280;line-height:60px\">Analysis</b>",
           "<span style=\"color:#AD0000\">⚠ <b>Drift detected</b></span>",
           "[20332:21113]",
           "Chunk index: <b>26</b>",
           9.6561,
           0.1438
          ],
          [
           "Reconstruction Error",
           "<b style=\"color:#3b0280;line-height:60px\">Analysis</b>",
           "<span style=\"color:#AD0000\">⚠ <b>Drift detected</b></span>",
           "[21114:21895]",
           "Chunk index: <b>27</b>",
           13.5368,
           0.1438
          ],
          [
           "Reconstruction Error",
           "<b style=\"color:#3b0280;line-height:60px\">Analysis</b>",
           "<span style=\"color:#AD0000\">⚠ <b>Drift detected</b></span>",
           "[21896:22677]",
           "Chunk index: <b>28</b>",
           9.1004,
           0.1438
          ],
          [
           "Reconstruction Error",
           "<b style=\"color:#3b0280;line-height:60px\">Analysis</b>",
           "<span style=\"color:#AD0000\">⚠ <b>Drift detected</b></span>",
           "[22678:23478]",
           "Chunk index: <b>29</b>",
           12.2833,
           0.1421
          ]
         ],
         "hovertemplate": "%{customdata[1]} &nbsp; &nbsp; %{customdata[2]} <br />Chunk: <b>%{customdata[3]}</b> &nbsp; &nbsp; %{customdata[4]} <br />%{customdata[0]}: <b>%{customdata[5]}</b><br />Confidence band: +/- <b>%{customdata[6]}</b><br /><extra></extra>",
         "legendgroup": "metric_analysis",
         "marker": {
          "color": "#00c8e5",
          "size": 5,
          "symbol": "circle"
         },
         "mode": "markers",
         "name": "Metric",
         "showlegend": false,
         "type": "scatter",
         "x": [
          30.5,
          31.5,
          32.5,
          33.5,
          34.5,
          35.5,
          36.5,
          37.5,
          38.5,
          39.5,
          40.5,
          41.5,
          42.5,
          43.5,
          44.5,
          45.5,
          46.5,
          47.5,
          48.5,
          49.5,
          50.5,
          51.5,
          52.5,
          53.5,
          54.5,
          55.5,
          56.5,
          57.5,
          58.5,
          59.5
         ],
         "y": [
          4.123761193631038,
          3.3121304729563557,
          4.582592306534862,
          4.119651921152652,
          4.295648323769854,
          4.49613623995619,
          3.811766575701563,
          3.3375295620713388,
          3.610148288652614,
          3.6267401317447634,
          3.467777320384087,
          3.238558960827418,
          4.5154896779588825,
          5.7300851272178965,
          8.600794995067407,
          5.844501164851426,
          12.627617980585983,
          5.259459771200703,
          9.362847566096649,
          6.264412987751652,
          18.442926181184173,
          7.970100937832717,
          11.116357237407373,
          14.653072014739283,
          13.303823095633604,
          12.09468973918734,
          9.65614807540889,
          13.536848838983012,
          9.100430915610268,
          12.283253971740056,
          12.283253971740056
         ]
        },
        {
         "hoverinfo": "skip",
         "legendgroup": "alert",
         "marker": {
          "color": "#DD4040",
          "size": 8,
          "symbol": "diamond"
         },
         "mode": "markers",
         "name": "Alert",
         "showlegend": true,
         "type": "scatter",
         "x": [
          30.5,
          32.5,
          33.5,
          34.5,
          35.5,
          42.5,
          43.5,
          44.5,
          45.5,
          46.5,
          47.5,
          48.5,
          49.5,
          50.5,
          51.5,
          52.5,
          53.5,
          54.5,
          55.5,
          56.5,
          57.5,
          58.5,
          59.5
         ],
         "y": [
          4.123761193631038,
          4.582592306534862,
          4.119651921152652,
          4.295648323769854,
          4.49613623995619,
          4.5154896779588825,
          5.7300851272178965,
          8.600794995067407,
          5.844501164851426,
          12.627617980585983,
          5.259459771200703,
          9.362847566096649,
          6.264412987751652,
          18.442926181184173,
          7.970100937832717,
          11.116357237407373,
          14.653072014739283,
          13.303823095633604,
          12.09468973918734,
          9.65614807540889,
          13.536848838983012,
          9.100430915610268,
          12.283253971740056
         ]
        },
        {
         "hoverinfo": "skip",
         "legendgroup": "thresh",
         "line": {
          "color": "#DD4040",
          "dash": "dash",
          "width": 2
         },
         "mode": "lines",
         "name": "Threshold",
         "showlegend": false,
         "type": "scatter",
         "x": [
          0,
          1,
          2,
          3,
          4,
          5,
          6,
          7,
          8,
          9,
          10,
          11,
          12,
          13,
          14,
          15,
          16,
          17,
          18,
          19,
          20,
          21,
          22,
          23,
          24,
          25,
          26,
          27,
          28,
          29,
          30
         ],
         "y": [
          4.061353068700296,
          4.061353068700296,
          4.061353068700296,
          4.061353068700296,
          4.061353068700296,
          4.061353068700296,
          4.061353068700296,
          4.061353068700296,
          4.061353068700296,
          4.061353068700296,
          4.061353068700296,
          4.061353068700296,
          4.061353068700296,
          4.061353068700296,
          4.061353068700296,
          4.061353068700296,
          4.061353068700296,
          4.061353068700296,
          4.061353068700296,
          4.061353068700296,
          4.061353068700296,
          4.061353068700296,
          4.061353068700296,
          4.061353068700296,
          4.061353068700296,
          4.061353068700296,
          4.061353068700296,
          4.061353068700296,
          4.061353068700296,
          4.061353068700296,
          4.061353068700296
         ]
        },
        {
         "hoverinfo": "skip",
         "legendgroup": "thresh",
         "line": {
          "color": "#DD4040",
          "dash": "dash",
          "width": 2
         },
         "mode": "lines",
         "name": "Threshold",
         "showlegend": false,
         "type": "scatter",
         "x": [
          0,
          1,
          2,
          3,
          4,
          5,
          6,
          7,
          8,
          9,
          10,
          11,
          12,
          13,
          14,
          15,
          16,
          17,
          18,
          19,
          20,
          21,
          22,
          23,
          24,
          25,
          26,
          27,
          28,
          29,
          30
         ],
         "y": [
          1.4051690582844227,
          1.4051690582844227,
          1.4051690582844227,
          1.4051690582844227,
          1.4051690582844227,
          1.4051690582844227,
          1.4051690582844227,
          1.4051690582844227,
          1.4051690582844227,
          1.4051690582844227,
          1.4051690582844227,
          1.4051690582844227,
          1.4051690582844227,
          1.4051690582844227,
          1.4051690582844227,
          1.4051690582844227,
          1.4051690582844227,
          1.4051690582844227,
          1.4051690582844227,
          1.4051690582844227,
          1.4051690582844227,
          1.4051690582844227,
          1.4051690582844227,
          1.4051690582844227,
          1.4051690582844227,
          1.4051690582844227,
          1.4051690582844227,
          1.4051690582844227,
          1.4051690582844227,
          1.4051690582844227,
          1.4051690582844227
         ]
        },
        {
         "hoverinfo": "skip",
         "legendgroup": "thresh",
         "line": {
          "color": "#DD4040",
          "dash": "dash",
          "width": 2
         },
         "mode": "lines",
         "name": "Threshold",
         "showlegend": false,
         "type": "scatter",
         "x": [
          30,
          31,
          32,
          33,
          34,
          35,
          36,
          37,
          38,
          39,
          40,
          41,
          42,
          43,
          44,
          45,
          46,
          47,
          48,
          49,
          50,
          51,
          52,
          53,
          54,
          55,
          56,
          57,
          58,
          59,
          60
         ],
         "y": [
          4.061353068700296,
          4.061353068700296,
          4.061353068700296,
          4.061353068700296,
          4.061353068700296,
          4.061353068700296,
          4.061353068700296,
          4.061353068700296,
          4.061353068700296,
          4.061353068700296,
          4.061353068700296,
          4.061353068700296,
          4.061353068700296,
          4.061353068700296,
          4.061353068700296,
          4.061353068700296,
          4.061353068700296,
          4.061353068700296,
          4.061353068700296,
          4.061353068700296,
          4.061353068700296,
          4.061353068700296,
          4.061353068700296,
          4.061353068700296,
          4.061353068700296,
          4.061353068700296,
          4.061353068700296,
          4.061353068700296,
          4.061353068700296,
          4.061353068700296,
          4.061353068700296
         ]
        },
        {
         "hoverinfo": "skip",
         "legendgroup": "thresh",
         "line": {
          "color": "#DD4040",
          "dash": "dash",
          "width": 2
         },
         "mode": "lines",
         "name": "Threshold",
         "showlegend": false,
         "type": "scatter",
         "x": [
          30,
          31,
          32,
          33,
          34,
          35,
          36,
          37,
          38,
          39,
          40,
          41,
          42,
          43,
          44,
          45,
          46,
          47,
          48,
          49,
          50,
          51,
          52,
          53,
          54,
          55,
          56,
          57,
          58,
          59,
          60
         ],
         "y": [
          1.4051690582844227,
          1.4051690582844227,
          1.4051690582844227,
          1.4051690582844227,
          1.4051690582844227,
          1.4051690582844227,
          1.4051690582844227,
          1.4051690582844227,
          1.4051690582844227,
          1.4051690582844227,
          1.4051690582844227,
          1.4051690582844227,
          1.4051690582844227,
          1.4051690582844227,
          1.4051690582844227,
          1.4051690582844227,
          1.4051690582844227,
          1.4051690582844227,
          1.4051690582844227,
          1.4051690582844227,
          1.4051690582844227,
          1.4051690582844227,
          1.4051690582844227,
          1.4051690582844227,
          1.4051690582844227,
          1.4051690582844227,
          1.4051690582844227,
          1.4051690582844227,
          1.4051690582844227,
          1.4051690582844227,
          1.4051690582844227
         ]
        },
        {
         "hoverinfo": "skip",
         "line": {
          "color": "rgba(0, 0, 0, 0)",
          "shape": "hv"
         },
         "mode": "lines",
         "name": "Confidence band",
         "showlegend": false,
         "type": "scatter",
         "x": [
          0,
          1,
          2,
          3,
          4,
          5,
          6,
          7,
          8,
          9,
          10,
          11,
          12,
          13,
          14,
          15,
          16,
          17,
          18,
          19,
          20,
          21,
          22,
          23,
          24,
          25,
          26,
          27,
          28,
          29,
          30
         ],
         "y": [
          2.8597308383275077,
          3.33436896191453,
          3.115066635205876,
          2.6090537439762533,
          2.7916910388811074,
          2.6164292708584123,
          2.7327152303980276,
          2.802870994112716,
          2.9855539304965415,
          2.8914755311675773,
          3.100417700452881,
          2.987669196910627,
          3.219853015769244,
          4.531303010129315,
          2.7888949447386544,
          2.7807926269704675,
          3.613553688015437,
          2.9604029550740405,
          2.4924307385179203,
          2.546492143003804,
          3.2405605187589215,
          2.9178662639255855,
          2.782557532615594,
          2.720079557017951,
          2.6677714479122674,
          3.0671602100145607,
          3.4043037699772905,
          4.050431402273623,
          3.639791124844817,
          3.0927926343456793,
          3.0927926343456793
         ]
        },
        {
         "fill": "tonexty",
         "fillcolor": "rgba(0, 200, 229, 0.2)",
         "hoverinfo": "skip",
         "line": {
          "color": "rgba(0, 0, 0, 0)",
          "shape": "hv"
         },
         "mode": "lines",
         "name": "Confidence band",
         "showlegend": true,
         "type": "scatter",
         "x": [
          0,
          1,
          2,
          3,
          4,
          5,
          6,
          7,
          8,
          9,
          10,
          11,
          12,
          13,
          14,
          15,
          16,
          17,
          18,
          19,
          20,
          21,
          22,
          23,
          24,
          25,
          26,
          27,
          28,
          29,
          30
         ],
         "y": [
          2.2354970828201504,
          2.7101352064071733,
          2.4908328796985186,
          1.9848199884688966,
          2.167457283373751,
          1.9921955153510555,
          2.10848147489067,
          2.1786372386053596,
          2.361320174989185,
          2.267241775660221,
          2.4761839449455243,
          2.3634354414032694,
          2.5956192602618877,
          3.907069254621958,
          2.164661189231297,
          2.15655887146311,
          2.9893199325080797,
          2.336169199566684,
          1.8681969830105631,
          1.9222583874964474,
          2.616326763251565,
          2.293632508418229,
          2.1583237771082375,
          2.0958458015105945,
          2.04353769240491,
          2.4429264545072034,
          2.780070014469934,
          3.4261976467662656,
          3.0155573693374604,
          2.503074040386143,
          2.503074040386143
         ]
        },
        {
         "hoverinfo": "skip",
         "line": {
          "color": "rgba(0, 0, 0, 0)",
          "shape": "hv"
         },
         "mode": "lines",
         "name": "Confidence band",
         "showlegend": false,
         "type": "scatter",
         "x": [
          30,
          31,
          32,
          33,
          34,
          35,
          36,
          37,
          38,
          39,
          40,
          41,
          42,
          43,
          44,
          45,
          46,
          47,
          48,
          49,
          50,
          51,
          52,
          53,
          54,
          55,
          56,
          57,
          58,
          59,
          60
         ],
         "y": [
          4.26756418534421,
          3.455933464669527,
          4.726395298248034,
          4.263454912865824,
          4.439451315483026,
          4.639939231669362,
          3.9555695674147344,
          3.4813325537845103,
          3.7539512803657855,
          3.770543123457935,
          3.6115803120972587,
          3.3823619525405895,
          4.6592926696720545,
          5.8738881189310685,
          8.744597986780578,
          5.988304156564598,
          12.771420972299154,
          5.403262762913875,
          9.50665055780982,
          6.408215979464824,
          18.586729172897346,
          8.113903929545888,
          11.260160229120544,
          14.796875006452455,
          13.447626087346775,
          12.23849273090051,
          9.79995106712206,
          13.680651830696183,
          9.244233907323439,
          12.425341199142249,
          12.425341199142249
         ]
        },
        {
         "fill": "tonexty",
         "fillcolor": "rgba(0, 200, 229, 0.2)",
         "hoverinfo": "skip",
         "line": {
          "color": "rgba(0, 0, 0, 0)",
          "shape": "hv"
         },
         "mode": "lines",
         "name": "Confidence band",
         "showlegend": false,
         "type": "scatter",
         "x": [
          30,
          31,
          32,
          33,
          34,
          35,
          36,
          37,
          38,
          39,
          40,
          41,
          42,
          43,
          44,
          45,
          46,
          47,
          48,
          49,
          50,
          51,
          52,
          53,
          54,
          55,
          56,
          57,
          58,
          59,
          60
         ],
         "y": [
          3.9799582019178668,
          3.168327481243184,
          4.43878931482169,
          3.9758489294394805,
          4.151845332056682,
          4.352333248243018,
          3.6679635839883913,
          3.193726570358167,
          3.4663452969394424,
          3.482937140031592,
          3.3239743286709156,
          3.0947559691142463,
          4.37168668624571,
          5.5862821355047245,
          8.456992003354236,
          5.700698173138254,
          12.483814988872812,
          5.115656779487531,
          9.219044574383478,
          6.12060999603848,
          18.299123189471,
          7.826297946119545,
          10.972554245694202,
          14.509269023026112,
          13.160020103920433,
          11.950886747474168,
          9.512345083695719,
          13.39304584726984,
          8.956627923897097,
          12.141166744337863,
          12.141166744337863
         ]
        }
       ],
       "layout": {
        "annotations": [
         {
          "showarrow": false,
          "text": "Reference",
          "x": 14.5,
          "xshift": 10,
          "y": 1.01,
          "yref": "y domain"
         },
         {
          "showarrow": false,
          "text": "Analysis",
          "x": 44.5,
          "xshift": 15,
          "y": 1.01,
          "yref": "y domain"
         }
        ],
        "autosize": true,
        "hoverlabel": {
         "bgcolor": "white",
         "font": {
          "size": 14
         }
        },
        "legend": {
         "itemclick": false,
         "itemdoubleclick": false,
         "traceorder": "grouped"
        },
        "paper_bgcolor": "rgba(255,255,255,1)",
        "plot_bgcolor": "rgba(255,255,255,1)",
        "shapes": [
         {
          "layer": "below",
          "line": {
           "color": "#666666",
           "width": 1
          },
          "type": "line",
          "x0": 30,
          "x1": 30,
          "xref": "x",
          "y0": 0,
          "y1": 1,
          "yref": "y domain"
         }
        ],
        "template": {
         "data": {
          "bar": [
           {
            "error_x": {
             "color": "#2a3f5f"
            },
            "error_y": {
             "color": "#2a3f5f"
            },
            "marker": {
             "line": {
              "color": "#E5ECF6",
              "width": 0.5
             },
             "pattern": {
              "fillmode": "overlay",
              "size": 10,
              "solidity": 0.2
             }
            },
            "type": "bar"
           }
          ],
          "barpolar": [
           {
            "marker": {
             "line": {
              "color": "#E5ECF6",
              "width": 0.5
             },
             "pattern": {
              "fillmode": "overlay",
              "size": 10,
              "solidity": 0.2
             }
            },
            "type": "barpolar"
           }
          ],
          "carpet": [
           {
            "aaxis": {
             "endlinecolor": "#2a3f5f",
             "gridcolor": "white",
             "linecolor": "white",
             "minorgridcolor": "white",
             "startlinecolor": "#2a3f5f"
            },
            "baxis": {
             "endlinecolor": "#2a3f5f",
             "gridcolor": "white",
             "linecolor": "white",
             "minorgridcolor": "white",
             "startlinecolor": "#2a3f5f"
            },
            "type": "carpet"
           }
          ],
          "choropleth": [
           {
            "colorbar": {
             "outlinewidth": 0,
             "ticks": ""
            },
            "type": "choropleth"
           }
          ],
          "contour": [
           {
            "colorbar": {
             "outlinewidth": 0,
             "ticks": ""
            },
            "colorscale": [
             [
              0,
              "#0d0887"
             ],
             [
              0.1111111111111111,
              "#46039f"
             ],
             [
              0.2222222222222222,
              "#7201a8"
             ],
             [
              0.3333333333333333,
              "#9c179e"
             ],
             [
              0.4444444444444444,
              "#bd3786"
             ],
             [
              0.5555555555555556,
              "#d8576b"
             ],
             [
              0.6666666666666666,
              "#ed7953"
             ],
             [
              0.7777777777777778,
              "#fb9f3a"
             ],
             [
              0.8888888888888888,
              "#fdca26"
             ],
             [
              1,
              "#f0f921"
             ]
            ],
            "type": "contour"
           }
          ],
          "contourcarpet": [
           {
            "colorbar": {
             "outlinewidth": 0,
             "ticks": ""
            },
            "type": "contourcarpet"
           }
          ],
          "heatmap": [
           {
            "colorbar": {
             "outlinewidth": 0,
             "ticks": ""
            },
            "colorscale": [
             [
              0,
              "#0d0887"
             ],
             [
              0.1111111111111111,
              "#46039f"
             ],
             [
              0.2222222222222222,
              "#7201a8"
             ],
             [
              0.3333333333333333,
              "#9c179e"
             ],
             [
              0.4444444444444444,
              "#bd3786"
             ],
             [
              0.5555555555555556,
              "#d8576b"
             ],
             [
              0.6666666666666666,
              "#ed7953"
             ],
             [
              0.7777777777777778,
              "#fb9f3a"
             ],
             [
              0.8888888888888888,
              "#fdca26"
             ],
             [
              1,
              "#f0f921"
             ]
            ],
            "type": "heatmap"
           }
          ],
          "heatmapgl": [
           {
            "colorbar": {
             "outlinewidth": 0,
             "ticks": ""
            },
            "colorscale": [
             [
              0,
              "#0d0887"
             ],
             [
              0.1111111111111111,
              "#46039f"
             ],
             [
              0.2222222222222222,
              "#7201a8"
             ],
             [
              0.3333333333333333,
              "#9c179e"
             ],
             [
              0.4444444444444444,
              "#bd3786"
             ],
             [
              0.5555555555555556,
              "#d8576b"
             ],
             [
              0.6666666666666666,
              "#ed7953"
             ],
             [
              0.7777777777777778,
              "#fb9f3a"
             ],
             [
              0.8888888888888888,
              "#fdca26"
             ],
             [
              1,
              "#f0f921"
             ]
            ],
            "type": "heatmapgl"
           }
          ],
          "histogram": [
           {
            "marker": {
             "pattern": {
              "fillmode": "overlay",
              "size": 10,
              "solidity": 0.2
             }
            },
            "type": "histogram"
           }
          ],
          "histogram2d": [
           {
            "colorbar": {
             "outlinewidth": 0,
             "ticks": ""
            },
            "colorscale": [
             [
              0,
              "#0d0887"
             ],
             [
              0.1111111111111111,
              "#46039f"
             ],
             [
              0.2222222222222222,
              "#7201a8"
             ],
             [
              0.3333333333333333,
              "#9c179e"
             ],
             [
              0.4444444444444444,
              "#bd3786"
             ],
             [
              0.5555555555555556,
              "#d8576b"
             ],
             [
              0.6666666666666666,
              "#ed7953"
             ],
             [
              0.7777777777777778,
              "#fb9f3a"
             ],
             [
              0.8888888888888888,
              "#fdca26"
             ],
             [
              1,
              "#f0f921"
             ]
            ],
            "type": "histogram2d"
           }
          ],
          "histogram2dcontour": [
           {
            "colorbar": {
             "outlinewidth": 0,
             "ticks": ""
            },
            "colorscale": [
             [
              0,
              "#0d0887"
             ],
             [
              0.1111111111111111,
              "#46039f"
             ],
             [
              0.2222222222222222,
              "#7201a8"
             ],
             [
              0.3333333333333333,
              "#9c179e"
             ],
             [
              0.4444444444444444,
              "#bd3786"
             ],
             [
              0.5555555555555556,
              "#d8576b"
             ],
             [
              0.6666666666666666,
              "#ed7953"
             ],
             [
              0.7777777777777778,
              "#fb9f3a"
             ],
             [
              0.8888888888888888,
              "#fdca26"
             ],
             [
              1,
              "#f0f921"
             ]
            ],
            "type": "histogram2dcontour"
           }
          ],
          "mesh3d": [
           {
            "colorbar": {
             "outlinewidth": 0,
             "ticks": ""
            },
            "type": "mesh3d"
           }
          ],
          "parcoords": [
           {
            "line": {
             "colorbar": {
              "outlinewidth": 0,
              "ticks": ""
             }
            },
            "type": "parcoords"
           }
          ],
          "pie": [
           {
            "automargin": true,
            "type": "pie"
           }
          ],
          "scatter": [
           {
            "fillpattern": {
             "fillmode": "overlay",
             "size": 10,
             "solidity": 0.2
            },
            "type": "scatter"
           }
          ],
          "scatter3d": [
           {
            "line": {
             "colorbar": {
              "outlinewidth": 0,
              "ticks": ""
             }
            },
            "marker": {
             "colorbar": {
              "outlinewidth": 0,
              "ticks": ""
             }
            },
            "type": "scatter3d"
           }
          ],
          "scattercarpet": [
           {
            "marker": {
             "colorbar": {
              "outlinewidth": 0,
              "ticks": ""
             }
            },
            "type": "scattercarpet"
           }
          ],
          "scattergeo": [
           {
            "marker": {
             "colorbar": {
              "outlinewidth": 0,
              "ticks": ""
             }
            },
            "type": "scattergeo"
           }
          ],
          "scattergl": [
           {
            "marker": {
             "colorbar": {
              "outlinewidth": 0,
              "ticks": ""
             }
            },
            "type": "scattergl"
           }
          ],
          "scattermapbox": [
           {
            "marker": {
             "colorbar": {
              "outlinewidth": 0,
              "ticks": ""
             }
            },
            "type": "scattermapbox"
           }
          ],
          "scatterpolar": [
           {
            "marker": {
             "colorbar": {
              "outlinewidth": 0,
              "ticks": ""
             }
            },
            "type": "scatterpolar"
           }
          ],
          "scatterpolargl": [
           {
            "marker": {
             "colorbar": {
              "outlinewidth": 0,
              "ticks": ""
             }
            },
            "type": "scatterpolargl"
           }
          ],
          "scatterternary": [
           {
            "marker": {
             "colorbar": {
              "outlinewidth": 0,
              "ticks": ""
             }
            },
            "type": "scatterternary"
           }
          ],
          "surface": [
           {
            "colorbar": {
             "outlinewidth": 0,
             "ticks": ""
            },
            "colorscale": [
             [
              0,
              "#0d0887"
             ],
             [
              0.1111111111111111,
              "#46039f"
             ],
             [
              0.2222222222222222,
              "#7201a8"
             ],
             [
              0.3333333333333333,
              "#9c179e"
             ],
             [
              0.4444444444444444,
              "#bd3786"
             ],
             [
              0.5555555555555556,
              "#d8576b"
             ],
             [
              0.6666666666666666,
              "#ed7953"
             ],
             [
              0.7777777777777778,
              "#fb9f3a"
             ],
             [
              0.8888888888888888,
              "#fdca26"
             ],
             [
              1,
              "#f0f921"
             ]
            ],
            "type": "surface"
           }
          ],
          "table": [
           {
            "cells": {
             "fill": {
              "color": "#EBF0F8"
             },
             "line": {
              "color": "white"
             }
            },
            "header": {
             "fill": {
              "color": "#C8D4E3"
             },
             "line": {
              "color": "white"
             }
            },
            "type": "table"
           }
          ]
         },
         "layout": {
          "annotationdefaults": {
           "arrowcolor": "#2a3f5f",
           "arrowhead": 0,
           "arrowwidth": 1
          },
          "autotypenumbers": "strict",
          "coloraxis": {
           "colorbar": {
            "outlinewidth": 0,
            "ticks": ""
           }
          },
          "colorscale": {
           "diverging": [
            [
             0,
             "#8e0152"
            ],
            [
             0.1,
             "#c51b7d"
            ],
            [
             0.2,
             "#de77ae"
            ],
            [
             0.3,
             "#f1b6da"
            ],
            [
             0.4,
             "#fde0ef"
            ],
            [
             0.5,
             "#f7f7f7"
            ],
            [
             0.6,
             "#e6f5d0"
            ],
            [
             0.7,
             "#b8e186"
            ],
            [
             0.8,
             "#7fbc41"
            ],
            [
             0.9,
             "#4d9221"
            ],
            [
             1,
             "#276419"
            ]
           ],
           "sequential": [
            [
             0,
             "#0d0887"
            ],
            [
             0.1111111111111111,
             "#46039f"
            ],
            [
             0.2222222222222222,
             "#7201a8"
            ],
            [
             0.3333333333333333,
             "#9c179e"
            ],
            [
             0.4444444444444444,
             "#bd3786"
            ],
            [
             0.5555555555555556,
             "#d8576b"
            ],
            [
             0.6666666666666666,
             "#ed7953"
            ],
            [
             0.7777777777777778,
             "#fb9f3a"
            ],
            [
             0.8888888888888888,
             "#fdca26"
            ],
            [
             1,
             "#f0f921"
            ]
           ],
           "sequentialminus": [
            [
             0,
             "#0d0887"
            ],
            [
             0.1111111111111111,
             "#46039f"
            ],
            [
             0.2222222222222222,
             "#7201a8"
            ],
            [
             0.3333333333333333,
             "#9c179e"
            ],
            [
             0.4444444444444444,
             "#bd3786"
            ],
            [
             0.5555555555555556,
             "#d8576b"
            ],
            [
             0.6666666666666666,
             "#ed7953"
            ],
            [
             0.7777777777777778,
             "#fb9f3a"
            ],
            [
             0.8888888888888888,
             "#fdca26"
            ],
            [
             1,
             "#f0f921"
            ]
           ]
          },
          "colorway": [
           "#636efa",
           "#EF553B",
           "#00cc96",
           "#ab63fa",
           "#FFA15A",
           "#19d3f3",
           "#FF6692",
           "#B6E880",
           "#FF97FF",
           "#FECB52"
          ],
          "font": {
           "color": "#2a3f5f"
          },
          "geo": {
           "bgcolor": "white",
           "lakecolor": "white",
           "landcolor": "#E5ECF6",
           "showlakes": true,
           "showland": true,
           "subunitcolor": "white"
          },
          "hoverlabel": {
           "align": "left"
          },
          "hovermode": "closest",
          "mapbox": {
           "style": "light"
          },
          "paper_bgcolor": "white",
          "plot_bgcolor": "#E5ECF6",
          "polar": {
           "angularaxis": {
            "gridcolor": "white",
            "linecolor": "white",
            "ticks": ""
           },
           "bgcolor": "#E5ECF6",
           "radialaxis": {
            "gridcolor": "white",
            "linecolor": "white",
            "ticks": ""
           }
          },
          "scene": {
           "xaxis": {
            "backgroundcolor": "#E5ECF6",
            "gridcolor": "white",
            "gridwidth": 2,
            "linecolor": "white",
            "showbackground": true,
            "ticks": "",
            "zerolinecolor": "white"
           },
           "yaxis": {
            "backgroundcolor": "#E5ECF6",
            "gridcolor": "white",
            "gridwidth": 2,
            "linecolor": "white",
            "showbackground": true,
            "ticks": "",
            "zerolinecolor": "white"
           },
           "zaxis": {
            "backgroundcolor": "#E5ECF6",
            "gridcolor": "white",
            "gridwidth": 2,
            "linecolor": "white",
            "showbackground": true,
            "ticks": "",
            "zerolinecolor": "white"
           }
          },
          "shapedefaults": {
           "line": {
            "color": "#2a3f5f"
           }
          },
          "ternary": {
           "aaxis": {
            "gridcolor": "white",
            "linecolor": "white",
            "ticks": ""
           },
           "baxis": {
            "gridcolor": "white",
            "linecolor": "white",
            "ticks": ""
           },
           "bgcolor": "#E5ECF6",
           "caxis": {
            "gridcolor": "white",
            "linecolor": "white",
            "ticks": ""
           }
          },
          "title": {
           "x": 0.05
          },
          "xaxis": {
           "automargin": true,
           "gridcolor": "white",
           "linecolor": "white",
           "ticks": "",
           "title": {
            "standoff": 15
           },
           "zerolinecolor": "white",
           "zerolinewidth": 2
          },
          "yaxis": {
           "automargin": true,
           "gridcolor": "white",
           "linecolor": "white",
           "ticks": "",
           "title": {
            "standoff": 15
           },
           "zerolinecolor": "white",
           "zerolinewidth": 2
          }
         }
        },
        "title": {
         "text": "Multivariate Drift (PCA Reconstruction Error)"
        },
        "xaxis": {
         "autorange": true,
         "linecolor": "#3b0280",
         "matches": "x",
         "mirror": true,
         "range": [
          -3.0572294142965935,
          63.20373803926762
         ],
         "showgrid": false,
         "title": {
          "text": "Chunk"
         },
         "type": "linear",
         "zeroline": false
        },
        "yaxis": {
         "autorange": true,
         "linecolor": "#3b0280",
         "mirror": true,
         "range": [
          0.4284823442328446,
          19.962216625264407
         ],
         "showgrid": false,
         "title": {
          "text": "Reconstruction Error"
         },
         "type": "linear",
         "zeroline": false
        }
       }
      },
      "image/png": "[encoded data removed]",
      "text/html": [
       "<div>                            <div id=\"bba1189f-3a34-464a-adf2-275cc5456a42\" class=\"plotly-graph-div\" style=\"height:525px; width:100%;\"></div>            <script type=\"text/javascript\">                require([\"plotly\"], function(Plotly) {                    window.PLOTLYENV=window.PLOTLYENV || {};                                    if (document.getElementById(\"bba1189f-3a34-464a-adf2-275cc5456a42\")) {                    Plotly.newPlot(                        \"bba1189f-3a34-464a-adf2-275cc5456a42\",                        [{\"hoverinfo\":\"skip\",\"legendgroup\":\"metric_reference\",\"line\":{\"color\":\"#00c8e5\",\"shape\":\"hv\",\"width\":2},\"mode\":\"lines\",\"name\":\"Metric\",\"showlegend\":true,\"x\":[0,1,2,3,4,5,6,7,8,9,10,11,12,13,14,15,16,17,18,19,20,21,22,23,24,25,26,27,28,29,30],\"y\":[2.547613960573829,3.0222520841608516,2.8029497574521973,2.296936866222575,2.479574161127429,2.304312393104734,2.420598352644349,2.490754116359038,2.6734370527428633,2.579358653413899,2.7883008226992025,2.675552319156948,2.907736138015566,4.219186132375636,2.4767780669849757,2.468675749216789,3.3014368102617584,2.6482860773203623,2.1803138607642416,2.234375265250126,2.9284436410052432,2.605749386171907,2.4704406548619158,2.4079626792642728,2.3556545701585887,2.755043332260882,3.092186892223612,3.7383145245199443,3.3276742470911387,2.797933337365911,2.797933337365911],\"type\":\"scatter\"},{\"customdata\":[[\"Reconstruction Error\",\"\\u003cb style=\\\"color:#00c8e5;line-height:60px\\\"\\u003eReference\\u003c\\u002fb\\u003e\",\"\",\"[0:165]\",\"Chunk index: \\u003cb\\u003e0\\u003c\\u002fb\\u003e\",2.5476,0.3121],[\"Reconstruction Error\",\"\\u003cb style=\\\"color:#00c8e5;line-height:60px\\\"\\u003eReference\\u003c\\u002fb\\u003e\",\"\",\"[166:331]\",\"Chunk index: \\u003cb\\u003e1\\u003c\\u002fb\\u003e\",3.0223,0.3121],[\"Reconstruction Error\",\"\\u003cb style=\\\"color:#00c8e5;line-height:60px\\\"\\u003eReference\\u003c\\u002fb\\u003e\",\"\",\"[332:497]\",\"Chunk index: \\u003cb\\u003e2\\u003c\\u002fb\\u003e\",2.8029,0.3121],[\"Reconstruction Error\",\"\\u003cb style=\\\"color:#00c8e5;line-height:60px\\\"\\u003eReference\\u003c\\u002fb\\u003e\",\"\",\"[498:663]\",\"Chunk index: \\u003cb\\u003e3\\u003c\\u002fb\\u003e\",2.2969,0.3121],[\"Reconstruction Error\",\"\\u003cb style=\\\"color:#00c8e5;line-height:60px\\\"\\u003eReference\\u003c\\u002fb\\u003e\",\"\",\"[664:829]\",\"Chunk index: \\u003cb\\u003e4\\u003c\\u002fb\\u003e\",2.4796,0.3121],[\"Reconstruction Error\",\"\\u003cb style=\\\"color:#00c8e5;line-height:60px\\\"\\u003eReference\\u003c\\u002fb\\u003e\",\"\",\"[830:995]\",\"Chunk index: \\u003cb\\u003e5\\u003c\\u002fb\\u003e\",2.3043,0.3121],[\"Reconstruction Error\",\"\\u003cb style=\\\"color:#00c8e5;line-height:60px\\\"\\u003eReference\\u003c\\u002fb\\u003e\",\"\",\"[996:1161]\",\"Chunk index: \\u003cb\\u003e6\\u003c\\u002fb\\u003e\",2.4206,0.3121],[\"Reconstruction Error\",\"\\u003cb style=\\\"color:#00c8e5;line-height:60px\\\"\\u003eReference\\u003c\\u002fb\\u003e\",\"\",\"[1162:1327]\",\"Chunk index: \\u003cb\\u003e7\\u003c\\u002fb\\u003e\",2.4908,0.3121],[\"Reconstruction Error\",\"\\u003cb style=\\\"color:#00c8e5;line-height:60px\\\"\\u003eReference\\u003c\\u002fb\\u003e\",\"\",\"[1328:1493]\",\"Chunk index: \\u003cb\\u003e8\\u003c\\u002fb\\u003e\",2.6734,0.3121],[\"Reconstruction Error\",\"\\u003cb style=\\\"color:#00c8e5;line-height:60px\\\"\\u003eReference\\u003c\\u002fb\\u003e\",\"\",\"[1494:1659]\",\"Chunk index: \\u003cb\\u003e9\\u003c\\u002fb\\u003e\",2.5794,0.3121],[\"Reconstruction Error\",\"\\u003cb style=\\\"color:#00c8e5;line-height:60px\\\"\\u003eReference\\u003c\\u002fb\\u003e\",\"\",\"[1660:1825]\",\"Chunk index: \\u003cb\\u003e10\\u003c\\u002fb\\u003e\",2.7883,0.3121],[\"Reconstruction Error\",\"\\u003cb style=\\\"color:#00c8e5;line-height:60px\\\"\\u003eReference\\u003c\\u002fb\\u003e\",\"\",\"[1826:1991]\",\"Chunk index: \\u003cb\\u003e11\\u003c\\u002fb\\u003e\",2.6756,0.3121],[\"Reconstruction Error\",\"\\u003cb style=\\\"color:#00c8e5;line-height:60px\\\"\\u003eReference\\u003c\\u002fb\\u003e\",\"\",\"[1992:2157]\",\"Chunk index: \\u003cb\\u003e12\\u003c\\u002fb\\u003e\",2.9077,0.3121],[\"Reconstruction Error\",\"\\u003cb style=\\\"color:#00c8e5;line-height:60px\\\"\\u003eReference\\u003c\\u002fb\\u003e\",\"\\u003cspan style=\\\"color:#AD0000\\\"\\u003e\\u26a0 \\u003cb\\u003eDrift detected\\u003c\\u002fb\\u003e\\u003c\\u002fspan\\u003e\",\"[2158:2323]\",\"Chunk index: \\u003cb\\u003e13\\u003c\\u002fb\\u003e\",4.2192,0.3121],[\"Reconstruction Error\",\"\\u003cb style=\\\"color:#00c8e5;line-height:60px\\\"\\u003eReference\\u003c\\u002fb\\u003e\",\"\",\"[2324:2489]\",\"Chunk index: \\u003cb\\u003e14\\u003c\\u002fb\\u003e\",2.4768,0.3121],[\"Reconstruction Error\",\"\\u003cb style=\\\"color:#00c8e5;line-height:60px\\\"\\u003eReference\\u003c\\u002fb\\u003e\",\"\",\"[2490:2655]\",\"Chunk index: \\u003cb\\u003e15\\u003c\\u002fb\\u003e\",2.4687,0.3121],[\"Reconstruction Error\",\"\\u003cb style=\\\"color:#00c8e5;line-height:60px\\\"\\u003eReference\\u003c\\u002fb\\u003e\",\"\",\"[2656:2821]\",\"Chunk index: \\u003cb\\u003e16\\u003c\\u002fb\\u003e\",3.3014,0.3121],[\"Reconstruction Error\",\"\\u003cb style=\\\"color:#00c8e5;line-height:60px\\\"\\u003eReference\\u003c\\u002fb\\u003e\",\"\",\"[2822:2987]\",\"Chunk index: \\u003cb\\u003e17\\u003c\\u002fb\\u003e\",2.6483,0.3121],[\"Reconstruction Error\",\"\\u003cb style=\\\"color:#00c8e5;line-height:60px\\\"\\u003eReference\\u003c\\u002fb\\u003e\",\"\",\"[2988:3153]\",\"Chunk index: \\u003cb\\u003e18\\u003c\\u002fb\\u003e\",2.1803,0.3121],[\"Reconstruction Error\",\"\\u003cb style=\\\"color:#00c8e5;line-height:60px\\\"\\u003eReference\\u003c\\u002fb\\u003e\",\"\",\"[3154:3319]\",\"Chunk index: \\u003cb\\u003e19\\u003c\\u002fb\\u003e\",2.2344,0.3121],[\"Reconstruction Error\",\"\\u003cb style=\\\"color:#00c8e5;line-height:60px\\\"\\u003eReference\\u003c\\u002fb\\u003e\",\"\",\"[3320:3485]\",\"Chunk index: \\u003cb\\u003e20\\u003c\\u002fb\\u003e\",2.9284,0.3121],[\"Reconstruction Error\",\"\\u003cb style=\\\"color:#00c8e5;line-height:60px\\\"\\u003eReference\\u003c\\u002fb\\u003e\",\"\",\"[3486:3651]\",\"Chunk index: \\u003cb\\u003e21\\u003c\\u002fb\\u003e\",2.6057,0.3121],[\"Reconstruction Error\",\"\\u003cb style=\\\"color:#00c8e5;line-height:60px\\\"\\u003eReference\\u003c\\u002fb\\u003e\",\"\",\"[3652:3817]\",\"Chunk index: \\u003cb\\u003e22\\u003c\\u002fb\\u003e\",2.4704,0.3121],[\"Reconstruction Error\",\"\\u003cb style=\\\"color:#00c8e5;line-height:60px\\\"\\u003eReference\\u003c\\u002fb\\u003e\",\"\",\"[3818:3983]\",\"Chunk index: \\u003cb\\u003e23\\u003c\\u002fb\\u003e\",2.408,0.3121],[\"Reconstruction Error\",\"\\u003cb style=\\\"color:#00c8e5;line-height:60px\\\"\\u003eReference\\u003c\\u002fb\\u003e\",\"\",\"[3984:4149]\",\"Chunk index: \\u003cb\\u003e24\\u003c\\u002fb\\u003e\",2.3557,0.3121],[\"Reconstruction Error\",\"\\u003cb style=\\\"color:#00c8e5;line-height:60px\\\"\\u003eReference\\u003c\\u002fb\\u003e\",\"\",\"[4150:4315]\",\"Chunk index: \\u003cb\\u003e25\\u003c\\u002fb\\u003e\",2.755,0.3121],[\"Reconstruction Error\",\"\\u003cb style=\\\"color:#00c8e5;line-height:60px\\\"\\u003eReference\\u003c\\u002fb\\u003e\",\"\",\"[4316:4481]\",\"Chunk index: \\u003cb\\u003e26\\u003c\\u002fb\\u003e\",3.0922,0.3121],[\"Reconstruction Error\",\"\\u003cb style=\\\"color:#00c8e5;line-height:60px\\\"\\u003eReference\\u003c\\u002fb\\u003e\",\"\",\"[4482:4647]\",\"Chunk index: \\u003cb\\u003e27\\u003c\\u002fb\\u003e\",3.7383,0.3121],[\"Reconstruction Error\",\"\\u003cb style=\\\"color:#00c8e5;line-height:60px\\\"\\u003eReference\\u003c\\u002fb\\u003e\",\"\",\"[4648:4813]\",\"Chunk index: \\u003cb\\u003e28\\u003c\\u002fb\\u003e\",3.3277,0.3121],[\"Reconstruction Error\",\"\\u003cb style=\\\"color:#00c8e5;line-height:60px\\\"\\u003eReference\\u003c\\u002fb\\u003e\",\"\",\"[4814:4999]\",\"Chunk index: \\u003cb\\u003e29\\u003c\\u002fb\\u003e\",2.7979,0.2949]],\"hovertemplate\":\"%{customdata[1]} &nbsp; &nbsp; %{customdata[2]} \\u003cbr \\u002f\\u003eChunk: \\u003cb\\u003e%{customdata[3]}\\u003c\\u002fb\\u003e &nbsp; &nbsp; %{customdata[4]} \\u003cbr \\u002f\\u003e%{customdata[0]}: \\u003cb\\u003e%{customdata[5]}\\u003c\\u002fb\\u003e\\u003cbr \\u002f\\u003eConfidence band: +\\u002f- \\u003cb\\u003e%{customdata[6]}\\u003c\\u002fb\\u003e\\u003cbr \\u002f\\u003e\\u003cextra\\u003e\\u003c\\u002fextra\\u003e\",\"legendgroup\":\"metric_reference\",\"marker\":{\"color\":\"#00c8e5\",\"size\":5,\"symbol\":\"circle\"},\"mode\":\"markers\",\"name\":\"Metric\",\"showlegend\":false,\"x\":[0.5,1.5,2.5,3.5,4.5,5.5,6.5,7.5,8.5,9.5,10.5,11.5,12.5,13.5,14.5,15.5,16.5,17.5,18.5,19.5,20.5,21.5,22.5,23.5,24.5,25.5,26.5,27.5,28.5,29.5],\"y\":[2.547613960573829,3.0222520841608516,2.8029497574521973,2.296936866222575,2.479574161127429,2.304312393104734,2.420598352644349,2.490754116359038,2.6734370527428633,2.579358653413899,2.7883008226992025,2.675552319156948,2.907736138015566,4.219186132375636,2.4767780669849757,2.468675749216789,3.3014368102617584,2.6482860773203623,2.1803138607642416,2.234375265250126,2.9284436410052432,2.605749386171907,2.4704406548619158,2.4079626792642728,2.3556545701585887,2.755043332260882,3.092186892223612,3.7383145245199443,3.3276742470911387,2.797933337365911,2.797933337365911],\"type\":\"scatter\"},{\"hoverinfo\":\"skip\",\"legendgroup\":\"metric_analysis\",\"line\":{\"color\":\"#00c8e5\",\"shape\":\"hv\",\"width\":2},\"mode\":\"lines\",\"name\":\"Metric\",\"showlegend\":false,\"x\":[30,31,32,33,34,35,36,37,38,39,40,41,42,43,44,45,46,47,48,49,50,51,52,53,54,55,56,57,58,59,60],\"y\":[4.123761193631038,3.3121304729563557,4.582592306534862,4.119651921152652,4.295648323769854,4.49613623995619,3.811766575701563,3.3375295620713388,3.610148288652614,3.6267401317447634,3.467777320384087,3.238558960827418,4.5154896779588825,5.7300851272178965,8.600794995067407,5.844501164851426,12.627617980585983,5.259459771200703,9.362847566096649,6.264412987751652,18.442926181184173,7.970100937832717,11.116357237407373,14.653072014739283,13.303823095633604,12.09468973918734,9.65614807540889,13.536848838983012,9.100430915610268,12.283253971740056,12.283253971740056],\"type\":\"scatter\"},{\"customdata\":[[\"Reconstruction Error\",\"\\u003cb style=\\\"color:#3b0280;line-height:60px\\\"\\u003eAnalysis\\u003c\\u002fb\\u003e\",\"\\u003cspan style=\\\"color:#AD0000\\\"\\u003e\\u26a0 \\u003cb\\u003eDrift detected\\u003c\\u002fb\\u003e\\u003c\\u002fspan\\u003e\",\"[0:781]\",\"Chunk index: \\u003cb\\u003e0\\u003c\\u002fb\\u003e\",4.1238,0.1438],[\"Reconstruction Error\",\"\\u003cb style=\\\"color:#3b0280;line-height:60px\\\"\\u003eAnalysis\\u003c\\u002fb\\u003e\",\"\",\"[782:1563]\",\"Chunk index: \\u003cb\\u003e1\\u003c\\u002fb\\u003e\",3.3121,0.1438],[\"Reconstruction Error\",\"\\u003cb style=\\\"color:#3b0280;line-height:60px\\\"\\u003eAnalysis\\u003c\\u002fb\\u003e\",\"\\u003cspan style=\\\"color:#AD0000\\\"\\u003e\\u26a0 \\u003cb\\u003eDrift detected\\u003c\\u002fb\\u003e\\u003c\\u002fspan\\u003e\",\"[1564:2345]\",\"Chunk index: \\u003cb\\u003e2\\u003c\\u002fb\\u003e\",4.5826,0.1438],[\"Reconstruction Error\",\"\\u003cb style=\\\"color:#3b0280;line-height:60px\\\"\\u003eAnalysis\\u003c\\u002fb\\u003e\",\"\\u003cspan style=\\\"color:#AD0000\\\"\\u003e\\u26a0 \\u003cb\\u003eDrift detected\\u003c\\u002fb\\u003e\\u003c\\u002fspan\\u003e\",\"[2346:3127]\",\"Chunk index: \\u003cb\\u003e3\\u003c\\u002fb\\u003e\",4.1197,0.1438],[\"Reconstruction Error\",\"\\u003cb style=\\\"color:#3b0280;line-height:60px\\\"\\u003eAnalysis\\u003c\\u002fb\\u003e\",\"\\u003cspan style=\\\"color:#AD0000\\\"\\u003e\\u26a0 \\u003cb\\u003eDrift detected\\u003c\\u002fb\\u003e\\u003c\\u002fspan\\u003e\",\"[3128:3909]\",\"Chunk index: \\u003cb\\u003e4\\u003c\\u002fb\\u003e\",4.2956,0.1438],[\"Reconstruction Error\",\"\\u003cb style=\\\"color:#3b0280;line-height:60px\\\"\\u003eAnalysis\\u003c\\u002fb\\u003e\",\"\\u003cspan style=\\\"color:#AD0000\\\"\\u003e\\u26a0 \\u003cb\\u003eDrift detected\\u003c\\u002fb\\u003e\\u003c\\u002fspan\\u003e\",\"[3910:4691]\",\"Chunk index: \\u003cb\\u003e5\\u003c\\u002fb\\u003e\",4.4961,0.1438],[\"Reconstruction Error\",\"\\u003cb style=\\\"color:#3b0280;line-height:60px\\\"\\u003eAnalysis\\u003c\\u002fb\\u003e\",\"\",\"[4692:5473]\",\"Chunk index: \\u003cb\\u003e6\\u003c\\u002fb\\u003e\",3.8118,0.1438],[\"Reconstruction Error\",\"\\u003cb style=\\\"color:#3b0280;line-height:60px\\\"\\u003eAnalysis\\u003c\\u002fb\\u003e\",\"\",\"[5474:6255]\",\"Chunk index: \\u003cb\\u003e7\\u003c\\u002fb\\u003e\",3.3375,0.1438],[\"Reconstruction Error\",\"\\u003cb style=\\\"color:#3b0280;line-height:60px\\\"\\u003eAnalysis\\u003c\\u002fb\\u003e\",\"\",\"[6256:7037]\",\"Chunk index: \\u003cb\\u003e8\\u003c\\u002fb\\u003e\",3.6101,0.1438],[\"Reconstruction Error\",\"\\u003cb style=\\\"color:#3b0280;line-height:60px\\\"\\u003eAnalysis\\u003c\\u002fb\\u003e\",\"\",\"[7038:7819]\",\"Chunk index: \\u003cb\\u003e9\\u003c\\u002fb\\u003e\",3.6267,0.1438],[\"Reconstruction Error\",\"\\u003cb style=\\\"color:#3b0280;line-height:60px\\\"\\u003eAnalysis\\u003c\\u002fb\\u003e\",\"\",\"[7820:8601]\",\"Chunk index: \\u003cb\\u003e10\\u003c\\u002fb\\u003e\",3.4678,0.1438],[\"Reconstruction Error\",\"\\u003cb style=\\\"color:#3b0280;line-height:60px\\\"\\u003eAnalysis\\u003c\\u002fb\\u003e\",\"\",\"[8602:9383]\",\"Chunk index: \\u003cb\\u003e11\\u003c\\u002fb\\u003e\",3.2386,0.1438],[\"Reconstruction Error\",\"\\u003cb style=\\\"color:#3b0280;line-height:60px\\\"\\u003eAnalysis\\u003c\\u002fb\\u003e\",\"\\u003cspan style=\\\"color:#AD0000\\\"\\u003e\\u26a0 \\u003cb\\u003eDrift detected\\u003c\\u002fb\\u003e\\u003c\\u002fspan\\u003e\",\"[9384:10165]\",\"Chunk index: \\u003cb\\u003e12\\u003c\\u002fb\\u003e\",4.5155,0.1438],[\"Reconstruction Error\",\"\\u003cb style=\\\"color:#3b0280;line-height:60px\\\"\\u003eAnalysis\\u003c\\u002fb\\u003e\",\"\\u003cspan style=\\\"color:#AD0000\\\"\\u003e\\u26a0 \\u003cb\\u003eDrift detected\\u003c\\u002fb\\u003e\\u003c\\u002fspan\\u003e\",\"[10166:10947]\",\"Chunk index: \\u003cb\\u003e13\\u003c\\u002fb\\u003e\",5.7301,0.1438],[\"Reconstruction Error\",\"\\u003cb style=\\\"color:#3b0280;line-height:60px\\\"\\u003eAnalysis\\u003c\\u002fb\\u003e\",\"\\u003cspan style=\\\"color:#AD0000\\\"\\u003e\\u26a0 \\u003cb\\u003eDrift detected\\u003c\\u002fb\\u003e\\u003c\\u002fspan\\u003e\",\"[10948:11729]\",\"Chunk index: \\u003cb\\u003e14\\u003c\\u002fb\\u003e\",8.6008,0.1438],[\"Reconstruction Error\",\"\\u003cb style=\\\"color:#3b0280;line-height:60px\\\"\\u003eAnalysis\\u003c\\u002fb\\u003e\",\"\\u003cspan style=\\\"color:#AD0000\\\"\\u003e\\u26a0 \\u003cb\\u003eDrift detected\\u003c\\u002fb\\u003e\\u003c\\u002fspan\\u003e\",\"[11730:12511]\",\"Chunk index: \\u003cb\\u003e15\\u003c\\u002fb\\u003e\",5.8445,0.1438],[\"Reconstruction Error\",\"\\u003cb style=\\\"color:#3b0280;line-height:60px\\\"\\u003eAnalysis\\u003c\\u002fb\\u003e\",\"\\u003cspan style=\\\"color:#AD0000\\\"\\u003e\\u26a0 \\u003cb\\u003eDrift detected\\u003c\\u002fb\\u003e\\u003c\\u002fspan\\u003e\",\"[12512:13293]\",\"Chunk index: \\u003cb\\u003e16\\u003c\\u002fb\\u003e\",12.6276,0.1438],[\"Reconstruction Error\",\"\\u003cb style=\\\"color:#3b0280;line-height:60px\\\"\\u003eAnalysis\\u003c\\u002fb\\u003e\",\"\\u003cspan style=\\\"color:#AD0000\\\"\\u003e\\u26a0 \\u003cb\\u003eDrift detected\\u003c\\u002fb\\u003e\\u003c\\u002fspan\\u003e\",\"[13294:14075]\",\"Chunk index: \\u003cb\\u003e17\\u003c\\u002fb\\u003e\",5.2595,0.1438],[\"Reconstruction Error\",\"\\u003cb style=\\\"color:#3b0280;line-height:60px\\\"\\u003eAnalysis\\u003c\\u002fb\\u003e\",\"\\u003cspan style=\\\"color:#AD0000\\\"\\u003e\\u26a0 \\u003cb\\u003eDrift detected\\u003c\\u002fb\\u003e\\u003c\\u002fspan\\u003e\",\"[14076:14857]\",\"Chunk index: \\u003cb\\u003e18\\u003c\\u002fb\\u003e\",9.3628,0.1438],[\"Reconstruction Error\",\"\\u003cb style=\\\"color:#3b0280;line-height:60px\\\"\\u003eAnalysis\\u003c\\u002fb\\u003e\",\"\\u003cspan style=\\\"color:#AD0000\\\"\\u003e\\u26a0 \\u003cb\\u003eDrift detected\\u003c\\u002fb\\u003e\\u003c\\u002fspan\\u003e\",\"[14858:15639]\",\"Chunk index: \\u003cb\\u003e19\\u003c\\u002fb\\u003e\",6.2644,0.1438],[\"Reconstruction Error\",\"\\u003cb style=\\\"color:#3b0280;line-height:60px\\\"\\u003eAnalysis\\u003c\\u002fb\\u003e\",\"\\u003cspan style=\\\"color:#AD0000\\\"\\u003e\\u26a0 \\u003cb\\u003eDrift detected\\u003c\\u002fb\\u003e\\u003c\\u002fspan\\u003e\",\"[15640:16421]\",\"Chunk index: \\u003cb\\u003e20\\u003c\\u002fb\\u003e\",18.4429,0.1438],[\"Reconstruction Error\",\"\\u003cb style=\\\"color:#3b0280;line-height:60px\\\"\\u003eAnalysis\\u003c\\u002fb\\u003e\",\"\\u003cspan style=\\\"color:#AD0000\\\"\\u003e\\u26a0 \\u003cb\\u003eDrift detected\\u003c\\u002fb\\u003e\\u003c\\u002fspan\\u003e\",\"[16422:17203]\",\"Chunk index: \\u003cb\\u003e21\\u003c\\u002fb\\u003e\",7.9701,0.1438],[\"Reconstruction Error\",\"\\u003cb style=\\\"color:#3b0280;line-height:60px\\\"\\u003eAnalysis\\u003c\\u002fb\\u003e\",\"\\u003cspan style=\\\"color:#AD0000\\\"\\u003e\\u26a0 \\u003cb\\u003eDrift detected\\u003c\\u002fb\\u003e\\u003c\\u002fspan\\u003e\",\"[17204:17985]\",\"Chunk index: \\u003cb\\u003e22\\u003c\\u002fb\\u003e\",11.1164,0.1438],[\"Reconstruction Error\",\"\\u003cb style=\\\"color:#3b0280;line-height:60px\\\"\\u003eAnalysis\\u003c\\u002fb\\u003e\",\"\\u003cspan style=\\\"color:#AD0000\\\"\\u003e\\u26a0 \\u003cb\\u003eDrift detected\\u003c\\u002fb\\u003e\\u003c\\u002fspan\\u003e\",\"[17986:18767]\",\"Chunk index: \\u003cb\\u003e23\\u003c\\u002fb\\u003e\",14.6531,0.1438],[\"Reconstruction Error\",\"\\u003cb style=\\\"color:#3b0280;line-height:60px\\\"\\u003eAnalysis\\u003c\\u002fb\\u003e\",\"\\u003cspan style=\\\"color:#AD0000\\\"\\u003e\\u26a0 \\u003cb\\u003eDrift detected\\u003c\\u002fb\\u003e\\u003c\\u002fspan\\u003e\",\"[18768:19549]\",\"Chunk index: \\u003cb\\u003e24\\u003c\\u002fb\\u003e\",13.3038,0.1438],[\"Reconstruction Error\",\"\\u003cb style=\\\"color:#3b0280;line-height:60px\\\"\\u003eAnalysis\\u003c\\u002fb\\u003e\",\"\\u003cspan style=\\\"color:#AD0000\\\"\\u003e\\u26a0 \\u003cb\\u003eDrift detected\\u003c\\u002fb\\u003e\\u003c\\u002fspan\\u003e\",\"[19550:20331]\",\"Chunk index: \\u003cb\\u003e25\\u003c\\u002fb\\u003e\",12.0947,0.1438],[\"Reconstruction Error\",\"\\u003cb style=\\\"color:#3b0280;line-height:60px\\\"\\u003eAnalysis\\u003c\\u002fb\\u003e\",\"\\u003cspan style=\\\"color:#AD0000\\\"\\u003e\\u26a0 \\u003cb\\u003eDrift detected\\u003c\\u002fb\\u003e\\u003c\\u002fspan\\u003e\",\"[20332:21113]\",\"Chunk index: \\u003cb\\u003e26\\u003c\\u002fb\\u003e\",9.6561,0.1438],[\"Reconstruction Error\",\"\\u003cb style=\\\"color:#3b0280;line-height:60px\\\"\\u003eAnalysis\\u003c\\u002fb\\u003e\",\"\\u003cspan style=\\\"color:#AD0000\\\"\\u003e\\u26a0 \\u003cb\\u003eDrift detected\\u003c\\u002fb\\u003e\\u003c\\u002fspan\\u003e\",\"[21114:21895]\",\"Chunk index: \\u003cb\\u003e27\\u003c\\u002fb\\u003e\",13.5368,0.1438],[\"Reconstruction Error\",\"\\u003cb style=\\\"color:#3b0280;line-height:60px\\\"\\u003eAnalysis\\u003c\\u002fb\\u003e\",\"\\u003cspan style=\\\"color:#AD0000\\\"\\u003e\\u26a0 \\u003cb\\u003eDrift detected\\u003c\\u002fb\\u003e\\u003c\\u002fspan\\u003e\",\"[21896:22677]\",\"Chunk index: \\u003cb\\u003e28\\u003c\\u002fb\\u003e\",9.1004,0.1438],[\"Reconstruction Error\",\"\\u003cb style=\\\"color:#3b0280;line-height:60px\\\"\\u003eAnalysis\\u003c\\u002fb\\u003e\",\"\\u003cspan style=\\\"color:#AD0000\\\"\\u003e\\u26a0 \\u003cb\\u003eDrift detected\\u003c\\u002fb\\u003e\\u003c\\u002fspan\\u003e\",\"[22678:23478]\",\"Chunk index: \\u003cb\\u003e29\\u003c\\u002fb\\u003e\",12.2833,0.1421]],\"hovertemplate\":\"%{customdata[1]} &nbsp; &nbsp; %{customdata[2]} \\u003cbr \\u002f\\u003eChunk: \\u003cb\\u003e%{customdata[3]}\\u003c\\u002fb\\u003e &nbsp; &nbsp; %{customdata[4]} \\u003cbr \\u002f\\u003e%{customdata[0]}: \\u003cb\\u003e%{customdata[5]}\\u003c\\u002fb\\u003e\\u003cbr \\u002f\\u003eConfidence band: +\\u002f- \\u003cb\\u003e%{customdata[6]}\\u003c\\u002fb\\u003e\\u003cbr \\u002f\\u003e\\u003cextra\\u003e\\u003c\\u002fextra\\u003e\",\"legendgroup\":\"metric_analysis\",\"marker\":{\"color\":\"#00c8e5\",\"size\":5,\"symbol\":\"circle\"},\"mode\":\"markers\",\"name\":\"Metric\",\"showlegend\":false,\"x\":[30.5,31.5,32.5,33.5,34.5,35.5,36.5,37.5,38.5,39.5,40.5,41.5,42.5,43.5,44.5,45.5,46.5,47.5,48.5,49.5,50.5,51.5,52.5,53.5,54.5,55.5,56.5,57.5,58.5,59.5],\"y\":[4.123761193631038,3.3121304729563557,4.582592306534862,4.119651921152652,4.295648323769854,4.49613623995619,3.811766575701563,3.3375295620713388,3.610148288652614,3.6267401317447634,3.467777320384087,3.238558960827418,4.5154896779588825,5.7300851272178965,8.600794995067407,5.844501164851426,12.627617980585983,5.259459771200703,9.362847566096649,6.264412987751652,18.442926181184173,7.970100937832717,11.116357237407373,14.653072014739283,13.303823095633604,12.09468973918734,9.65614807540889,13.536848838983012,9.100430915610268,12.283253971740056,12.283253971740056],\"type\":\"scatter\"},{\"hoverinfo\":\"skip\",\"legendgroup\":\"alert\",\"marker\":{\"color\":\"#DD4040\",\"size\":8,\"symbol\":\"diamond\"},\"mode\":\"markers\",\"name\":\"Alert\",\"showlegend\":true,\"x\":[30.5,32.5,33.5,34.5,35.5,42.5,43.5,44.5,45.5,46.5,47.5,48.5,49.5,50.5,51.5,52.5,53.5,54.5,55.5,56.5,57.5,58.5,59.5],\"y\":[4.123761193631038,4.582592306534862,4.119651921152652,4.295648323769854,4.49613623995619,4.5154896779588825,5.7300851272178965,8.600794995067407,5.844501164851426,12.627617980585983,5.259459771200703,9.362847566096649,6.264412987751652,18.442926181184173,7.970100937832717,11.116357237407373,14.653072014739283,13.303823095633604,12.09468973918734,9.65614807540889,13.536848838983012,9.100430915610268,12.283253971740056],\"type\":\"scatter\"},{\"hoverinfo\":\"skip\",\"legendgroup\":\"thresh\",\"line\":{\"color\":\"#DD4040\",\"dash\":\"dash\",\"width\":2},\"mode\":\"lines\",\"name\":\"Threshold\",\"showlegend\":false,\"x\":[0,1,2,3,4,5,6,7,8,9,10,11,12,13,14,15,16,17,18,19,20,21,22,23,24,25,26,27,28,29,30],\"y\":[4.061353068700296,4.061353068700296,4.061353068700296,4.061353068700296,4.061353068700296,4.061353068700296,4.061353068700296,4.061353068700296,4.061353068700296,4.061353068700296,4.061353068700296,4.061353068700296,4.061353068700296,4.061353068700296,4.061353068700296,4.061353068700296,4.061353068700296,4.061353068700296,4.061353068700296,4.061353068700296,4.061353068700296,4.061353068700296,4.061353068700296,4.061353068700296,4.061353068700296,4.061353068700296,4.061353068700296,4.061353068700296,4.061353068700296,4.061353068700296,4.061353068700296],\"type\":\"scatter\"},{\"hoverinfo\":\"skip\",\"legendgroup\":\"thresh\",\"line\":{\"color\":\"#DD4040\",\"dash\":\"dash\",\"width\":2},\"mode\":\"lines\",\"name\":\"Threshold\",\"showlegend\":false,\"x\":[0,1,2,3,4,5,6,7,8,9,10,11,12,13,14,15,16,17,18,19,20,21,22,23,24,25,26,27,28,29,30],\"y\":[1.4051690582844227,1.4051690582844227,1.4051690582844227,1.4051690582844227,1.4051690582844227,1.4051690582844227,1.4051690582844227,1.4051690582844227,1.4051690582844227,1.4051690582844227,1.4051690582844227,1.4051690582844227,1.4051690582844227,1.4051690582844227,1.4051690582844227,1.4051690582844227,1.4051690582844227,1.4051690582844227,1.4051690582844227,1.4051690582844227,1.4051690582844227,1.4051690582844227,1.4051690582844227,1.4051690582844227,1.4051690582844227,1.4051690582844227,1.4051690582844227,1.4051690582844227,1.4051690582844227,1.4051690582844227,1.4051690582844227],\"type\":\"scatter\"},{\"hoverinfo\":\"skip\",\"legendgroup\":\"thresh\",\"line\":{\"color\":\"#DD4040\",\"dash\":\"dash\",\"width\":2},\"mode\":\"lines\",\"name\":\"Threshold\",\"showlegend\":false,\"x\":[30,31,32,33,34,35,36,37,38,39,40,41,42,43,44,45,46,47,48,49,50,51,52,53,54,55,56,57,58,59,60],\"y\":[4.061353068700296,4.061353068700296,4.061353068700296,4.061353068700296,4.061353068700296,4.061353068700296,4.061353068700296,4.061353068700296,4.061353068700296,4.061353068700296,4.061353068700296,4.061353068700296,4.061353068700296,4.061353068700296,4.061353068700296,4.061353068700296,4.061353068700296,4.061353068700296,4.061353068700296,4.061353068700296,4.061353068700296,4.061353068700296,4.061353068700296,4.061353068700296,4.061353068700296,4.061353068700296,4.061353068700296,4.061353068700296,4.061353068700296,4.061353068700296,4.061353068700296],\"type\":\"scatter\"},{\"hoverinfo\":\"skip\",\"legendgroup\":\"thresh\",\"line\":{\"color\":\"#DD4040\",\"dash\":\"dash\",\"width\":2},\"mode\":\"lines\",\"name\":\"Threshold\",\"showlegend\":false,\"x\":[30,31,32,33,34,35,36,37,38,39,40,41,42,43,44,45,46,47,48,49,50,51,52,53,54,55,56,57,58,59,60],\"y\":[1.4051690582844227,1.4051690582844227,1.4051690582844227,1.4051690582844227,1.4051690582844227,1.4051690582844227,1.4051690582844227,1.4051690582844227,1.4051690582844227,1.4051690582844227,1.4051690582844227,1.4051690582844227,1.4051690582844227,1.4051690582844227,1.4051690582844227,1.4051690582844227,1.4051690582844227,1.4051690582844227,1.4051690582844227,1.4051690582844227,1.4051690582844227,1.4051690582844227,1.4051690582844227,1.4051690582844227,1.4051690582844227,1.4051690582844227,1.4051690582844227,1.4051690582844227,1.4051690582844227,1.4051690582844227,1.4051690582844227],\"type\":\"scatter\"},{\"hoverinfo\":\"skip\",\"line\":{\"color\":\"rgba(0,0,0,0)\",\"shape\":\"hv\"},\"mode\":\"lines\",\"name\":\"Confidence band\",\"showlegend\":false,\"x\":[0,1,2,3,4,5,6,7,8,9,10,11,12,13,14,15,16,17,18,19,20,21,22,23,24,25,26,27,28,29,30],\"y\":[2.8597308383275077,3.33436896191453,3.115066635205876,2.6090537439762533,2.7916910388811074,2.6164292708584123,2.7327152303980276,2.802870994112716,2.9855539304965415,2.8914755311675773,3.100417700452881,2.987669196910627,3.219853015769244,4.531303010129315,2.7888949447386544,2.7807926269704675,3.613553688015437,2.9604029550740405,2.4924307385179203,2.546492143003804,3.2405605187589215,2.9178662639255855,2.782557532615594,2.720079557017951,2.6677714479122674,3.0671602100145607,3.4043037699772905,4.050431402273623,3.639791124844817,3.0927926343456793,3.0927926343456793],\"type\":\"scatter\"},{\"fill\":\"tonexty\",\"fillcolor\":\"rgba(0.0, 0.7843137254901961, 0.8980392156862745, 0.2)\",\"hoverinfo\":\"skip\",\"line\":{\"color\":\"rgba(0,0,0,0)\",\"shape\":\"hv\"},\"mode\":\"lines\",\"name\":\"Confidence band\",\"showlegend\":true,\"x\":[0,1,2,3,4,5,6,7,8,9,10,11,12,13,14,15,16,17,18,19,20,21,22,23,24,25,26,27,28,29,30],\"y\":[2.2354970828201504,2.7101352064071733,2.4908328796985186,1.9848199884688966,2.167457283373751,1.9921955153510555,2.10848147489067,2.1786372386053596,2.361320174989185,2.267241775660221,2.4761839449455243,2.3634354414032694,2.5956192602618877,3.907069254621958,2.164661189231297,2.15655887146311,2.9893199325080797,2.336169199566684,1.8681969830105631,1.9222583874964474,2.616326763251565,2.293632508418229,2.1583237771082375,2.0958458015105945,2.04353769240491,2.4429264545072034,2.780070014469934,3.4261976467662656,3.0155573693374604,2.503074040386143,2.503074040386143],\"type\":\"scatter\"},{\"hoverinfo\":\"skip\",\"line\":{\"color\":\"rgba(0,0,0,0)\",\"shape\":\"hv\"},\"mode\":\"lines\",\"name\":\"Confidence band\",\"showlegend\":false,\"x\":[30,31,32,33,34,35,36,37,38,39,40,41,42,43,44,45,46,47,48,49,50,51,52,53,54,55,56,57,58,59,60],\"y\":[4.26756418534421,3.455933464669527,4.726395298248034,4.263454912865824,4.439451315483026,4.639939231669362,3.9555695674147344,3.4813325537845103,3.7539512803657855,3.770543123457935,3.6115803120972587,3.3823619525405895,4.6592926696720545,5.8738881189310685,8.744597986780578,5.988304156564598,12.771420972299154,5.403262762913875,9.50665055780982,6.408215979464824,18.586729172897346,8.113903929545888,11.260160229120544,14.796875006452455,13.447626087346775,12.23849273090051,9.79995106712206,13.680651830696183,9.244233907323439,12.425341199142249,12.425341199142249],\"type\":\"scatter\"},{\"fill\":\"tonexty\",\"fillcolor\":\"rgba(0.0, 0.7843137254901961, 0.8980392156862745, 0.2)\",\"hoverinfo\":\"skip\",\"line\":{\"color\":\"rgba(0,0,0,0)\",\"shape\":\"hv\"},\"mode\":\"lines\",\"name\":\"Confidence band\",\"showlegend\":false,\"x\":[30,31,32,33,34,35,36,37,38,39,40,41,42,43,44,45,46,47,48,49,50,51,52,53,54,55,56,57,58,59,60],\"y\":[3.9799582019178668,3.168327481243184,4.43878931482169,3.9758489294394805,4.151845332056682,4.352333248243018,3.6679635839883913,3.193726570358167,3.4663452969394424,3.482937140031592,3.3239743286709156,3.0947559691142463,4.37168668624571,5.5862821355047245,8.456992003354236,5.700698173138254,12.483814988872812,5.115656779487531,9.219044574383478,6.12060999603848,18.299123189471,7.826297946119545,10.972554245694202,14.509269023026112,13.160020103920433,11.950886747474168,9.512345083695719,13.39304584726984,8.956627923897097,12.141166744337863,12.141166744337863],\"type\":\"scatter\"}],                        {\"hoverlabel\":{\"bgcolor\":\"white\",\"font\":{\"size\":14}},\"legend\":{\"itemclick\":false,\"itemdoubleclick\":false,\"traceorder\":\"grouped\"},\"paper_bgcolor\":\"rgba(255,255,255,1)\",\"plot_bgcolor\":\"rgba(255,255,255,1)\",\"title\":{\"text\":\"Multivariate Drift (PCA Reconstruction Error)\"},\"xaxis\":{\"linecolor\":\"#3b0280\",\"mirror\":true,\"showgrid\":false,\"title\":{\"text\":\"Chunk\"},\"zeroline\":false,\"matches\":\"x\"},\"yaxis\":{\"linecolor\":\"#3b0280\",\"mirror\":true,\"showgrid\":false,\"title\":{\"text\":\"Reconstruction Error\"},\"zeroline\":false},\"template\":{\"data\":{\"histogram2dcontour\":[{\"type\":\"histogram2dcontour\",\"colorbar\":{\"outlinewidth\":0,\"ticks\":\"\"},\"colorscale\":[[0.0,\"#0d0887\"],[0.1111111111111111,\"#46039f\"],[0.2222222222222222,\"#7201a8\"],[0.3333333333333333,\"#9c179e\"],[0.4444444444444444,\"#bd3786\"],[0.5555555555555556,\"#d8576b\"],[0.6666666666666666,\"#ed7953\"],[0.7777777777777778,\"#fb9f3a\"],[0.8888888888888888,\"#fdca26\"],[1.0,\"#f0f921\"]]}],\"choropleth\":[{\"type\":\"choropleth\",\"colorbar\":{\"outlinewidth\":0,\"ticks\":\"\"}}],\"histogram2d\":[{\"type\":\"histogram2d\",\"colorbar\":{\"outlinewidth\":0,\"ticks\":\"\"},\"colorscale\":[[0.0,\"#0d0887\"],[0.1111111111111111,\"#46039f\"],[0.2222222222222222,\"#7201a8\"],[0.3333333333333333,\"#9c179e\"],[0.4444444444444444,\"#bd3786\"],[0.5555555555555556,\"#d8576b\"],[0.6666666666666666,\"#ed7953\"],[0.7777777777777778,\"#fb9f3a\"],[0.8888888888888888,\"#fdca26\"],[1.0,\"#f0f921\"]]}],\"heatmap\":[{\"type\":\"heatmap\",\"colorbar\":{\"outlinewidth\":0,\"ticks\":\"\"},\"colorscale\":[[0.0,\"#0d0887\"],[0.1111111111111111,\"#46039f\"],[0.2222222222222222,\"#7201a8\"],[0.3333333333333333,\"#9c179e\"],[0.4444444444444444,\"#bd3786\"],[0.5555555555555556,\"#d8576b\"],[0.6666666666666666,\"#ed7953\"],[0.7777777777777778,\"#fb9f3a\"],[0.8888888888888888,\"#fdca26\"],[1.0,\"#f0f921\"]]}],\"heatmapgl\":[{\"type\":\"heatmapgl\",\"colorbar\":{\"outlinewidth\":0,\"ticks\":\"\"},\"colorscale\":[[0.0,\"#0d0887\"],[0.1111111111111111,\"#46039f\"],[0.2222222222222222,\"#7201a8\"],[0.3333333333333333,\"#9c179e\"],[0.4444444444444444,\"#bd3786\"],[0.5555555555555556,\"#d8576b\"],[0.6666666666666666,\"#ed7953\"],[0.7777777777777778,\"#fb9f3a\"],[0.8888888888888888,\"#fdca26\"],[1.0,\"#f0f921\"]]}],\"contourcarpet\":[{\"type\":\"contourcarpet\",\"colorbar\":{\"outlinewidth\":0,\"ticks\":\"\"}}],\"contour\":[{\"type\":\"contour\",\"colorbar\":{\"outlinewidth\":0,\"ticks\":\"\"},\"colorscale\":[[0.0,\"#0d0887\"],[0.1111111111111111,\"#46039f\"],[0.2222222222222222,\"#7201a8\"],[0.3333333333333333,\"#9c179e\"],[0.4444444444444444,\"#bd3786\"],[0.5555555555555556,\"#d8576b\"],[0.6666666666666666,\"#ed7953\"],[0.7777777777777778,\"#fb9f3a\"],[0.8888888888888888,\"#fdca26\"],[1.0,\"#f0f921\"]]}],\"surface\":[{\"type\":\"surface\",\"colorbar\":{\"outlinewidth\":0,\"ticks\":\"\"},\"colorscale\":[[0.0,\"#0d0887\"],[0.1111111111111111,\"#46039f\"],[0.2222222222222222,\"#7201a8\"],[0.3333333333333333,\"#9c179e\"],[0.4444444444444444,\"#bd3786\"],[0.5555555555555556,\"#d8576b\"],[0.6666666666666666,\"#ed7953\"],[0.7777777777777778,\"#fb9f3a\"],[0.8888888888888888,\"#fdca26\"],[1.0,\"#f0f921\"]]}],\"mesh3d\":[{\"type\":\"mesh3d\",\"colorbar\":{\"outlinewidth\":0,\"ticks\":\"\"}}],\"scatter\":[{\"fillpattern\":{\"fillmode\":\"overlay\",\"size\":10,\"solidity\":0.2},\"type\":\"scatter\"}],\"parcoords\":[{\"type\":\"parcoords\",\"line\":{\"colorbar\":{\"outlinewidth\":0,\"ticks\":\"\"}}}],\"scatterpolargl\":[{\"type\":\"scatterpolargl\",\"marker\":{\"colorbar\":{\"outlinewidth\":0,\"ticks\":\"\"}}}],\"bar\":[{\"error_x\":{\"color\":\"#2a3f5f\"},\"error_y\":{\"color\":\"#2a3f5f\"},\"marker\":{\"line\":{\"color\":\"#E5ECF6\",\"width\":0.5},\"pattern\":{\"fillmode\":\"overlay\",\"size\":10,\"solidity\":0.2}},\"type\":\"bar\"}],\"scattergeo\":[{\"type\":\"scattergeo\",\"marker\":{\"colorbar\":{\"outlinewidth\":0,\"ticks\":\"\"}}}],\"scatterpolar\":[{\"type\":\"scatterpolar\",\"marker\":{\"colorbar\":{\"outlinewidth\":0,\"ticks\":\"\"}}}],\"histogram\":[{\"marker\":{\"pattern\":{\"fillmode\":\"overlay\",\"size\":10,\"solidity\":0.2}},\"type\":\"histogram\"}],\"scattergl\":[{\"type\":\"scattergl\",\"marker\":{\"colorbar\":{\"outlinewidth\":0,\"ticks\":\"\"}}}],\"scatter3d\":[{\"type\":\"scatter3d\",\"line\":{\"colorbar\":{\"outlinewidth\":0,\"ticks\":\"\"}},\"marker\":{\"colorbar\":{\"outlinewidth\":0,\"ticks\":\"\"}}}],\"scattermapbox\":[{\"type\":\"scattermapbox\",\"marker\":{\"colorbar\":{\"outlinewidth\":0,\"ticks\":\"\"}}}],\"scatterternary\":[{\"type\":\"scatterternary\",\"marker\":{\"colorbar\":{\"outlinewidth\":0,\"ticks\":\"\"}}}],\"scattercarpet\":[{\"type\":\"scattercarpet\",\"marker\":{\"colorbar\":{\"outlinewidth\":0,\"ticks\":\"\"}}}],\"carpet\":[{\"aaxis\":{\"endlinecolor\":\"#2a3f5f\",\"gridcolor\":\"white\",\"linecolor\":\"white\",\"minorgridcolor\":\"white\",\"startlinecolor\":\"#2a3f5f\"},\"baxis\":{\"endlinecolor\":\"#2a3f5f\",\"gridcolor\":\"white\",\"linecolor\":\"white\",\"minorgridcolor\":\"white\",\"startlinecolor\":\"#2a3f5f\"},\"type\":\"carpet\"}],\"table\":[{\"cells\":{\"fill\":{\"color\":\"#EBF0F8\"},\"line\":{\"color\":\"white\"}},\"header\":{\"fill\":{\"color\":\"#C8D4E3\"},\"line\":{\"color\":\"white\"}},\"type\":\"table\"}],\"barpolar\":[{\"marker\":{\"line\":{\"color\":\"#E5ECF6\",\"width\":0.5},\"pattern\":{\"fillmode\":\"overlay\",\"size\":10,\"solidity\":0.2}},\"type\":\"barpolar\"}],\"pie\":[{\"automargin\":true,\"type\":\"pie\"}]},\"layout\":{\"autotypenumbers\":\"strict\",\"colorway\":[\"#636efa\",\"#EF553B\",\"#00cc96\",\"#ab63fa\",\"#FFA15A\",\"#19d3f3\",\"#FF6692\",\"#B6E880\",\"#FF97FF\",\"#FECB52\"],\"font\":{\"color\":\"#2a3f5f\"},\"hovermode\":\"closest\",\"hoverlabel\":{\"align\":\"left\"},\"paper_bgcolor\":\"white\",\"plot_bgcolor\":\"#E5ECF6\",\"polar\":{\"bgcolor\":\"#E5ECF6\",\"angularaxis\":{\"gridcolor\":\"white\",\"linecolor\":\"white\",\"ticks\":\"\"},\"radialaxis\":{\"gridcolor\":\"white\",\"linecolor\":\"white\",\"ticks\":\"\"}},\"ternary\":{\"bgcolor\":\"#E5ECF6\",\"aaxis\":{\"gridcolor\":\"white\",\"linecolor\":\"white\",\"ticks\":\"\"},\"baxis\":{\"gridcolor\":\"white\",\"linecolor\":\"white\",\"ticks\":\"\"},\"caxis\":{\"gridcolor\":\"white\",\"linecolor\":\"white\",\"ticks\":\"\"}},\"coloraxis\":{\"colorbar\":{\"outlinewidth\":0,\"ticks\":\"\"}},\"colorscale\":{\"sequential\":[[0.0,\"#0d0887\"],[0.1111111111111111,\"#46039f\"],[0.2222222222222222,\"#7201a8\"],[0.3333333333333333,\"#9c179e\"],[0.4444444444444444,\"#bd3786\"],[0.5555555555555556,\"#d8576b\"],[0.6666666666666666,\"#ed7953\"],[0.7777777777777778,\"#fb9f3a\"],[0.8888888888888888,\"#fdca26\"],[1.0,\"#f0f921\"]],\"sequentialminus\":[[0.0,\"#0d0887\"],[0.1111111111111111,\"#46039f\"],[0.2222222222222222,\"#7201a8\"],[0.3333333333333333,\"#9c179e\"],[0.4444444444444444,\"#bd3786\"],[0.5555555555555556,\"#d8576b\"],[0.6666666666666666,\"#ed7953\"],[0.7777777777777778,\"#fb9f3a\"],[0.8888888888888888,\"#fdca26\"],[1.0,\"#f0f921\"]],\"diverging\":[[0,\"#8e0152\"],[0.1,\"#c51b7d\"],[0.2,\"#de77ae\"],[0.3,\"#f1b6da\"],[0.4,\"#fde0ef\"],[0.5,\"#f7f7f7\"],[0.6,\"#e6f5d0\"],[0.7,\"#b8e186\"],[0.8,\"#7fbc41\"],[0.9,\"#4d9221\"],[1,\"#276419\"]]},\"xaxis\":{\"gridcolor\":\"white\",\"linecolor\":\"white\",\"ticks\":\"\",\"title\":{\"standoff\":15},\"zerolinecolor\":\"white\",\"automargin\":true,\"zerolinewidth\":2},\"yaxis\":{\"gridcolor\":\"white\",\"linecolor\":\"white\",\"ticks\":\"\",\"title\":{\"standoff\":15},\"zerolinecolor\":\"white\",\"automargin\":true,\"zerolinewidth\":2},\"scene\":{\"xaxis\":{\"backgroundcolor\":\"#E5ECF6\",\"gridcolor\":\"white\",\"linecolor\":\"white\",\"showbackground\":true,\"ticks\":\"\",\"zerolinecolor\":\"white\",\"gridwidth\":2},\"yaxis\":{\"backgroundcolor\":\"#E5ECF6\",\"gridcolor\":\"white\",\"linecolor\":\"white\",\"showbackground\":true,\"ticks\":\"\",\"zerolinecolor\":\"white\",\"gridwidth\":2},\"zaxis\":{\"backgroundcolor\":\"#E5ECF6\",\"gridcolor\":\"white\",\"linecolor\":\"white\",\"showbackground\":true,\"ticks\":\"\",\"zerolinecolor\":\"white\",\"gridwidth\":2}},\"shapedefaults\":{\"line\":{\"color\":\"#2a3f5f\"}},\"annotationdefaults\":{\"arrowcolor\":\"#2a3f5f\",\"arrowhead\":0,\"arrowwidth\":1},\"geo\":{\"bgcolor\":\"white\",\"landcolor\":\"#E5ECF6\",\"subunitcolor\":\"white\",\"showland\":true,\"showlakes\":true,\"lakecolor\":\"white\"},\"title\":{\"x\":0.05},\"mapbox\":{\"style\":\"light\"}}},\"shapes\":[{\"layer\":\"below\",\"line\":{\"color\":\"#666666\",\"width\":1},\"type\":\"line\",\"x0\":30,\"x1\":30,\"xref\":\"x\",\"y0\":0,\"y1\":1,\"yref\":\"y domain\"}],\"annotations\":[{\"showarrow\":false,\"text\":\"Reference\",\"x\":14.5,\"xshift\":10,\"y\":1.01,\"yref\":\"y domain\"},{\"showarrow\":false,\"text\":\"Analysis\",\"x\":44.5,\"xshift\":15,\"y\":1.01,\"yref\":\"y domain\"}]},                        {\"responsive\": true}                    ).then(function(){\n",
       "                            \n",
       "var gd = document.getElementById('bba1189f-3a34-464a-adf2-275cc5456a42');\n",
       "var x = new MutationObserver(function (mutations, observer) {{\n",
       "        var display = window.getComputedStyle(gd).display;\n",
       "        if (!display || display === 'none') {{\n",
       "            console.log([gd, 'removed!']);\n",
       "            Plotly.purge(gd);\n",
       "            observer.disconnect();\n",
       "        }}\n",
       "}});\n",
       "\n",
       "// Listen for the removal of the full notebook cells\n",
       "var notebookContainer = gd.closest('#notebook-container');\n",
       "if (notebookContainer) {{\n",
       "    x.observe(notebookContainer, {childList: true});\n",
       "}}\n",
       "\n",
       "// Listen for the clearing of the current output cell\n",
       "var outputEl = gd.closest('.output');\n",
       "if (outputEl) {{\n",
       "    x.observe(outputEl, {childList: true});\n",
       "}}\n",
       "\n",
       "                        })                };                });            </script>        </div>"
      ]
     },
     "metadata": {},
     "output_type": "display_data"
    }
   ],
   "source": [
    "figure"
   ]
  },
  {
   "cell_type": "code",
   "execution_count": null,
   "id": "a596a444-e126-4967-8751-0484fe689939",
   "metadata": {},
   "outputs": [],
   "source": []
  },
  {
   "cell_type": "code",
   "execution_count": null,
   "id": "9a1048b1-fe1c-40fe-ba61-5e03e8292266",
   "metadata": {},
   "outputs": [],
   "source": []
  },
  {
   "cell_type": "code",
   "execution_count": null,
   "id": "0ef9cf71-1666-4dbf-9375-2703ff8dd2af",
   "metadata": {},
   "outputs": [],
   "source": []
  },
  {
   "cell_type": "code",
   "execution_count": null,
   "id": "36645e4d-4424-4263-a7b9-c1d47ef71cb0",
   "metadata": {},
   "outputs": [],
   "source": []
  },
  {
   "cell_type": "code",
   "execution_count": null,
   "id": "c359f8e1-c2e4-4bd0-9224-1eab4d298fa4",
   "metadata": {},
   "outputs": [],
   "source": []
  },
  {
   "cell_type": "code",
   "execution_count": null,
   "id": "88db3223-db9f-4e1c-b12a-bd128bc592d4",
   "metadata": {},
   "outputs": [],
   "source": []
  },
  {
   "cell_type": "code",
   "execution_count": null,
   "id": "831a29c8-8c21-458c-8062-e99674acea63",
   "metadata": {},
   "outputs": [],
   "source": []
  },
  {
   "cell_type": "code",
   "execution_count": null,
   "id": "eac560fb-96ef-4c38-a55b-94e303ac174b",
   "metadata": {},
   "outputs": [],
   "source": []
  },
  {
   "cell_type": "code",
   "execution_count": null,
   "id": "8d426df3-9930-46ee-ad93-eeaf25e92862",
   "metadata": {},
   "outputs": [],
   "source": []
  },
  {
   "cell_type": "code",
   "execution_count": null,
   "id": "b22aecd5-1774-4b4c-b248-5fdd217aede0",
   "metadata": {},
   "outputs": [],
   "source": []
  }
 ],
 "metadata": {
  "kernelspec": {
   "display_name": "Python 3 (ipykernel)",
   "language": "python",
   "name": "python3"
  },
  "language_info": {
   "codemirror_mode": {
    "name": "ipython",
    "version": 3
   },
   "file_extension": ".py",
   "mimetype": "text/x-python",
   "name": "python",
   "nbconvert_exporter": "python",
   "pygments_lexer": "ipython3",
   "version": "3.8.18"
  }
 },
 "nbformat": 4,
 "nbformat_minor": 5
}
