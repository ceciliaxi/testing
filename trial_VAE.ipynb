{
 "cells": [
  {
   "cell_type": "code",
   "execution_count": 1,
   "id": "9d8461dd-41ee-4442-adf1-9d10d5a2dc62",
   "metadata": {},
   "outputs": [],
   "source": [
    "import numpy as np\n",
    "import pandas as pd\n",
    "import matplotlib.pyplot as plt"
   ]
  },
  {
   "cell_type": "code",
   "execution_count": 2,
   "id": "fb5dd4a9-360e-42a4-b52d-5afd806858ec",
   "metadata": {},
   "outputs": [],
   "source": [
    "from merlion.utils import TimeSeries\n",
    "\n",
    "# We initialize models using the model factory in this tutorial\n",
    "# We manually set the detection threshold to 2 (in standard deviation units) for all models\n",
    "from merlion.models.factory import ModelFactory\n",
    "from merlion.post_process.threshold import AggregateAlarms\n",
    "from metrics.eval_metrics import *"
   ]
  },
  {
   "cell_type": "code",
   "execution_count": null,
   "id": "fffee3f1-932b-4df0-9e77-7fc7a6a86142",
   "metadata": {},
   "outputs": [],
   "source": []
  },
  {
   "cell_type": "code",
   "execution_count": 3,
   "id": "484789fd-dd69-4021-a4c0-cb7b9ff5b1fb",
   "metadata": {},
   "outputs": [
    {
     "name": "stdout",
     "output_type": "stream",
     "text": [
      "data/SMD_DA/tr_3-7_te_3-7\n"
     ]
    }
   ],
   "source": [
    "data_root = 'data/SMD_DA/'\n",
    "dataset = 'SMD'\n",
    "train_data = ['tr_3-7'] #['tr_1-1','tr_2-1', 'tr_3-2']\n",
    "test_data = 'te_3-7'\n",
    "feat_num = 38\n",
    "\n",
    "data_path = data_root + '_'.join(['tr_' + '_'.join([i[3:] for i in train_data]), test_data])\n",
    "print(data_path)\n",
    "\n",
    "tr_data = np.load(data_path + '/' + dataset + '_train.npy')\n",
    "te_data = np.load(data_path + '/' + dataset + '_test.npy')\n",
    "te_label = np.load(data_path + '/' + dataset + '_test_label.npy')"
   ]
  },
  {
   "cell_type": "code",
   "execution_count": null,
   "id": "65e97343-aaa7-4204-9858-2f226cfe11da",
   "metadata": {},
   "outputs": [],
   "source": []
  },
  {
   "cell_type": "code",
   "execution_count": 4,
   "id": "f09a33b2-780b-4395-8a2a-2afe19478295",
   "metadata": {},
   "outputs": [],
   "source": [
    "# Convert dataframe to time series\n",
    "sel_feats = ['feat_'+str(i) for i in range(feat_num)]\n",
    "train_data = TimeSeries.from_pd(pd.DataFrame(tr_data, columns=sel_feats))\n",
    "test_data = TimeSeries.from_pd(pd.DataFrame(te_data, columns=sel_feats))"
   ]
  },
  {
   "cell_type": "code",
   "execution_count": 5,
   "id": "d59f1f0f-4e27-47c8-a194-dfcc5bb53017",
   "metadata": {},
   "outputs": [],
   "source": [
    "from merlion.models.anomaly.lstm_ed import LSTMEDConfig, LSTMED"
   ]
  },
  {
   "cell_type": "code",
   "execution_count": 6,
   "id": "44e7bdf6-ae9d-4887-910d-99b1cbd9880b",
   "metadata": {},
   "outputs": [],
   "source": [
    "kwargs = {} #{'num_epochs': 0}\n",
    "config, _ = LSTMEDConfig().from_dict(kwargs, return_unused_kwargs=True)"
   ]
  },
  {
   "cell_type": "code",
   "execution_count": 7,
   "id": "2deb7164-9080-4181-a9ad-9d7e79aab0d4",
   "metadata": {},
   "outputs": [
    {
     "name": "stdout",
     "output_type": "stream",
     "text": [
      " |========================================| 100.0% Complete, Loss 87725.2578\n"
     ]
    }
   ],
   "source": [
    "model_name = 'LSTMED' #'VAE'\n",
    "# tmp_model = ModelFactory.create(model_name, threshold=AggregateAlarms(alm_threshold=2))\n",
    "tmp_model = LSTMED(config)\n",
    "\n",
    "# Get the anomaly score\n",
    "tr_scores = tmp_model.train(train_data)\n",
    "tr_scores = tr_scores.to_pd()['anom_score']\n",
    "te_scores = tmp_model.get_anomaly_score(test_data).to_pd()['anom_score'].tolist()"
   ]
  },
  {
   "cell_type": "code",
   "execution_count": 8,
   "id": "469e5032-7556-40ef-836f-1ed5466ceefa",
   "metadata": {},
   "outputs": [
    {
     "name": "stdout",
     "output_type": "stream",
     "text": [
      "PA%K\n",
      "PA%K varying K\n",
      "PA%K POT\n",
      "PA%K POT varying K\n"
     ]
    }
   ],
   "source": [
    "# Get the overall evaluation results\n",
    "results = overall_evaluation(tr_scores, te_scores, te_label)"
   ]
  },
  {
   "cell_type": "code",
   "execution_count": 9,
   "id": "270dff1d-30b0-4d62-99ea-887899a89372",
   "metadata": {},
   "outputs": [],
   "source": [
    "test_results = results"
   ]
  },
  {
   "cell_type": "code",
   "execution_count": 10,
   "id": "2287ff15-52e3-4c6e-851a-beb81643847e",
   "metadata": {},
   "outputs": [
    {
     "name": "stdout",
     "output_type": "stream",
     "text": [
      "0.2994 & 0.9315 & 0.438 & 0.2465 & 0.927 & 0.3398 & 0.6756 & 0.2123 & 0.7216 & 0.1309\n"
     ]
    }
   ],
   "source": [
    "results_output = ' & '.join([str(i) for i in \n",
    "                            [# F1 with optimal threshold\n",
    "                                test_results['pak']['wo_pa']['basic']['f1'], \n",
    "                                test_results['pak']['w_pa']['basic']['f1'], \n",
    "                                test_results['pak_vk']['f1'], \n",
    "                                # F1 with POT threshold\n",
    "                                test_results['pak_pot']['wo_pa']['basic']['f1'], \n",
    "                                test_results['pak_pot']['w_pa']['basic']['f1'],\n",
    "                                test_results['pak_vk_pot']['f1'], \n",
    "                                # AUCs\n",
    "                                test_results['pak']['auc']['roc_auc'], \n",
    "                                test_results['pak']['auc']['pr_auc'],\n",
    "                                test_results['pak']['range_auc']['range_roc_auc'],\n",
    "                                test_results['pak']['range_auc']['range_pr_auc'], \n",
    "                                # Running time\n",
    "                                # train_time, test_time\n",
    "                            ]])\n",
    "print(results_output)"
   ]
  },
  {
   "cell_type": "code",
   "execution_count": 14,
   "id": "8236b7b7-fae2-48a4-b0b4-ee82a663adfb",
   "metadata": {},
   "outputs": [],
   "source": [
    "# 0.3216 & 0.9338 & 0.4647 & 0.2495 & 0.9259 & 0.3424 & 0.6436 & 0.2314 & 0.6845 & 0.1766\n",
    "# 0.0333 & 0.9133 & 0.1059 & 0.0086 & 0.4240 & 0.0294 & 0.4978 & 0.0208 & 0.5254 & 0.0205\n",
    "# 0.1253 & 0.8349 & 0.2200 & 0.0735 & 0.3469 & 0.1321 & 0.6763 & 0.0957 & 0.5497 & 0.0367\n",
    "\n",
    "# 0.0432 & 0.8238 & 0.1204 & 0.0131 & 0.2550 & 0.0252 & 0.6203 & 0.0259 & 0.4136 & 0.0236 \n",
    "# 0.0528 & 0.8282 & 0.1525 & 0.0247 & 0.2598 & 0.0365 & 0.6467 & 0.0390 & 0.3980 & 0.0250 (2)\n",
    "# 0.0528 & 0.8304 & 0.1523 & 0.0248 & 0.2608 & 0.0366 & 0.6462 & 0.0446 & 0.4428 & 0.0262 (1)\n",
    "# 0.0503 & 0.8249 & 0.1496 & 0.0249 & 0.2618 & 0.0367 & 0.6452 & 0.0356 & 0.3569 & 0.0242 (10)"
   ]
  },
  {
   "cell_type": "code",
   "execution_count": null,
   "id": "faa9c8d3-96c3-4df4-b9f1-d21cb246613e",
   "metadata": {},
   "outputs": [],
   "source": [
    "# 0.3210 & 0.9315 & 0.4612 & 0.2495 & 0.9259 & 0.3424 & 0.6500 & 0.2295 & 0.6926 & 0.1751 # Random LSTM-ED\n",
    "# 0.2994 & 0.9315 & 0.4380 & 0.2465 & 0.9270 & 0.3398 & 0.6756 & 0.2123 & 0.7216 & 0.1309 # LSTM-ED"
   ]
  },
  {
   "cell_type": "code",
   "execution_count": null,
   "id": "21096c1e-45ce-4bae-8afc-a393be9dba54",
   "metadata": {},
   "outputs": [],
   "source": []
  },
  {
   "cell_type": "code",
   "execution_count": null,
   "id": "9f56c0bc-e97e-46db-9be7-8e373e4f960c",
   "metadata": {},
   "outputs": [],
   "source": []
  },
  {
   "cell_type": "code",
   "execution_count": 30,
   "id": "7ccbeac4-d352-467c-8a60-5cda3d757278",
   "metadata": {},
   "outputs": [
    {
     "name": "stdout",
     "output_type": "stream",
     "text": [
      "data/SMD_DA/tr_3-7_te_3-2\n"
     ]
    }
   ],
   "source": [
    "data_root = 'data/SMD_DA/'\n",
    "dataset = 'SMD'\n",
    "train_data = ['tr_3-7'] #['tr_1-1','tr_2-1', 'tr_3-2']\n",
    "test_data = 'te_3-2'\n",
    "feat_num = 38\n",
    "\n",
    "data_path = data_root + '_'.join(['tr_' + '_'.join([i[3:] for i in train_data]), test_data])\n",
    "print(data_path)\n",
    "\n",
    "tr_data = np.load(data_path + '/' + dataset + '_train.npy')\n",
    "te_data = np.load(data_path + '/' + dataset + '_test.npy')\n",
    "te_label = np.load(data_path + '/' + dataset + '_test_label.npy')"
   ]
  },
  {
   "cell_type": "code",
   "execution_count": null,
   "id": "0d5851e5-78f0-431b-9745-46836a5e60f3",
   "metadata": {},
   "outputs": [],
   "source": []
  },
  {
   "cell_type": "code",
   "execution_count": 31,
   "id": "9a37b237-97e4-448d-bb2b-08d8f27d5aa6",
   "metadata": {},
   "outputs": [
    {
     "data": {
      "text/plain": [
       "[<matplotlib.lines.Line2D at 0x1710dd9e470>]"
      ]
     },
     "execution_count": 31,
     "metadata": {},
     "output_type": "execute_result"
    },
    {
     "data": {
      "image/png": "[encoded data removed]",
      "text/plain": [
       "<Figure size 640x480 with 1 Axes>"
      ]
     },
     "metadata": {},
     "output_type": "display_data"
    }
   ],
   "source": [
    "plt.plot(te_label)"
   ]
  },
  {
   "cell_type": "code",
   "execution_count": 29,
   "id": "6719b9ae-b345-4eb4-a530-e65d2a4aee21",
   "metadata": {},
   "outputs": [
    {
     "name": "stdout",
     "output_type": "stream",
     "text": [
      "23294 23694 400\n"
     ]
    }
   ],
   "source": [
    "pos_idx = [idx for idx in range(len(te_label)) if te_label[idx] == 1]\n",
    "print(max(pos_idx), len(te_label), len(te_label)-max(pos_idx))"
   ]
  },
  {
   "cell_type": "code",
   "execution_count": null,
   "id": "69232cd9-1db2-4370-bec6-f37353204bcc",
   "metadata": {},
   "outputs": [],
   "source": []
  },
  {
   "cell_type": "code",
   "execution_count": null,
   "id": "ace58c70-c77e-484f-9a52-141339e9e875",
   "metadata": {},
   "outputs": [],
   "source": []
  },
  {
   "cell_type": "code",
   "execution_count": null,
   "id": "a01349ba-df79-4d02-8c7c-a902ffb2ced2",
   "metadata": {},
   "outputs": [],
   "source": []
  }
 ],
 "metadata": {
  "kernelspec": {
   "display_name": "Python 3 (ipykernel)",
   "language": "python",
   "name": "python3"
  },
  "language_info": {
   "codemirror_mode": {
    "name": "ipython",
    "version": 3
   },
   "file_extension": ".py",
   "mimetype": "text/x-python",
   "name": "python",
   "nbconvert_exporter": "python",
   "pygments_lexer": "ipython3",
   "version": "3.8.18"
  }
 },
 "nbformat": 4,
 "nbformat_minor": 5
}
