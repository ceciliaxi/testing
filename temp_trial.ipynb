{
 "cells": [
  {
   "cell_type": "code",
   "execution_count": 1,
   "id": "cfb881da-d483-414c-981c-627925d14d3b",
   "metadata": {},
   "outputs": [],
   "source": [
    "from merlion.utils import TimeSeries"
   ]
  },
  {
   "cell_type": "code",
   "execution_count": null,
   "id": "8f91c88a-9802-4a6b-ba78-723ad8cb61c3",
   "metadata": {},
   "outputs": [],
   "source": []
  },
  {
   "cell_type": "code",
   "execution_count": null,
   "id": "173cece7-c404-4a15-b418-f7dd42683d90",
   "metadata": {},
   "outputs": [],
   "source": []
  },
  {
   "cell_type": "code",
   "execution_count": 28,
   "id": "f8bb34ad-0b56-4eba-a474-6686c833bf82",
   "metadata": {},
   "outputs": [],
   "source": [
    "# Set the train, validation, and test data\n",
    "data_file = {'feat_num': 38, \n",
    "             'num_classes': 2, \n",
    "             'train_data': ['machine-1-1_train_features.hdf5',\n",
    "                            'machine-2-1_train_features.hdf5',\n",
    "                            'machine-3-2_train_features.hdf5',\n",
    "                            'machine-3-7_train_features.hdf5'], \n",
    "             \n",
    "             'val_data': ['machine-1-1_val_features.hdf5',\n",
    "                          'machine-2-1_val_features.hdf5',\n",
    "                          'machine-3-2_val_features.hdf5',\n",
    "                          'machine-3-7_val_features.hdf5'],\n",
    "             \n",
    "             'test_data': ['machine-1-1_features.hdf5',\n",
    "                           'machine-2-1_features.hdf5', \n",
    "                           'machine-3-2_features.hdf5',\n",
    "                           'machine-3-7_features.hdf5']}"
   ]
  },
  {
   "cell_type": "code",
   "execution_count": 29,
   "id": "f6350fa3-1ea9-4341-bc2f-99de07e6013f",
   "metadata": {},
   "outputs": [],
   "source": [
    "import pickle \n",
    "\n",
    "data_info = 'data/SMD_data_info.pkl'\n",
    "with open(data_info, 'wb') as f:\n",
    "    pickle.dump(data_file, f)\n",
    "        \n",
    "with open(data_info, 'rb') as f:\n",
    "    loaded_dict = pickle.load(f)"
   ]
  },
  {
   "cell_type": "code",
   "execution_count": 30,
   "id": "6bb4d6a2-9131-4c1e-8a38-f2c38c83e42a",
   "metadata": {},
   "outputs": [
    {
     "data": {
      "text/plain": [
       "{'feat_num': 38,\n",
       " 'num_classes': 2,\n",
       " 'train_data': ['machine-1-1_train_features.hdf5',\n",
       "  'machine-2-1_train_features.hdf5',\n",
       "  'machine-3-2_train_features.hdf5',\n",
       "  'machine-3-7_train_features.hdf5'],\n",
       " 'val_data': ['machine-1-1_val_features.hdf5',\n",
       "  'machine-2-1_val_features.hdf5',\n",
       "  'machine-3-2_val_features.hdf5',\n",
       "  'machine-3-7_val_features.hdf5'],\n",
       " 'test_data': ['machine-1-1_features.hdf5',\n",
       "  'machine-2-1_features.hdf5',\n",
       "  'machine-3-2_features.hdf5',\n",
       "  'machine-3-7_features.hdf5']}"
      ]
     },
     "execution_count": 30,
     "metadata": {},
     "output_type": "execute_result"
    }
   ],
   "source": [
    "loaded_dict"
   ]
  },
  {
   "cell_type": "code",
   "execution_count": null,
   "id": "27af1d1d-58ee-4154-aea4-ea799f1a8029",
   "metadata": {},
   "outputs": [],
   "source": []
  },
  {
   "cell_type": "code",
   "execution_count": null,
   "id": "18f96703-bda4-42e3-a6a4-4de37274e2b1",
   "metadata": {},
   "outputs": [],
   "source": []
  },
  {
   "cell_type": "code",
   "execution_count": null,
   "id": "f91ffa00-7a9e-4ef5-8bf6-02a9e9f57181",
   "metadata": {},
   "outputs": [],
   "source": []
  },
  {
   "cell_type": "code",
   "execution_count": null,
   "id": "bcb1f4d7-0d3b-432b-8399-bdbe5079a4b5",
   "metadata": {},
   "outputs": [],
   "source": []
  },
  {
   "cell_type": "code",
   "execution_count": null,
   "id": "7d33bc04-31ba-43f4-b15c-5ea47957e6af",
   "metadata": {},
   "outputs": [],
   "source": []
  },
  {
   "cell_type": "code",
   "execution_count": 9,
   "id": "9ffd58db-92e2-4862-b2f3-54d063cc9a19",
   "metadata": {},
   "outputs": [],
   "source": [
    "import h5py\n",
    "import numpy as np\n",
    "import pandas as pd"
   ]
  },
  {
   "cell_type": "code",
   "execution_count": 10,
   "id": "b48e70f0-aea0-4ab6-9c71-69b8dd55ae2e",
   "metadata": {},
   "outputs": [],
   "source": [
    "file_path = 'data/machine-1-1_val_features.hdf5'\n",
    "f = h5py.File(file_path, \"r\")\n",
    "data = np.array(f['data'])\n",
    "labels = np.array(f['labels'])\n",
    "f.close()"
   ]
  },
  {
   "cell_type": "code",
   "execution_count": 11,
   "id": "939a4dc9-b388-4426-b318-279220037593",
   "metadata": {},
   "outputs": [
    {
     "name": "stdout",
     "output_type": "stream",
     "text": [
      "(500, 38)\n",
      "(500, 2)\n"
     ]
    }
   ],
   "source": [
    "print(np.shape(data))\n",
    "print(np.shape(labels))"
   ]
  },
  {
   "cell_type": "code",
   "execution_count": 12,
   "id": "766d57fd-8ed4-416b-a04f-ae60e6712a06",
   "metadata": {},
   "outputs": [],
   "source": [
    "sel_feats = ['value-' + str(i) for i in range(38)]\n",
    "data_ts = TimeSeries.from_pd(pd.DataFrame(data, columns=sel_feats))"
   ]
  },
  {
   "cell_type": "code",
   "execution_count": 13,
   "id": "06c19db8-4040-489e-aa4a-4717f9a3b27c",
   "metadata": {},
   "outputs": [
    {
     "data": {
      "text/plain": [
       "500"
      ]
     },
     "execution_count": 13,
     "metadata": {},
     "output_type": "execute_result"
    }
   ],
   "source": [
    "len(data_ts)"
   ]
  },
  {
   "cell_type": "code",
   "execution_count": null,
   "id": "b73f1590-69f0-4a9b-8e91-989606a60719",
   "metadata": {},
   "outputs": [],
   "source": []
  },
  {
   "cell_type": "code",
   "execution_count": 14,
   "id": "2656a349-8e9e-48fe-8f00-6f8ec7911fc8",
   "metadata": {},
   "outputs": [],
   "source": [
    "from merlion.models.anomaly.vae import VAE\n",
    "from merlion.models.utils.rolling_window_dataset import RollingWindowDataset\n",
    "from merlion.utils.misc import ProgressBar"
   ]
  },
  {
   "cell_type": "code",
   "execution_count": 19,
   "id": "3fce7272-869e-42bc-b672-de03f5e9c975",
   "metadata": {},
   "outputs": [],
   "source": [
    "sequence_len = 1\n",
    "batch_size = 64\n",
    "\n",
    "loader = RollingWindowDataset(\n",
    "            data_ts,\n",
    "            target_seq_index=None,\n",
    "            shuffle=True,\n",
    "            flatten=True,\n",
    "            n_past=2,\n",
    "            n_future=0,\n",
    "            batch_size=batch_size,\n",
    "        )"
   ]
  },
  {
   "cell_type": "code",
   "execution_count": 20,
   "id": "7337daa5-d3e6-4926-a6ab-d5464f8386ef",
   "metadata": {},
   "outputs": [
    {
     "data": {
      "text/plain": [
       "500"
      ]
     },
     "execution_count": 20,
     "metadata": {},
     "output_type": "execute_result"
    }
   ],
   "source": [
    "len(data_ts)"
   ]
  },
  {
   "cell_type": "code",
   "execution_count": null,
   "id": "9ebd1a12-3630-449b-84c6-bb69098defc5",
   "metadata": {},
   "outputs": [],
   "source": []
  },
  {
   "cell_type": "code",
   "execution_count": 21,
   "id": "f6d82f07-6820-481f-ae6d-b415c9a4d983",
   "metadata": {
    "scrolled": true
   },
   "outputs": [
    {
     "name": "stdout",
     "output_type": "stream",
     "text": [
      "0 (64, 76)\n",
      "1 (64, 76)\n",
      "2 (64, 76)\n",
      "3 (64, 76)\n",
      "4 (64, 76)\n",
      "5 (64, 76)\n",
      "6 (64, 76)\n",
      "7 (51, 76)\n"
     ]
    }
   ],
   "source": [
    "for i, (batch, _, _, _) in enumerate(loader):\n",
    "    print(i, np.shape(batch))"
   ]
  },
  {
   "cell_type": "code",
   "execution_count": 121,
   "id": "3290ff9c-c179-4d4f-a7e8-b3aa7a083411",
   "metadata": {},
   "outputs": [
    {
     "data": {
      "text/plain": [
       "(62, 40)"
      ]
     },
     "execution_count": 121,
     "metadata": {},
     "output_type": "execute_result"
    }
   ],
   "source": [
    "np.shape(batch)"
   ]
  },
  {
   "cell_type": "code",
   "execution_count": 48,
   "id": "c81cf66a-69cf-4211-b9af-3e5749fcf64f",
   "metadata": {},
   "outputs": [
    {
     "data": {
      "text/plain": [
       "500"
      ]
     },
     "execution_count": 48,
     "metadata": {},
     "output_type": "execute_result"
    }
   ],
   "source": [
    "len(data_ts)"
   ]
  },
  {
   "cell_type": "code",
   "execution_count": 58,
   "id": "c814452d-6d36-4a92-9b70-27f0e05ddab1",
   "metadata": {},
   "outputs": [
    {
     "data": {
      "text/plain": [
       "array([[6.45160e-02, 6.88560e-02, 7.91530e-02, 7.31710e-02, 0.00000e+00,\n",
       "        8.94872e-01, 2.60829e-01, 0.00000e+00, 2.35590e-02, 0.00000e+00,\n",
       "        2.09117e-01, 8.10810e-02, 2.73970e-02, 5.53330e-02, 1.04241e-01,\n",
       "        2.22437e-01, 0.00000e+00, 0.00000e+00, 9.78640e-02, 7.65820e-02,\n",
       "        8.19470e-02, 6.44480e-02, 9.64688e-01, 1.08330e-02, 2.76370e-02,\n",
       "        1.00250e-02, 0.00000e+00, 6.92300e-02, 0.00000e+00, 8.59600e-03,\n",
       "        6.03850e-02, 4.37470e-02, 0.00000e+00, 3.40000e-05, 6.23330e-02,\n",
       "        6.23280e-02, 0.00000e+00, 0.00000e+00],\n",
       "       [1.07527e-01, 1.40890e-01, 1.01449e-01, 9.05920e-02, 0.00000e+00,\n",
       "        9.28205e-01, 2.69303e-01, 0.00000e+00, 2.82430e-02, 1.22000e-04,\n",
       "        1.16831e-01, 6.75680e-02, 2.73970e-02, 6.24680e-02, 1.18906e-01,\n",
       "        1.32584e-01, 0.00000e+00, 0.00000e+00, 1.23528e-01, 1.08873e-01,\n",
       "        1.22797e-01, 9.86610e-02, 9.61171e-01, 1.28530e-02, 4.58280e-02,\n",
       "        1.20190e-02, 0.00000e+00, 1.02782e-01, 0.00000e+00, 1.14610e-02,\n",
       "        9.13700e-02, 7.66860e-02, 3.86000e-04, 3.40000e-05, 9.12180e-02,\n",
       "        9.12840e-02, 0.00000e+00, 0.00000e+00],\n",
       "       [7.52690e-02, 9.00420e-02, 8.24970e-02, 7.66550e-02, 0.00000e+00,\n",
       "        9.07692e-01, 2.61770e-01, 0.00000e+00, 2.66820e-02, 3.66000e-04,\n",
       "        1.46347e-01, 8.10810e-02, 2.73970e-02, 6.34410e-02, 1.11375e-01,\n",
       "        1.64453e-01, 0.00000e+00, 0.00000e+00, 1.06611e-01, 7.93100e-02,\n",
       "        8.12330e-02, 6.35130e-02, 8.88036e-01, 1.23720e-02, 2.60630e-02,\n",
       "        1.13540e-02, 0.00000e+00, 6.72210e-02, 0.00000e+00, 7.16300e-03,\n",
       "        5.84010e-02, 4.06590e-02, 3.86000e-04, 2.20000e-05, 5.74100e-02,\n",
       "        5.74060e-02, 0.00000e+00, 0.00000e+00],\n",
       "       [7.52690e-02, 6.67370e-02, 7.02340e-02, 6.38790e-02, 0.00000e+00,\n",
       "        9.10256e-01, 2.68362e-01, 0.00000e+00, 2.32760e-02, 1.22000e-04,\n",
       "        1.30549e-01, 8.10810e-02, 2.73970e-02, 5.45660e-02, 1.02854e-01,\n",
       "        1.52909e-01, 0.00000e+00, 0.00000e+00, 8.99660e-02, 7.53540e-02,\n",
       "        7.96380e-02, 6.26980e-02, 8.56671e-01, 1.08010e-02, 2.53630e-02,\n",
       "        9.96800e-03, 0.00000e+00, 6.66690e-02, 0.00000e+00, 7.16300e-03,\n",
       "        5.82250e-02, 4.16880e-02, 3.86000e-04, 2.20000e-05, 6.26950e-02,\n",
       "        6.27620e-02, 0.00000e+00, 0.00000e+00],\n",
       "       [6.45160e-02, 5.29660e-02, 5.23970e-02, 5.57490e-02, 0.00000e+00,\n",
       "        9.30769e-01, 2.67420e-01, 0.00000e+00, 2.35590e-02, 3.66000e-04,\n",
       "        1.18411e-01, 6.75680e-02, 2.73970e-02, 6.33710e-02, 9.80980e-02,\n",
       "        1.35423e-01, 0.00000e+00, 0.00000e+00, 8.20440e-02, 6.99330e-02,\n",
       "        7.27380e-02, 5.71080e-02, 8.65356e-01, 1.19230e-02, 2.36140e-02,\n",
       "        1.08060e-02, 0.00000e+00, 6.27090e-02, 0.00000e+00, 7.16300e-03,\n",
       "        5.45440e-02, 3.96290e-02, 0.00000e+00, 2.20000e-05, 6.00160e-02,\n",
       "        6.00840e-02, 0.00000e+00, 0.00000e+00],\n",
       "       [1.39785e-01, 1.85381e-01, 1.61650e-01, 1.33566e-01, 0.00000e+00,\n",
       "        9.51282e-01, 2.75895e-01, 0.00000e+00, 3.15070e-02, 2.44000e-04,\n",
       "        1.24152e-01, 8.10810e-02, 2.73970e-02, 7.80340e-02, 1.19699e-01,\n",
       "        1.41592e-01, 0.00000e+00, 0.00000e+00, 1.70593e-01, 1.51919e-01,\n",
       "        1.47428e-01, 1.20124e-01, 9.22414e-01, 1.77880e-02, 5.57980e-02,\n",
       "        1.63530e-02, 0.00000e+00, 1.22148e-01, 0.00000e+00, 1.00290e-02,\n",
       "        1.10016e-01, 7.25680e-02, 7.73000e-04, 4.50000e-05, 1.05408e-01,\n",
       "        1.05400e-01, 0.00000e+00, 0.00000e+00],\n",
       "       [1.18280e-01, 5.40250e-02, 1.01449e-01, 1.23113e-01, 0.00000e+00,\n",
       "        9.41026e-01, 2.70245e-01, 0.00000e+00, 2.93780e-02, 0.00000e+00,\n",
       "        1.21609e-01, 6.75680e-02, 2.73970e-02, 7.20210e-02, 1.15735e-01,\n",
       "        1.39321e-01, 0.00000e+00, 0.00000e+00, 1.48403e-01, 1.27392e-01,\n",
       "        1.23952e-01, 9.94570e-02, 8.55882e-01, 1.85260e-02, 4.33790e-02,\n",
       "        1.69880e-02, 0.00000e+00, 1.03058e-01, 0.00000e+00, 8.59600e-03,\n",
       "        9.15460e-02, 6.02160e-02, 3.86000e-04, 2.20000e-05, 9.16530e-02,\n",
       "        9.16460e-02, 0.00000e+00, 0.00000e+00],\n",
       "       [1.29032e-01, 7.73310e-02, 1.00334e-01, 1.02207e-01, 0.00000e+00,\n",
       "        9.05128e-01, 2.72128e-01, 0.00000e+00, 2.82430e-02, 2.44000e-04,\n",
       "        1.53360e-01, 8.10810e-02, 2.73970e-02, 6.44510e-02, 1.16924e-01,\n",
       "        1.67329e-01, 0.00000e+00, 0.00000e+00, 1.68412e-01, 1.35638e-01,\n",
       "        1.42563e-01, 1.14435e-01, 9.99928e-01, 1.68590e-02, 5.40490e-02,\n",
       "        1.53990e-02, 0.00000e+00, 1.18031e-01, 0.00000e+00, 1.00290e-02,\n",
       "        1.04910e-01, 7.72000e-02, 3.86000e-04, 2.20000e-05, 9.83130e-02,\n",
       "        9.83780e-02, 0.00000e+00, 0.00000e+00],\n",
       "       [6.45160e-02, 7.73310e-02, 6.24300e-02, 6.27180e-02, 0.00000e+00,\n",
       "        9.02564e-01, 2.59887e-01, 0.00000e+00, 2.31340e-02, 1.22000e-04,\n",
       "        1.54516e-01, 8.10810e-02, 2.73970e-02, 5.14940e-02, 1.04836e-01,\n",
       "        1.70584e-01, 0.00000e+00, 0.00000e+00, 1.01313e-01, 6.94330e-02,\n",
       "        7.75490e-02, 5.93560e-02, 9.65980e-01, 8.84600e-03, 2.48380e-02,\n",
       "        8.17600e-03, 0.00000e+00, 6.39310e-02, 0.00000e+00, 7.16300e-03,\n",
       "        5.45440e-02, 4.52910e-02, 0.00000e+00, 1.10000e-05, 5.27040e-02,\n",
       "        5.27000e-02, 0.00000e+00, 0.00000e+00],\n",
       "       [7.52690e-02, 5.93220e-02, 6.80040e-02, 6.27180e-02, 0.00000e+00,\n",
       "        9.15385e-01, 2.68362e-01, 0.00000e+00, 2.78170e-02, 0.00000e+00,\n",
       "        1.47387e-01, 9.45950e-02, 2.73970e-02, 5.67970e-02, 1.21879e-01,\n",
       "        1.65285e-01, 0.00000e+00, 0.00000e+00, 9.52890e-02, 7.68020e-02,\n",
       "        8.04630e-02, 6.34140e-02, 8.43322e-01, 1.48080e-02, 2.60630e-02,\n",
       "        1.35790e-02, 0.00000e+00, 6.70240e-02, 0.00000e+00, 7.16300e-03,\n",
       "        5.86090e-02, 3.86000e-02, 3.86000e-04, 3.40000e-05, 6.25500e-02,\n",
       "        6.25450e-02, 0.00000e+00, 0.00000e+00],\n",
       "       [1.39785e-01, 1.46186e-01, 1.46042e-01, 1.24274e-01, 0.00000e+00,\n",
       "        9.51282e-01, 2.75895e-01, 0.00000e+00, 2.96620e-02, 1.22000e-04,\n",
       "        1.56867e-01, 6.75680e-02, 2.73970e-02, 7.22130e-02, 1.16726e-01,\n",
       "        1.72514e-01, 0.00000e+00, 0.00000e+00, 1.71997e-01, 1.48910e-01,\n",
       "        1.46329e-01, 1.18274e-01, 9.34257e-01, 1.59940e-02, 5.40490e-02,\n",
       "        1.48500e-02, 0.00000e+00, 1.21597e-01, 0.00000e+00, 1.00290e-02,\n",
       "        1.08703e-01, 7.41120e-02, 3.86000e-04, 4.50000e-05, 1.05263e-01,\n",
       "        1.05256e-01, 0.00000e+00, 0.00000e+00],\n",
       "       [1.18280e-01, 9.74580e-02, 1.36009e-01, 1.37050e-01, 0.00000e+00,\n",
       "        9.46154e-01, 2.70245e-01, 0.00000e+00, 3.19330e-02, 0.00000e+00,\n",
       "        1.51048e-01, 6.75680e-02, 2.73970e-02, 8.46920e-02, 1.16132e-01,\n",
       "        1.65891e-01, 0.00000e+00, 0.00000e+00, 1.48181e-01, 1.31716e-01,\n",
       "        1.27443e-01, 1.03594e-01, 9.00380e-01, 1.68270e-02, 4.68780e-02,\n",
       "        1.53700e-02, 0.00000e+00, 1.05855e-01, 0.00000e+00, 1.00290e-02,\n",
       "        9.51150e-02, 5.86720e-02, 3.86000e-04, 3.40000e-05, 9.33900e-02,\n",
       "        9.34560e-02, 0.00000e+00, 0.00000e+00],\n",
       "       [1.07527e-01, 8.47460e-02, 8.91860e-02, 9.52380e-02, 0.00000e+00,\n",
       "        9.20513e-01, 2.67420e-01, 0.00000e+00, 2.72500e-02, 2.44000e-04,\n",
       "        1.34518e-01, 8.10810e-02, 2.73970e-02, 5.90360e-02, 1.16924e-01,\n",
       "        1.49956e-01, 0.00000e+00, 0.00000e+00, 1.47479e-01, 1.11742e-01,\n",
       "        1.23952e-01, 9.94770e-02, 9.03395e-01, 1.32050e-02, 4.61780e-02,\n",
       "        1.21060e-02, 0.00000e+00, 1.02526e-01, 0.00000e+00, 1.14610e-02,\n",
       "        9.11300e-02, 6.53630e-02, 3.86000e-04, 6.70000e-05, 8.65850e-02,\n",
       "        8.66510e-02, 0.00000e+00, 0.00000e+00],\n",
       "       [7.52690e-02, 5.93220e-02, 6.35450e-02, 6.50410e-02, 0.00000e+00,\n",
       "        8.97436e-01, 2.67420e-01, 0.00000e+00, 2.58300e-02, 0.00000e+00,\n",
       "        1.50971e-01, 8.10810e-02, 2.73970e-02, 5.66420e-02, 1.13357e-01,\n",
       "        1.66042e-01, 0.00000e+00, 0.00000e+00, 1.05268e-01, 8.21790e-02,\n",
       "        8.55760e-02, 6.66760e-02, 9.30453e-01, 1.40060e-02, 2.67620e-02,\n",
       "        1.28280e-02, 0.00000e+00, 7.17720e-02, 0.00000e+00, 7.16300e-03,\n",
       "        6.21140e-02, 4.58050e-02, 0.00000e+00, 2.20000e-05, 6.63870e-02,\n",
       "        6.64540e-02, 0.00000e+00, 0.00000e+00],\n",
       "       [1.07527e-01, 9.42800e-02, 1.07023e-01, 1.17305e-01, 0.00000e+00,\n",
       "        9.38462e-01, 2.80603e-01, 0.00000e+00, 3.78940e-02, 1.22000e-04,\n",
       "        1.75092e-01, 1.35135e-01, 5.47950e-02, 7.19840e-02, 1.49822e-01,\n",
       "        1.92801e-01, 0.00000e+00, 0.00000e+00, 1.43524e-01, 1.21111e-01,\n",
       "        1.16722e-01, 9.39270e-02, 8.59111e-01, 1.81090e-02, 4.14550e-02,\n",
       "        1.66710e-02, 0.00000e+00, 9.67140e-02, 0.00000e+00, 8.59600e-03,\n",
       "        8.61530e-02, 5.09520e-02, 3.86000e-04, 2.20000e-05, 8.51370e-02,\n",
       "        8.52030e-02, 0.00000e+00, 0.00000e+00],\n",
       "       [7.52690e-02, 4.66100e-02, 7.13490e-02, 7.66550e-02, 0.00000e+00,\n",
       "        9.28205e-01, 2.69303e-01, 0.00000e+00, 3.16490e-02, 2.44000e-04,\n",
       "        1.31088e-01, 1.08108e-01, 4.10960e-02, 7.22920e-02, 1.24653e-01,\n",
       "        1.49427e-01, 0.00000e+00, 0.00000e+00, 1.25943e-01, 9.30390e-02,\n",
       "        9.54720e-02, 7.53290e-02, 9.80263e-01, 1.58330e-02, 3.28840e-02,\n",
       "        1.45610e-02, 0.00000e+00, 7.87660e-02, 0.00000e+00, 8.59600e-03,\n",
       "        6.89800e-02, 4.94080e-02, 3.86000e-04, 3.40000e-05, 6.45040e-02,\n",
       "        6.45720e-02, 0.00000e+00, 0.00000e+00],\n",
       "       [1.18280e-01, 5.72030e-02, 7.91530e-02, 8.59470e-02, 0.00000e+00,\n",
       "        9.05128e-01, 2.69303e-01, 0.00000e+00, 2.96620e-02, 2.44000e-04,\n",
       "        1.20222e-01, 8.10810e-02, 2.73970e-02, 7.22270e-02, 1.16726e-01,\n",
       "        1.36634e-01, 0.00000e+00, 0.00000e+00, 1.48613e-01, 1.25356e-01,\n",
       "        1.37752e-01, 1.10715e-01, 9.99928e-01, 1.78530e-02, 5.23000e-02,\n",
       "        1.62950e-02, 0.00000e+00, 1.14957e-01, 0.00000e+00, 1.00290e-02,\n",
       "        1.02237e-01, 8.54350e-02, 3.86000e-04, 2.20000e-05, 9.93990e-02,\n",
       "        9.94640e-02, 0.00000e+00, 0.00000e+00],\n",
       "       [6.45160e-02, 5.19070e-02, 5.57410e-02, 6.03950e-02, 0.00000e+00,\n",
       "        9.00000e-01, 2.58945e-01, 0.00000e+00, 2.59720e-02, 0.00000e+00,\n",
       "        1.58100e-01, 8.10810e-02, 2.73970e-02, 5.65820e-02, 1.13357e-01,\n",
       "        1.73271e-01, 0.00000e+00, 0.00000e+00, 8.63070e-02, 6.51430e-02,\n",
       "        6.99340e-02, 5.48010e-02, 9.49401e-01, 1.32050e-02, 2.34390e-02,\n",
       "        1.20770e-02, 0.00000e+00, 5.78630e-02, 0.00000e+00, 7.16300e-03,\n",
       "        5.03830e-02, 3.70560e-02, 3.86000e-04, 2.20000e-05, 4.88670e-02,\n",
       "        4.89360e-02, 0.00000e+00, 0.00000e+00],\n",
       "       [7.52690e-02, 3.17800e-02, 5.46270e-02, 6.27180e-02, 0.00000e+00,\n",
       "        9.33333e-01, 2.67420e-01, 0.00000e+00, 2.25660e-02, 1.22000e-04,\n",
       "        1.31743e-01, 9.45950e-02, 2.73970e-02, 4.62720e-02, 1.06421e-01,\n",
       "        1.49919e-01, 0.00000e+00, 0.00000e+00, 1.07893e-01, 8.22320e-02,\n",
       "        8.85450e-02, 6.84860e-02, 8.81002e-01, 1.31090e-02, 2.86860e-02,\n",
       "        1.19320e-02, 0.00000e+00, 7.53970e-02, 0.00000e+00, 7.16300e-03,\n",
       "        6.47870e-02, 5.40400e-02, 0.00000e+00, 3.40000e-05, 6.74000e-02,\n",
       "        6.74680e-02, 0.00000e+00, 0.00000e+00],\n",
       "       [8.60220e-02, 7.83900e-02, 9.36450e-02, 8.71080e-02, 0.00000e+00,\n",
       "        8.97436e-01, 2.70245e-01, 0.00000e+00, 2.75330e-02, 3.66000e-04,\n",
       "        1.31743e-01, 9.45950e-02, 2.73970e-02, 6.68730e-02, 1.11970e-01,\n",
       "        1.45717e-01, 0.00000e+00, 0.00000e+00, 1.24649e-01, 9.42230e-02,\n",
       "        9.87990e-02, 7.76560e-02, 9.99928e-01, 1.69230e-02, 3.44590e-02,\n",
       "        1.54860e-02, 0.00000e+00, 8.17800e-02, 0.00000e+00, 8.59600e-03,\n",
       "        7.13650e-02, 5.60990e-02, 3.86000e-04, 3.40000e-05, 6.66760e-02,\n",
       "        6.66710e-02, 0.00000e+00, 0.00000e+00]])"
      ]
     },
     "execution_count": 58,
     "metadata": {},
     "output_type": "execute_result"
    }
   ],
   "source": [
    "batch"
   ]
  },
  {
   "cell_type": "code",
   "execution_count": null,
   "id": "aa902c34-31c0-4ac2-b0be-bfc2195ab97e",
   "metadata": {},
   "outputs": [],
   "source": []
  },
  {
   "cell_type": "code",
   "execution_count": null,
   "id": "53dc4cf3-4df2-4a56-bccc-5ebfbb01d543",
   "metadata": {},
   "outputs": [],
   "source": []
  },
  {
   "cell_type": "code",
   "execution_count": null,
   "id": "72f61dbf-eb23-41d0-a857-ac3605d31fb0",
   "metadata": {},
   "outputs": [],
   "source": []
  },
  {
   "cell_type": "code",
   "execution_count": 98,
   "id": "98bc8011-b32e-4b3d-83d5-fa5d4766b18a",
   "metadata": {},
   "outputs": [],
   "source": [
    "import h5py\n",
    "import numpy as np\n",
    "import math\n",
    "\n",
    "from utils import unfold_label, shuffle_data\n",
    "from merlion.models.utils.rolling_window_dataset import RollingWindowDataset\n",
    "\n",
    "\n",
    "class BatchDataGenerator:\n",
    "    def __init__(self, stage, file_path, batch_size):\n",
    "\n",
    "        if stage not in ['train', 'val', 'test']:\n",
    "            assert ValueError('invalid stage!')\n",
    "\n",
    "        self.configuration(stage, file_path)\n",
    "        self.load_data()\n",
    "        self.batch_size = batch_size\n",
    "\n",
    "    def configuration(self, stage, file_path):\n",
    "        self.current_index = -1\n",
    "        self.file_path = file_path\n",
    "        self.stage = stage\n",
    "        self.shuffled = False\n",
    "\n",
    "    def load_data(self):\n",
    "        file_path = self.file_path\n",
    "        f = h5py.File(file_path, \"r\")\n",
    "        self.data = np.array(f['data'])\n",
    "        self.labels = np.array(f['labels'])\n",
    "        f.close()\n",
    "        self.file_num_train = len(self.labels)\n",
    "        print('data num loaded:', self.file_num_train)\n",
    "    \n",
    "    def get_data_labels_batch(self):\n",
    "\n",
    "        data, labels = [], []\n",
    "        labels = []\n",
    "        for index in range(self.batch_size):\n",
    "            self.current_index += 1\n",
    "\n",
    "            # Void overflow\n",
    "            if self.current_index > self.file_num_train - 1:\n",
    "                self.current_index %= self.file_num_train\n",
    "                self.data, self.labels = shuffle_data(samples=self.data, labels=self.labels, seed=self.current_index)\n",
    "\n",
    "            # Slice the data and label\n",
    "            data.append(self.data[self.current_index])\n",
    "            labels.append(self.labels[self.current_index])\n",
    "\n",
    "        data = np.stack(data)\n",
    "        labels = np.stack(labels)\n",
    "        return data, labels\n"
   ]
  },
  {
   "cell_type": "code",
   "execution_count": null,
   "id": "2913d780-8ae6-4c02-af16-6eb1716c0f9a",
   "metadata": {},
   "outputs": [],
   "source": []
  },
  {
   "cell_type": "code",
   "execution_count": 59,
   "id": "61798665-7268-4357-8e10-e824c0aff2f3",
   "metadata": {},
   "outputs": [],
   "source": [
    "file_path = 'data/machine-1-1_features.hdf5'"
   ]
  },
  {
   "cell_type": "code",
   "execution_count": 60,
   "id": "1ebbf6e4-4d0f-4404-87a1-4b6123752ae3",
   "metadata": {},
   "outputs": [],
   "source": [
    "f = h5py.File(file_path, \"r\")\n",
    "data = np.array(f['data'])\n",
    "labels = np.array(f['labels'])"
   ]
  },
  {
   "cell_type": "code",
   "execution_count": 61,
   "id": "c17a8403-8f82-463b-b847-2e5ffb77af4c",
   "metadata": {},
   "outputs": [
    {
     "name": "stdout",
     "output_type": "stream",
     "text": [
      "(28478, 38)\n",
      "(28478, 2)\n"
     ]
    }
   ],
   "source": [
    "print(np.shape(data))\n",
    "print(np.shape(labels))"
   ]
  },
  {
   "cell_type": "code",
   "execution_count": 96,
   "id": "242b2356-f4bc-4942-b269-f4c9af7ec55e",
   "metadata": {},
   "outputs": [],
   "source": [
    "feat_num = 38\n",
    "num_classes = 2\n",
    "batch_size = 1000\n",
    "inner_loops = 451\n",
    "k = 1\n",
    "\n",
    "iter = inner_loops\n",
    "\n",
    "cols = ['value-' + str(i) for i in range(feat_num)] + ['label-' + str(i) for i in range(num_classes)]"
   ]
  },
  {
   "cell_type": "code",
   "execution_count": 105,
   "id": "b953dd0c-e1c6-4a9d-ac55-1c65d315d6c0",
   "metadata": {},
   "outputs": [],
   "source": [
    "if iter * batch_size > len(data):\n",
    "    rep_num = math.ceil(iter * batch_size / len(data)) - 1\n",
    "\n",
    "    data, labels = [data], [labels]\n",
    "    for rep in range(rep_num): \n",
    "        shuffled_data, shuffled_labels = shuffle_data(data, labels, seed=rep)\n",
    "        data.append(shuffled_data)\n",
    "        labels.append(shuffled_labels)\n",
    "\n",
    "data_lab = np.concatenate([data, labels], axis=1)\n",
    "data_ts = TimeSeries.from_pd(pd.DataFrame(data_lab, columns=cols))\n",
    "\n",
    "loader = RollingWindowDataset(\n",
    "            data_ts,\n",
    "            target_seq_index=None,\n",
    "            shuffle=True,\n",
    "            flatten=True,\n",
    "            n_past=k,\n",
    "            n_future=0,\n",
    "            batch_size=batch_size,\n",
    "        )\n",
    "\n",
    "batch_data = [b[0][:, :-num_classes] for b in loader]\n",
    "batch_labels = [b[0][:, -num_classes:] for b in loader]"
   ]
  },
  {
   "cell_type": "code",
   "execution_count": null,
   "id": "a618c5d9-0e65-40f9-bbcd-317de25f5318",
   "metadata": {},
   "outputs": [],
   "source": []
  },
  {
   "cell_type": "code",
   "execution_count": null,
   "id": "a1eacabf-43ce-4334-9d16-e9a35c2ce46a",
   "metadata": {},
   "outputs": [],
   "source": []
  },
  {
   "cell_type": "code",
   "execution_count": null,
   "id": "12c615d1-2c56-49e5-b62a-24fa7062027f",
   "metadata": {},
   "outputs": [],
   "source": []
  },
  {
   "cell_type": "code",
   "execution_count": 116,
   "id": "0b19a529-406b-45d5-a301-c88aa710afc8",
   "metadata": {},
   "outputs": [],
   "source": [
    "batch_data = [b[0][:, :-num_classes] for b in loader]\n",
    "batch_labels = [b[0][:, -num_classes:] for b in loader]"
   ]
  },
  {
   "cell_type": "code",
   "execution_count": 117,
   "id": "a537ae03-023b-44e8-8518-5a04b9327887",
   "metadata": {},
   "outputs": [
    {
     "data": {
      "text/plain": [
       "(1000, 38)"
      ]
     },
     "execution_count": 117,
     "metadata": {},
     "output_type": "execute_result"
    }
   ],
   "source": [
    "np.shape(batch_data[0])"
   ]
  },
  {
   "cell_type": "code",
   "execution_count": 118,
   "id": "d54ab16d-57db-4f35-97b0-377e300301af",
   "metadata": {},
   "outputs": [
    {
     "data": {
      "text/plain": [
       "(1000, 2)"
      ]
     },
     "execution_count": 118,
     "metadata": {},
     "output_type": "execute_result"
    }
   ],
   "source": [
    "np.shape(batch_labels[0])"
   ]
  },
  {
   "cell_type": "code",
   "execution_count": null,
   "id": "88f64626-553d-4c12-89e4-9fe63b324583",
   "metadata": {},
   "outputs": [],
   "source": []
  },
  {
   "cell_type": "code",
   "execution_count": null,
   "id": "9245fa8c-4718-44e3-b412-45d1af287a2a",
   "metadata": {},
   "outputs": [],
   "source": []
  },
  {
   "cell_type": "code",
   "execution_count": null,
   "id": "956a38e9-2627-46e1-a37a-245350ebe7f6",
   "metadata": {},
   "outputs": [],
   "source": []
  },
  {
   "cell_type": "code",
   "execution_count": null,
   "id": "d15ac68d-3731-4d4a-880d-fef8eb5ae907",
   "metadata": {},
   "outputs": [],
   "source": []
  },
  {
   "cell_type": "code",
   "execution_count": 82,
   "id": "2375cf0d-b51e-4d5c-872c-5ce9eb6a59d4",
   "metadata": {},
   "outputs": [
    {
     "name": "stdout",
     "output_type": "stream",
     "text": [
      "0 (1000, 40)\n",
      "1 (1000, 40)\n",
      "2 (1000, 40)\n",
      "3 (1000, 40)\n",
      "4 (1000, 40)\n",
      "5 (1000, 40)\n",
      "6 (1000, 40)\n",
      "7 (1000, 40)\n",
      "8 (1000, 40)\n",
      "9 (1000, 40)\n",
      "10 (1000, 40)\n",
      "11 (1000, 40)\n",
      "12 (1000, 40)\n",
      "13 (1000, 40)\n",
      "14 (1000, 40)\n",
      "15 (1000, 40)\n",
      "16 (1000, 40)\n",
      "17 (1000, 40)\n",
      "18 (1000, 40)\n",
      "19 (1000, 40)\n",
      "20 (1000, 40)\n",
      "21 (1000, 40)\n",
      "22 (1000, 40)\n",
      "23 (1000, 40)\n",
      "24 (1000, 40)\n",
      "25 (1000, 40)\n",
      "26 (1000, 40)\n",
      "27 (1000, 40)\n",
      "28 (478, 40)\n"
     ]
    }
   ],
   "source": [
    "for i, (batch, _, _, _) in enumerate(loader):\n",
    "    print(i, np.shape(batch))"
   ]
  },
  {
   "cell_type": "code",
   "execution_count": null,
   "id": "f202f5a5-29da-4bb4-aa88-fd5390f1dec7",
   "metadata": {},
   "outputs": [],
   "source": []
  },
  {
   "cell_type": "code",
   "execution_count": null,
   "id": "22a3b242-e28f-44c4-90d8-5edc8041ab55",
   "metadata": {},
   "outputs": [],
   "source": []
  },
  {
   "cell_type": "code",
   "execution_count": null,
   "id": "7afb31fb-7ee2-4b06-ba1c-ea5610bfe80a",
   "metadata": {},
   "outputs": [],
   "source": []
  },
  {
   "cell_type": "code",
   "execution_count": null,
   "id": "f03deffa-a905-401c-948f-5f154e498239",
   "metadata": {},
   "outputs": [],
   "source": []
  },
  {
   "cell_type": "code",
   "execution_count": null,
   "id": "bd818915-4b1a-4dc9-b863-01c5330017c8",
   "metadata": {},
   "outputs": [],
   "source": []
  },
  {
   "cell_type": "code",
   "execution_count": null,
   "id": "1e07a49f-eb98-4456-bb43-8d0c5146fb2a",
   "metadata": {},
   "outputs": [],
   "source": []
  },
  {
   "cell_type": "code",
   "execution_count": null,
   "id": "87cd4c5a-2836-4b6b-bc7a-e466e99c3e52",
   "metadata": {},
   "outputs": [],
   "source": [
    "class MLVAE(VAE):\n",
    "    \"\"\"\n",
    "    \"\"\"\n",
    "\n",
    "    def _getVAE(self): \n",
    "        self.model = self._build_model(train_data.shape[1]).to(self.device)\n",
    "        self.data_dim = train_data.shape[1]\n",
    "    \n",
    "    def _train(self, train_data: pd.DataFrame, train_config=None) -> pd.DataFrame:\n",
    "        # self.model = self._build_model(train_data.shape[1]).to(self.device)\n",
    "        # self.data_dim = train_data.shape[1]\n",
    "\n",
    "        # bar = ProgressBar(total=self.num_epochs)\n",
    "        self.model.train()\n",
    "\n",
    "        for epoch in range(self.num_epochs):\n",
    "            # total_loss = 0\n",
    "            for i, (batch, _, _, _) in enumerate(loader):\n",
    "                x = torch.tensor(batch, dtype=torch.float, device=self.device)\n",
    "                recon_x, mu, log_var, _ = self.model(x, None)\n",
    "                recon_loss = loss_func(x, recon_x)\n",
    "                kld_loss = -0.5 * torch.mean(torch.sum(1 + log_var - mu**2 - log_var.exp(), dim=1), dim=0)\n",
    "                loss = recon_loss + kld_loss * self.kld_weight"
   ]
  },
  {
   "cell_type": "code",
   "execution_count": null,
   "id": "9634a01d-5641-4857-967a-2909adf5d4f9",
   "metadata": {},
   "outputs": [],
   "source": [
    "self.model = self._build_model(train_data.shape[1]).to(self.device)\n",
    "self.data_dim = train_data.shape[1]\n",
    "\n",
    "loader = RollingWindowDataset(\n",
    "    train_data,\n",
    "    target_seq_index=None,\n",
    "    shuffle=True,\n",
    "    flatten=True,\n",
    "    n_past=self.k,\n",
    "    n_future=0,\n",
    "    batch_size=self.batch_size,\n",
    ")\n",
    "optimizer = torch.optim.Adam(self.model.parameters(), lr=self.lr)\n",
    "loss_func = nn.MSELoss()\n",
    "bar = ProgressBar(total=self.num_epochs)\n",
    "\n",
    "self.model.train()\n",
    "for epoch in range(self.num_epochs):\n",
    "    total_loss = 0\n",
    "    for i, (batch, _, _, _) in enumerate(loader):\n",
    "        x = torch.tensor(batch, dtype=torch.float, device=self.device)\n",
    "        recon_x, mu, log_var, _ = self.model(x, None)\n",
    "        recon_loss = loss_func(x, recon_x)\n",
    "        kld_loss = -0.5 * torch.mean(torch.sum(1 + log_var - mu**2 - log_var.exp(), dim=1), dim=0)\n",
    "        loss = recon_loss + kld_loss * self.kld_weight\n",
    "        optimizer.zero_grad()\n",
    "        loss.backward()\n",
    "        optimizer.step()\n",
    "        total_loss += loss\n",
    "    if bar is not None:\n",
    "        bar.print(epoch + 1, prefix=\"\", suffix=\"Complete, Loss {:.4f}\".format(total_loss / len(train_data)))\n",
    "return self._get_anomaly_score(train_data)"
   ]
  },
  {
   "cell_type": "code",
   "execution_count": null,
   "id": "84025ac2-004c-4181-9e00-349f202c7644",
   "metadata": {},
   "outputs": [],
   "source": []
  },
  {
   "cell_type": "code",
   "execution_count": null,
   "id": "e87c3525-0cd4-47cc-b211-2acd4681f5cc",
   "metadata": {},
   "outputs": [],
   "source": []
  },
  {
   "cell_type": "code",
   "execution_count": 24,
   "id": "26b5128e-54d8-4585-bf2a-1ee989bed408",
   "metadata": {},
   "outputs": [],
   "source": [
    "from merlion.models.base import NormalizingConfig\n",
    "from merlion.models.anomaly.base import DetectorBase, DetectorConfig"
   ]
  },
  {
   "cell_type": "code",
   "execution_count": 25,
   "id": "d80a2ef6-d6a8-4404-88f1-e854de2a4da2",
   "metadata": {},
   "outputs": [],
   "source": [
    "class VAEConfig(DetectorConfig, NormalizingConfig):\n",
    "    \"\"\"\n",
    "    Configuration class for VAE. The normalization is inherited from `NormalizingConfig`.\n",
    "    The input data will be standardized automatically.\n",
    "    \"\"\"\n",
    "\n",
    "    _default_threshold = AggregateAlarms(alm_threshold=2.5, abs_score=True)\n",
    "\n",
    "    @initializer\n",
    "    def __init__(\n",
    "        self,\n",
    "        encoder_hidden_sizes: Sequence[int] = (25, 10, 5),\n",
    "        decoder_hidden_sizes: Sequence[int] = (5, 10, 25),\n",
    "        latent_size: int = 5,\n",
    "        sequence_len: int = 1,\n",
    "        kld_weight: float = 1.0,\n",
    "        dropout_rate: float = 0.0,\n",
    "        num_eval_samples: int = 10,\n",
    "        lr: float = 1e-3,\n",
    "        batch_size: int = 1024,\n",
    "        num_epochs: int = 10,\n",
    "        **kwargs\n",
    "    ):\n",
    "        \"\"\"\n",
    "        :param encoder_hidden_sizes: The hidden layer sizes of the MLP encoder\n",
    "        :param decoder_hidden_sizes: The hidden layer sizes of the MLP decoder\n",
    "        :param latent_size: The latent size\n",
    "        :param sequence_len: The input series length, e.g., input = [x(t-sequence_len+1)...,x(t-1),x(t)]\n",
    "        :param kld_weight: The regularization weight for the KL divergence term\n",
    "        :param dropout_rate: The dropout rate for the encoder and decoder\n",
    "        :param num_eval_samples: The number of sampled latent variables during prediction\n",
    "        :param lr: The learning rate during training\n",
    "        :param batch_size: The batch size during training\n",
    "        :param num_epochs: The number of training epochs\n",
    "        \"\"\"\n",
    "        super().__init__(**kwargs)"
   ]
  },
  {
   "cell_type": "code",
   "execution_count": 37,
   "id": "37569d0f-1be4-44e9-8d2e-6a6adac28d61",
   "metadata": {},
   "outputs": [
    {
     "data": {
      "text/plain": [
       "{'num_epochs': 10,\n",
       " 'batch_size': 1024,\n",
       " 'lr': 0.001,\n",
       " 'num_eval_samples': 10,\n",
       " 'dropout_rate': 0.0,\n",
       " 'kld_weight': 1.0,\n",
       " 'sequence_len': 1,\n",
       " 'latent_size': 5,\n",
       " 'decoder_hidden_sizes': (5, 10, 25),\n",
       " 'encoder_hidden_sizes': (25, 10, 5),\n",
       " 'transform': {'name': 'Identity'},\n",
       " 'normalize': {'name': 'MeanVarNormalize',\n",
       "  'bias': None,\n",
       "  'scale': None,\n",
       "  'normalize_bias': True,\n",
       "  'normalize_scale': True},\n",
       " 'dim': None,\n",
       " 'enable_threshold': True,\n",
       " 'enable_calibrator': True,\n",
       " 'calibrator': {'max_score': 1000,\n",
       "  'abs_score': True,\n",
       "  'anchors': None,\n",
       "  'name': 'AnomScoreCalibrator'},\n",
       " 'threshold': {'alm_threshold': 2.5,\n",
       "  'abs_score': True,\n",
       "  'min_alm_in_window': 2,\n",
       "  'alm_window_minutes': 60,\n",
       "  'alm_suppress_minutes': 120,\n",
       "  'name': 'AggregateAlarms'}}"
      ]
     },
     "execution_count": 37,
     "metadata": {},
     "output_type": "execute_result"
    }
   ],
   "source": []
  },
  {
   "cell_type": "code",
   "execution_count": null,
   "id": "31e54ff6-222d-48c3-a4e4-34976f120706",
   "metadata": {},
   "outputs": [],
   "source": []
  },
  {
   "cell_type": "code",
   "execution_count": null,
   "id": "e6857421-0085-4bfa-a5f9-1a3a22b829cc",
   "metadata": {},
   "outputs": [],
   "source": []
  },
  {
   "cell_type": "code",
   "execution_count": null,
   "id": "1a4b15c7-196b-4ccc-9b52-b725971ede7a",
   "metadata": {},
   "outputs": [],
   "source": []
  },
  {
   "cell_type": "code",
   "execution_count": null,
   "id": "a251fff2-df43-419e-bc9d-24a0a59da024",
   "metadata": {},
   "outputs": [],
   "source": []
  },
  {
   "cell_type": "code",
   "execution_count": 33,
   "id": "86fc8abb-62ed-4363-b880-229f26b0d996",
   "metadata": {},
   "outputs": [],
   "source": [
    "config, kwargs = VAEConfig().from_dict({}, return_unused_kwargs=True)"
   ]
  },
  {
   "cell_type": "code",
   "execution_count": 41,
   "id": "234525ef-5c92-4205-8420-9fb002a384cb",
   "metadata": {},
   "outputs": [
    {
     "data": {
      "text/plain": [
       "<__main__.VAEConfig at 0x21a228eab60>"
      ]
     },
     "execution_count": 41,
     "metadata": {},
     "output_type": "execute_result"
    }
   ],
   "source": [
    "config"
   ]
  },
  {
   "cell_type": "code",
   "execution_count": 35,
   "id": "19441eb9-0a58-43d0-8f67-26b663c94aef",
   "metadata": {},
   "outputs": [
    {
     "data": {
      "text/plain": [
       "{}"
      ]
     },
     "execution_count": 35,
     "metadata": {},
     "output_type": "execute_result"
    }
   ],
   "source": [
    "kwargs"
   ]
  },
  {
   "cell_type": "code",
   "execution_count": 38,
   "id": "a88e2c11-535f-400c-becd-60e749626c7a",
   "metadata": {},
   "outputs": [],
   "source": [
    "from merlion.models.base import Config"
   ]
  },
  {
   "cell_type": "code",
   "execution_count": 39,
   "id": "fc35c76a-52b6-4641-9c10-bee06b7ac060",
   "metadata": {},
   "outputs": [
    {
     "ename": "AssertionError",
     "evalue": "",
     "output_type": "error",
     "traceback": [
      "\u001b[1;31m---------------------------------------------------------------------------\u001b[0m",
      "\u001b[1;31mAssertionError\u001b[0m                            Traceback (most recent call last)",
      "Cell \u001b[1;32mIn[39], line 1\u001b[0m\n\u001b[1;32m----> 1\u001b[0m \u001b[38;5;28;01massert\u001b[39;00m \u001b[38;5;28misinstance\u001b[39m(VAEConfig, Config)\n",
      "\u001b[1;31mAssertionError\u001b[0m: "
     ]
    }
   ],
   "source": [
    "assert isinstance(VAEConfig, Config)"
   ]
  },
  {
   "cell_type": "code",
   "execution_count": null,
   "id": "ea95b9af-c4a8-4234-86af-5c3bf9abfbd2",
   "metadata": {},
   "outputs": [],
   "source": []
  },
  {
   "cell_type": "code",
   "execution_count": null,
   "id": "12395e53-40f2-4147-98bd-fc8c940909b9",
   "metadata": {},
   "outputs": [],
   "source": []
  },
  {
   "cell_type": "code",
   "execution_count": null,
   "id": "6c749077-0004-48cc-a2ff-4d7367ba3f55",
   "metadata": {},
   "outputs": [],
   "source": []
  },
  {
   "cell_type": "code",
   "execution_count": null,
   "id": "b7ea1dcd-bfd3-4a61-a058-2758ec50d94b",
   "metadata": {},
   "outputs": [],
   "source": []
  },
  {
   "cell_type": "code",
   "execution_count": null,
   "id": "e9134798-ead3-4e23-945a-26ffa2c26d25",
   "metadata": {},
   "outputs": [],
   "source": []
  },
  {
   "cell_type": "code",
   "execution_count": null,
   "id": "26ea7853-f8bc-4039-9a1a-74c4005d64b5",
   "metadata": {},
   "outputs": [],
   "source": []
  },
  {
   "cell_type": "code",
   "execution_count": null,
   "id": "a7f4c4a5-1669-4cda-b639-cf032986051d",
   "metadata": {},
   "outputs": [],
   "source": []
  }
 ],
 "metadata": {
  "kernelspec": {
   "display_name": "Python 3 (ipykernel)",
   "language": "python",
   "name": "python3"
  },
  "language_info": {
   "codemirror_mode": {
    "name": "ipython",
    "version": 3
   },
   "file_extension": ".py",
   "mimetype": "text/x-python",
   "name": "python",
   "nbconvert_exporter": "python",
   "pygments_lexer": "ipython3",
   "version": "3.8.18"
  }
 },
 "nbformat": 4,
 "nbformat_minor": 5
}
